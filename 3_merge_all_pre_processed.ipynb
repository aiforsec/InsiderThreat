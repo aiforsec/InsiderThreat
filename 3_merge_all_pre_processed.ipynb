{
 "cells": [
  {
   "cell_type": "code",
   "execution_count": 1,
   "metadata": {
    "colab": {},
    "colab_type": "code",
    "id": "H6G0XFQSOatl"
   },
   "outputs": [],
   "source": [
    "import pandas as pd\n",
    "from pathlib import Path\n",
    "import re\n",
    "from tqdm import tqdm\n",
    "from sklearn.preprocessing import LabelEncoder\n",
    "import numpy as np\n",
    "import seaborn as sns\n",
    "\n",
    "import dask.dataframe as dd\n",
    "\n",
    "from scipy.sparse import csr_matrix as sparce_matrix\n",
    "\n",
    "tqdm.pandas()\n",
    "\n",
    "# tmp_dir = Path('/')\n",
    "tmp_dir = Path('./')\n"
   ]
  },
  {
   "cell_type": "code",
   "execution_count": 2,
   "metadata": {
    "colab": {},
    "colab_type": "code",
    "id": "u36AyDRO2OnJ"
   },
   "outputs": [],
   "source": [
    "from dask.diagnostics import ProgressBar\n",
    "ProgressBar().register()"
   ]
  },
  {
   "cell_type": "code",
   "execution_count": 3,
   "metadata": {
    "colab": {},
    "colab_type": "code",
    "id": "RUxJfKpugLZx"
   },
   "outputs": [],
   "source": [
    "def reduce_mem_usage(df, ignore_cols=[]):\n",
    "    \"\"\" \n",
    "    iterate through all the columns of a dataframe and \n",
    "    modify the data type to reduce memory usage.        \n",
    "    \"\"\"\n",
    "    start_mem = df.memory_usage().sum() / 1024**2\n",
    "    print(('Memory usage of dataframe is {:.2f}' \n",
    "                     'MB').format(start_mem))\n",
    "    \n",
    "    for col in df.columns:\n",
    "        col_type = df[col].dtype\n",
    "        print(col, col_type)\n",
    "\n",
    "        if col in ignore_cols:\n",
    "            continue\n",
    "        \n",
    "        if col_type != object:\n",
    "            c_min = df[col].min()\n",
    "            c_max = df[col].max()\n",
    "            if str(col_type)[:3] == 'int':\n",
    "                if c_min > np.iinfo(np.int8).min and c_max <\\\n",
    "                  np.iinfo(np.int8).max:\n",
    "                    df[col] = df[col].astype(np.int8)\n",
    "                elif c_min > np.iinfo(np.int16).min and c_max <\\\n",
    "                   np.iinfo(np.int16).max:\n",
    "                    df[col] = df[col].astype(np.int16)\n",
    "                elif c_min > np.iinfo(np.int32).min and c_max <\\\n",
    "                   np.iinfo(np.int32).max:\n",
    "                    df[col] = df[col].astype(np.int32)\n",
    "                elif c_min > np.iinfo(np.int64).min and c_max <\\\n",
    "                   np.iinfo(np.int64).max:\n",
    "                    df[col] = df[col].astype(np.int64)  \n",
    "            else:\n",
    "                if c_min > np.finfo(np.float16).min and c_max <\\\n",
    "                   np.finfo(np.float16).max:\n",
    "                    df[col] = df[col].astype(np.float16)\n",
    "                elif c_min > np.finfo(np.float32).min and c_max <\\\n",
    "                   np.finfo(np.float32).max:\n",
    "                    df[col] = df[col].astype(np.float32)\n",
    "                else:\n",
    "                    df[col] = df[col].astype(np.float64)\n",
    "        else:\n",
    "            df[col] = df[col].astype('category')\n",
    "        print(\"\\tNew dtype:  \", df[col].dtype)\n",
    "    end_mem = df.memory_usage().sum() / 1024**2\n",
    "    print(('Memory usage after optimization is: {:.2f}' \n",
    "                              'MB').format(end_mem))\n",
    "    print('Decreased by {:.1f}%'.format(100 * (start_mem - end_mem) \n",
    "                                             / start_mem))\n",
    "    \n",
    "    return df"
   ]
  },
  {
   "cell_type": "code",
   "execution_count": 4,
   "metadata": {
    "colab": {},
    "colab_type": "code",
    "id": "NWlizQAvpoXV"
   },
   "outputs": [],
   "source": [
    "# preprocessed_dir = Path(f'Datasets/CERT_output/')\n",
    "# assert(preprocessed_dir.is_dir())\n",
    "preprocessed_dir = Path(f'./CERT_output/')\n",
    "assert(preprocessed_dir.is_dir())"
   ]
  },
  {
   "cell_type": "code",
   "execution_count": 9,
   "metadata": {
    "colab": {
     "base_uri": "https://localhost:8080/",
     "height": 136
    },
    "colab_type": "code",
    "id": "Mvz4GoOpPPJ3",
    "outputId": "743de3c9-f466-4c6b-bdd1-9683e83ee5fd"
   },
   "outputs": [
    {
     "name": "stdout",
     "output_type": "stream",
     "text": [
      "logon\n",
      "http\n",
      "device\n",
      "email\n",
      "file\n"
     ]
    }
   ],
   "source": [
    "logon_df = pd.read_csv(preprocessed_dir/ 'logon_preprocessed.csv',\n",
    "                      usecols = ['id', 'date', 'user', 'is_usual_pc', 'is_work_time', 'subtype'])\n",
    "logon_df['type'] = 'logon'\n",
    "print('logon')\n",
    "\n",
    "http_df = pd.read_csv(preprocessed_dir/ 'http_preprocessed.csv',\n",
    "                      usecols = ['id','date', 'user', 'is_usual_pc', 'is_work_time', 'subtype'])\n",
    "http_df['type'] = 'http'\n",
    "# http_df = http_df.drop(http_df[http_df.is_usual_pc == 'is_usual_pc'].index)\n",
    "# http_df = http_df.replace({'is_work_time': {'True': True, 'False': False},\n",
    "#                            'is_usual_pc': {'True': True, 'False': False}})\n",
    "http_df.subtype = http_df.subtype.map(int)\n",
    "print('http')\n",
    "\n",
    "device_df = pd.read_csv(preprocessed_dir/ 'device_preprocessed.csv',\n",
    "                      usecols = ['id','date', 'user', 'is_usual_pc', 'is_work_time', 'subtype'])\n",
    "device_df['type'] = 'device'\n",
    "print('device')\n",
    "\n",
    "email_df = pd.read_csv(preprocessed_dir/ 'email_preprocessed.csv',\n",
    "                      usecols = ['id','date', 'user', 'is_usual_pc', 'is_work_time', 'subtype'])\n",
    "email_df['type'] = 'email'\n",
    "email_df.subtype = email_df.subtype.map({True: 'external', False: 'internal'})\n",
    "print('email')\n",
    "\n",
    "file_df = pd.read_csv(preprocessed_dir/ 'file_preprocessed.csv',\n",
    "                      usecols = ['id','date', 'user', 'is_usual_pc', 'is_work_time', 'subtype'])\n",
    "file_df['type'] = 'file'\n",
    "print('file')"
   ]
  },
  {
   "cell_type": "code",
   "execution_count": 10,
   "metadata": {
    "colab": {
     "base_uri": "https://localhost:8080/",
     "height": 153
    },
    "colab_type": "code",
    "id": "PW1RANh-POi_",
    "outputId": "20075e9e-6767-4210-e121-bac8f8cfe6ba"
   },
   "outputs": [
    {
     "data": {
      "text/plain": [
       "id              58960449\n",
       "date                   0\n",
       "user                   0\n",
       "is_usual_pc            0\n",
       "is_work_time           0\n",
       "subtype                0\n",
       "type                   0\n",
       "dtype: int64"
      ]
     },
     "execution_count": 10,
     "metadata": {},
     "output_type": "execute_result"
    }
   ],
   "source": [
    "df = pd.concat([logon_df, http_df, device_df, email_df, file_df], axis=0)\n",
    "df.isna().sum()"
   ]
  },
  {
   "cell_type": "code",
   "execution_count": 11,
   "metadata": {
    "colab": {},
    "colab_type": "code",
    "id": "7oY4x_uehl2Y"
   },
   "outputs": [],
   "source": [
    "del logon_df\n",
    "del http_df\n",
    "del file_df\n",
    "del device_df\n",
    "del email_df"
   ]
  },
  {
   "cell_type": "code",
   "execution_count": 12,
   "metadata": {
    "colab": {
     "base_uri": "https://localhost:8080/",
     "height": 272
    },
    "colab_type": "code",
    "id": "ZJK3IiDwfOi-",
    "outputId": "5231bf79-2a75-4553-cc05-df920b4b02a2"
   },
   "outputs": [
    {
     "name": "stdout",
     "output_type": "stream",
     "text": [
      "Memory usage of dataframe is 3807.86MB\n",
      "id object\n",
      "date object\n",
      "user object\n",
      "\tNew dtype:   category\n",
      "is_usual_pc bool\n",
      "\tNew dtype:   float16\n",
      "is_work_time bool\n",
      "\tNew dtype:   float16\n",
      "subtype object\n",
      "\tNew dtype:   category\n",
      "type object\n",
      "\tNew dtype:   category\n",
      "Memory usage after optimization is: 2437.13MB\n",
      "Decreased by 36.0%\n"
     ]
    }
   ],
   "source": [
    "df = reduce_mem_usage(df, ignore_cols=['id', 'date'])"
   ]
  },
  {
   "cell_type": "code",
   "execution_count": 13,
   "metadata": {
    "colab": {},
    "colab_type": "code",
    "id": "68wtTIAJ2srT"
   },
   "outputs": [],
   "source": [
    "subtype_encoder = LabelEncoder()\n",
    "\n",
    "df.subtype = df.subtype.map(str)\n",
    "df['subtype'] = subtype_encoder.fit_transform(df['subtype'])\n",
    "\n",
    "type_encoder = LabelEncoder()\n",
    "\n",
    "df['type'] = type_encoder.fit_transform(df['type'])\n",
    "\n",
    "df.is_work_time = df.is_work_time.astype(np.int8)\n",
    "df.is_usual_pc = df.is_usual_pc.astype(np.int8)\n",
    "\n",
    "df['action_id'] = df.is_usual_pc * 32 + df.is_work_time * 16 + df.subtype\n",
    "df = df[['id', 'date', 'user', 'action_id']]\n",
    "df['date'] = pd.to_datetime(df.date, format='%Y/%m/%d %H:%M:%S')\n",
    "\n",
    "df.to_pickle(str(tmp_dir / \"df.pkl\"))\n",
    "del df"
   ]
  },
  {
   "cell_type": "code",
   "execution_count": 14,
   "metadata": {
    "colab": {
     "base_uri": "https://localhost:8080/",
     "height": 68
    },
    "colab_type": "code",
    "id": "brbOyidsqLoC",
    "outputId": "d91ce992-737a-49a6-a190-e0f51048706e"
   },
   "outputs": [
    {
     "name": "stdout",
     "output_type": "stream",
     "text": [
      "email\n",
      "file\n",
      "http\n"
     ]
    }
   ],
   "source": [
    "content_dir = Path(f'./CERT_output/')\n",
    "assert(content_dir.is_dir())\n",
    "\n",
    "email_content_df = pd.read_csv(content_dir/ 'email_lda_content.csv',\n",
    "                      usecols = ['id', 'content'])\n",
    "email_content_df['type'] = 'email'\n",
    "print('email')\n",
    "\n",
    "file_content_df = pd.read_csv(content_dir/ 'file_lda_content.csv',\n",
    "                      usecols = ['id', 'content'])\n",
    "file_content_df['type'] = 'file'\n",
    "print('file')\n",
    "\n",
    "http_content_df = pd.read_csv(content_dir/ 'http_lda_content.csv',\n",
    "                      usecols = ['id', 'content'])\n",
    "http_content_df['type'] = 'http'\n",
    "print('http')"
   ]
  },
  {
   "cell_type": "code",
   "execution_count": 15,
   "metadata": {
    "colab": {
     "base_uri": "https://localhost:8080/",
     "height": 374
    },
    "colab_type": "code",
    "id": "H81lvAR-r3yI",
    "outputId": "846f1c63-8475-4569-9dea-9832c82ec902"
   },
   "outputs": [
    {
     "name": "stdout",
     "output_type": "stream",
     "text": [
      "Memory usage of dataframe is 1317.00MB\n",
      "id object\n",
      "content object\n",
      "type object\n",
      "\tNew dtype:   category\n",
      "Memory usage after optimization is: 932.87MB\n",
      "Decreased by 29.2%\n",
      "Memory usage of dataframe is 81.35MB\n",
      "id object\n",
      "content object\n",
      "type object\n",
      "\tNew dtype:   category\n",
      "Memory usage after optimization is: 57.63MB\n",
      "Decreased by 29.2%\n",
      "Memory usage of dataframe is 4287.37MB\n",
      "id object\n",
      "content object\n",
      "type object\n",
      "\tNew dtype:   category\n",
      "Memory usage after optimization is: 3036.89MB\n",
      "Decreased by 29.2%\n"
     ]
    }
   ],
   "source": [
    "email_content_df = reduce_mem_usage(email_content_df, ignore_cols=['id', 'content'])\n",
    "file_content_df = reduce_mem_usage(file_content_df, ignore_cols=['id', 'content'])\n",
    "http_content_df = reduce_mem_usage(http_content_df, ignore_cols=['id', 'content'])"
   ]
  },
  {
   "cell_type": "code",
   "execution_count": 16,
   "metadata": {
    "colab": {},
    "colab_type": "code",
    "id": "uh8K4iKirbgb"
   },
   "outputs": [],
   "source": [
    "df_content = pd.concat([email_content_df, file_content_df, http_content_df], axis=0)"
   ]
  },
  {
   "cell_type": "code",
   "execution_count": 17,
   "metadata": {
    "colab": {},
    "colab_type": "code",
    "id": "P05Cfsfltk9Y"
   },
   "outputs": [],
   "source": [
    "del email_content_df\n",
    "del file_content_df\n",
    "del http_content_df"
   ]
  },
  {
   "cell_type": "code",
   "execution_count": 18,
   "metadata": {
    "colab": {
     "base_uri": "https://localhost:8080/",
     "height": 136
    },
    "colab_type": "code",
    "id": "HwnWS14ruCQk",
    "outputId": "370ae897-f772-46ee-ed7b-2352f18f3329"
   },
   "outputs": [
    {
     "name": "stdout",
     "output_type": "stream",
     "text": [
      "Memory usage of dataframe is 7580.96MB\n",
      "id object\n",
      "content object\n",
      "type object\n",
      "\tNew dtype:   category\n",
      "Memory usage after optimization is: 5922.62MB\n",
      "Decreased by 21.9%\n"
     ]
    }
   ],
   "source": [
    "df_content = reduce_mem_usage(df_content, ignore_cols=['id', 'content'])"
   ]
  },
  {
   "cell_type": "code",
   "execution_count": 19,
   "metadata": {
    "colab": {},
    "colab_type": "code",
    "id": "xGQkpOlvuMd9"
   },
   "outputs": [],
   "source": [
    "df_content.to_csv(str(tmp_dir / 'df_content.csv'))"
   ]
  },
  {
   "cell_type": "code",
   "execution_count": 5,
   "metadata": {
    "colab": {
     "base_uri": "https://localhost:8080/",
     "height": 34
    },
    "colab_type": "code",
    "id": "e82c1YNZxrsU",
    "outputId": "74cd9b36-4826-4484-c733-6c21999a858f",
    "pycharm": {
     "is_executing": true
    }
   },
   "outputs": [
    {
     "name": "stdout",
     "output_type": "stream",
     "text": [
      "[########################################] | 100% Completed |  9min 42.3s\n"
     ]
    }
   ],
   "source": [
    "df_content = dd.read_csv(str(tmp_dir / 'df_content.csv'))\\\n",
    "    .set_index('id').drop('Unnamed: 0', axis=1)\n",
    "df = pd.read_pickle(str(tmp_dir / \"df.pkl\"))\n",
    "# df = dd.read_csv('/df.csv').set_index('id').drop('Unnamed: 0', axis=1)\n",
    "\n",
    "# Merge the csv files.\n",
    "df = dd.merge(df_content, df, how='inner', on=['id'])"
   ]
  },
  {
   "cell_type": "code",
   "execution_count": 6,
   "metadata": {
    "colab": {
     "base_uri": "https://localhost:8080/",
     "height": 34
    },
    "colab_type": "code",
    "id": "ibG277rox-bE",
    "outputId": "558cc585-de1e-4279-c054-22b1808cdc08",
    "pycharm": {
     "is_executing": true
    }
   },
   "outputs": [
    {
     "name": "stdout",
     "output_type": "stream",
     "text": [
      "[########################################] | 100% Completed |  3hr 17min 10.8s\n"
     ]
    }
   ],
   "source": [
    "# df.to_csv('/result2.csv', index=False, single_file=True)\n",
    "df.to_parquet(str(tmp_dir / 'df_merged.parquet'))"
   ]
  },
  {
   "cell_type": "code",
   "execution_count": null,
   "metadata": {
    "colab": {
     "base_uri": "https://localhost:8080/",
     "height": 221
    },
    "colab_type": "code",
    "id": "eb-rBktKSFh8",
    "outputId": "468ce4ea-5a08-4ae9-f55b-b6036b0c494d",
    "pycharm": {
     "is_executing": true
    }
   },
   "outputs": [
    {
     "name": "stderr",
     "output_type": "stream",
     "text": [
      "/usr/local/lib/python3.7/site-packages/ipykernel_launcher.py:5: UserWarning: `meta` is not specified, inferred from partial data. Please provide `meta` if the result is unexpected.\n",
      "  Before: .apply(func)\n",
      "  After:  .apply(func, meta={'x': 'f8', 'y': 'f8'}) for dataframe result\n",
      "  or:     .apply(func, meta=('x', 'f8'))            for series result\n",
      "  \"\"\"\n",
      "/usr/local/lib/python3.7/site-packages/ipykernel_launcher.py:7: UserWarning: `meta` is not specified, inferred from partial data. Please provide `meta` if the result is unexpected.\n",
      "  Before: .apply(func)\n",
      "  After:  .apply(func, meta={'x': 'f8', 'y': 'f8'}) for dataframe result\n",
      "  or:     .apply(func, meta=('x', 'f8'))            for series result\n",
      "  import sys\n"
     ]
    },
    {
     "name": "stdout",
     "output_type": "stream",
     "text": [
      "[#########                               ] | 24% Completed |  1hr 24min  0.1s"
     ]
    }
   ],
   "source": [
    "df = df.reset_index().drop(['index', 'type'], axis=1)\n",
    "df['day'] = df.date.dt.floor('D')\n",
    "df.set_index('date')\n",
    "\n",
    "action_id_lists = df.groupby(['user', 'day'], sort=True)\\\n",
    "    ['action_id'].apply(list)\n",
    "\n",
    "content_lists = df.groupby(['user', 'day'], sort=True)\\\n",
    "    ['content'].apply(list)\n",
    "\n",
    "action_id_lists = action_id_lists.reset_index().dropna()\n",
    "content_lists = content_lists.reset_index().dropna()\n",
    "\n",
    "df_merged = dd.merge(action_id_lists, content_lists, how='inner', on=['user', 'day'])\n",
    "\n",
    "df_merged.to_csv(str(tmp_dir / \"aggregated_merged_df.csv\"), index=False, single_file=True)\n",
    "df = df_merged"
   ]
  },
  {
   "cell_type": "code",
   "execution_count": null,
   "metadata": {
    "colab": {},
    "colab_type": "code",
    "id": "OiezHs8Mhu0H",
    "pycharm": {
     "is_executing": true
    }
   },
   "outputs": [],
   "source": [
    "\n",
    "answers_dir = Path(r\"../CERT_DATA/ftp.sei.cmu.edu/pub/cert-data/answers\")\n",
    "answers_csv = answers_dir/\"insiders.csv\"\n",
    "dataset_version = '4.2'\n",
    "assert(answers_csv.is_file())\n",
    "\n",
    "main_df = pd.read_csv(answers_csv)\n",
    "main_df = main_df[main_df['dataset'].astype(str) == str(dataset_version)]\\\n",
    "    .drop(['dataset', 'details'], axis=1)\n",
    "\n",
    "main_df['start'] = pd.to_datetime(main_df['start'], format='%m/%d/%Y %H:%M:%S')\n",
    "main_df['end'] = pd.to_datetime(main_df['end'], format='%m/%d/%Y %H:%M:%S')"
   ]
  },
  {
   "cell_type": "code",
   "execution_count": null,
   "metadata": {
    "colab": {},
    "colab_type": "code",
    "id": "nTRw40BZluLu",
    "pycharm": {
     "is_executing": true
    }
   },
   "outputs": [],
   "source": [
    "df = pd.read_csv(str(tmp_dir / \"aggregated_merged_df.csv\"))\n",
    "df['day'] = pd.to_datetime(df['day'])"
   ]
  },
  {
   "cell_type": "code",
   "execution_count": null,
   "metadata": {
    "colab": {},
    "colab_type": "code",
    "id": "kuRX4f76mNLa",
    "pycharm": {
     "is_executing": true
    }
   },
   "outputs": [],
   "source": [
    "df = df.merge(main_df, left_on='user', right_on='user', how='left')\n",
    "\n",
    "df['malicious'] = (df.day >= df.start) & (df.day <= df.end)\n",
    "df = df.drop(['start', 'end', 'day', 'user'], axis=1)\n",
    "\n",
    "df.loc[df['malicious'] == False, 'scenario'] = 0\n",
    "\n",
    "# df.to_csv(preprocessed_dir / 'aggregated_merged_df.csv', index=False)\n",
    "df.to_csv(str(tmp_dir / 'aggregated_merged_answers_df.csv'), index=False)"
   ]
  },
  {
   "cell_type": "code",
   "execution_count": null,
   "metadata": {
    "colab": {},
    "colab_type": "code",
    "id": "GNwSa_cv6WF7",
    "pycharm": {
     "is_executing": true
    }
   },
   "outputs": [],
   "source": [
    "%cp \"/aggregated_merged_answers_df.csv\" \"aggregated_merged_answers_df.csv\""
   ]
  },
  {
   "cell_type": "code",
   "execution_count": null,
   "metadata": {
    "colab": {
     "base_uri": "https://localhost:8080/",
     "height": 34
    },
    "colab_type": "code",
    "id": "cwztmjdR6raf",
    "outputId": "8024d7c2-32e6-426d-cded-fe0311b12b73",
    "pycharm": {
     "is_executing": true
    }
   },
   "outputs": [],
   "source": [
    "Path('aggregated_merged_answers_df.csv').is_file()"
   ]
  },
  {
   "cell_type": "code",
   "execution_count": null,
   "metadata": {
    "colab": {
     "base_uri": "https://localhost:8080/",
     "height": 170
    },
    "colab_type": "code",
    "id": "yqAzHpBVJJnh",
    "outputId": "0953a868-7544-4eda-d7c6-b397bebd8f44",
    "pycharm": {
     "is_executing": true
    }
   },
   "outputs": [],
   "source": [
    "import pandas as pd\n",
    "import ast\n",
    "df = pd.read_csv(str(tmp_dir / 'aggregated_merged_answers_df.csv'),)\n",
    "df = reduce_mem_usage(df, ignore_cols=['action_id', 'content'])"
   ]
  },
  {
   "cell_type": "code",
   "execution_count": null,
   "metadata": {
    "colab": {},
    "colab_type": "code",
    "id": "8OiV3wyWsgnw",
    "pycharm": {
     "is_executing": true
    }
   },
   "outputs": [],
   "source": [
    "def parse_action_row(row):\n",
    "    row = ast.literal_eval(row)\n",
    "    action_list = []\n",
    "    for action_num, action in enumerate(row):\n",
    "        action = ast.literal_eval(action)\n",
    "        action_list.append(action)\n",
    "    return action_list\n",
    "\n",
    "# for idx, row in tqdm(enumerate(content_array)):\n",
    "#     content_array[idx] = parse_action_row(row)"
   ]
  },
  {
   "cell_type": "code",
   "execution_count": null,
   "metadata": {
    "colab": {
     "base_uri": "https://localhost:8080/",
     "height": 88
    },
    "colab_type": "code",
    "id": "rbL9wvidtnRP",
    "outputId": "75655e4a-0b73-404c-8d63-462514ca00cb",
    "pycharm": {
     "is_executing": true
    }
   },
   "outputs": [],
   "source": [
    "from scipy.sparse import csc_matrix\n",
    "\n",
    "pbar = tqdm(total=df.shape[0])\n",
    "for idx, row in df.iterrows():\n",
    "    \n",
    "    row.content = ast.literal_eval(row.content)\n",
    "\n",
    "    # content = np.zeros((len(row), 100))\n",
    "    content = csc_matrix((len(row.content), 100))\n",
    "\n",
    "    for action_num, action in enumerate(row.content):\n",
    "        action = ast.literal_eval(action)\n",
    "        for topic, prob in action:\n",
    "            content[action_num, topic] = prob\n",
    "\n",
    "    row.action_id = ast.literal_eval(row.action_id)\n",
    "\n",
    "    df.at[idx,'action_id'] = row.action_id\n",
    "    df.at[idx,'content'] = content\n",
    "    if idx % 100 == 0:\n",
    "        pbar.update(100)\n",
    "\n",
    "# with open('content_array.pkl', 'wb') as handle:\n",
    "#     pickle.dump(content_array, handle)\n",
    "df.to_pickle('df_final.pkl')"
   ]
  },
  {
   "cell_type": "code",
   "execution_count": null,
   "metadata": {
    "colab": {
     "base_uri": "https://localhost:8080/",
     "height": 34
    },
    "colab_type": "code",
    "id": "Lhc2M9RgxS8W",
    "outputId": "190dc1e6-9d35-4963-9de1-e43be5c738b7",
    "pycharm": {
     "is_executing": true
    }
   },
   "outputs": [],
   "source": [
    "len(df['action_id'][444])"
   ]
  },
  {
   "cell_type": "code",
   "execution_count": null,
   "metadata": {
    "colab": {
     "base_uri": "https://localhost:8080/",
     "height": 34
    },
    "colab_type": "code",
    "id": "mqNnEWaQ6mkB",
    "outputId": "469641bf-079e-4063-c6c0-e7db94e1fe08",
    "pycharm": {
     "is_executing": true
    }
   },
   "outputs": [],
   "source": [
    "df.content[444].shape[0]"
   ]
  },
  {
   "cell_type": "code",
   "execution_count": null,
   "metadata": {
    "colab": {},
    "colab_type": "code",
    "id": "EmUhOAlBB34L",
    "pycharm": {
     "is_executing": true
    }
   },
   "outputs": [],
   "source": [
    "import pickle\n",
    "with open('content_array.pkl', 'rb') as handle:\n",
    "    content_array = pickle.load(handle)"
   ]
  },
  {
   "cell_type": "code",
   "execution_count": null,
   "metadata": {
    "colab": {},
    "colab_type": "code",
    "id": "PwTSg1FXAh6B",
    "pycharm": {
     "is_executing": true
    }
   },
   "outputs": [],
   "source": [
    " from scipy.sparse import csc_matrix\n",
    "\n",
    "a = csc_matrix(a)\n",
    "csc_matrix((a.data, a.indices, a.indptr), shape=(200, 100))"
   ]
  },
  {
   "cell_type": "code",
   "execution_count": null,
   "metadata": {
    "colab": {
     "base_uri": "https://localhost:8080/",
     "height": 34
    },
    "colab_type": "code",
    "id": "Fnqb1BP9-0hb",
    "outputId": "164fe9bd-92d7-40b7-8812-1df71a4c986b",
    "pycharm": {
     "is_executing": true
    }
   },
   "outputs": [],
   "source": [
    "for idx, topic_matrix in tqdm(enumerate(content_array)):\n",
    "\n",
    "    a = csc_matrix(topic_matrix)\n",
    "    # a = csc_matrix((a.data, a.indices, a.indptr), shape=(200, 100))\n",
    "    content_array[idx] = a"
   ]
  },
  {
   "cell_type": "code",
   "execution_count": null,
   "metadata": {
    "colab": {},
    "colab_type": "code",
    "id": "0x42nIiQ7Heq",
    "pycharm": {
     "is_executing": true
    }
   },
   "outputs": [],
   "source": [
    "df['day'] = df.date.dt.floor('D')"
   ]
  },
  {
   "cell_type": "code",
   "execution_count": null,
   "metadata": {
    "colab": {},
    "colab_type": "code",
    "id": "beX_-IS485Us",
    "pycharm": {
     "is_executing": true
    }
   },
   "outputs": [],
   "source": [
    "df = df.sort_values(['user', 'date'])"
   ]
  },
  {
   "cell_type": "code",
   "execution_count": null,
   "metadata": {
    "colab": {},
    "colab_type": "code",
    "id": "SmeB904kAGeQ",
    "pycharm": {
     "is_executing": true
    }
   },
   "outputs": [],
   "source": [
    "df = df.reset_index().drop(['index', 'date'], axis=1)"
   ]
  },
  {
   "cell_type": "code",
   "execution_count": null,
   "metadata": {
    "colab": {},
    "colab_type": "code",
    "id": "ZNv-_lpP8ZG7",
    "pycharm": {
     "is_executing": true
    }
   },
   "outputs": [],
   "source": [
    "result = df.groupby(['user', 'day'], sort=False, as_index=True).agg(list)"
   ]
  },
  {
   "cell_type": "code",
   "execution_count": null,
   "metadata": {
    "colab": {},
    "colab_type": "code",
    "id": "9bfTuOm2_hLV",
    "pycharm": {
     "is_executing": true
    }
   },
   "outputs": [],
   "source": [
    "aggregated = result"
   ]
  },
  {
   "cell_type": "code",
   "execution_count": null,
   "metadata": {
    "colab": {},
    "colab_type": "code",
    "id": "_CyRD8jGC3rT",
    "pycharm": {
     "is_executing": true
    }
   },
   "outputs": [],
   "source": [
    "aggregated.to_pickle(\"aggregated.pkl\")"
   ]
  },
  {
   "cell_type": "code",
   "execution_count": null,
   "metadata": {
    "colab": {},
    "colab_type": "code",
    "id": "v0O-q8GJC7vM",
    "pycharm": {
     "is_executing": true
    }
   },
   "outputs": [],
   "source": [
    "aggregated = aggregated.reset_index().dropna().drop(['user', 'day'], axis=1)"
   ]
  },
  {
   "cell_type": "code",
   "execution_count": null,
   "metadata": {
    "colab": {
     "base_uri": "https://localhost:8080/",
     "height": 297
    },
    "colab_type": "code",
    "id": "KWsYeRlmEan0",
    "outputId": "35b82056-4f05-40c3-cc21-b19470a84ff6",
    "pycharm": {
     "is_executing": true
    }
   },
   "outputs": [],
   "source": [
    "sns.distplot(aggregated.action_id.map(len))"
   ]
  },
  {
   "cell_type": "code",
   "execution_count": null,
   "metadata": {
    "colab": {
     "base_uri": "https://localhost:8080/",
     "height": 204
    },
    "colab_type": "code",
    "id": "sBPhLasdFJaJ",
    "outputId": "fe7b50e3-8b3f-4132-8eab-2cb0e02fff14",
    "pycharm": {
     "is_executing": true
    }
   },
   "outputs": [],
   "source": [
    "aggregated.head()"
   ]
  },
  {
   "cell_type": "code",
   "execution_count": null,
   "metadata": {
    "colab": {
     "base_uri": "https://localhost:8080/",
     "height": 173
    },
    "colab_type": "code",
    "id": "YYWsTnLJGBCW",
    "outputId": "0771d135-1c9e-441d-caf2-e1dcb6d7001e",
    "pycharm": {
     "is_executing": true
    }
   },
   "outputs": [],
   "source": [
    "aggregated.values"
   ]
  }
 ],
 "metadata": {
  "colab": {
   "authorship_tag": "ABX9TyMWcP5Ks+JTRCmuQBzaE6NI",
   "collapsed_sections": [
    "5rWTDPYs_3HV"
   ],
   "name": "CERT-batching.ipynb",
   "provenance": [],
   "toc_visible": true
  },
  "kernelspec": {
   "display_name": "Python 3",
   "language": "python",
   "name": "python3"
  },
  "language_info": {
   "codemirror_mode": {
    "name": "ipython",
    "version": 3
   },
   "file_extension": ".py",
   "mimetype": "text/x-python",
   "name": "python",
   "nbconvert_exporter": "python",
   "pygments_lexer": "ipython3",
   "version": "3.7.6"
  }
 },
 "nbformat": 4,
 "nbformat_minor": 1
}
