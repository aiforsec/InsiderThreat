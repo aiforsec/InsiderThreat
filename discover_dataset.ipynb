{
 "cells": [
  {
   "cell_type": "code",
   "execution_count": 2,
   "metadata": {
    "collapsed": true,
    "pycharm": {
     "name": "#%%\n"
    }
   },
   "outputs": [],
   "source": [
    "from pathlib import Path\n",
    "answers_dir = Path(r\"../CERT_DATA/ftp.sei.cmu.edu/pub/cert-data/answers\")\n",
    "dataset_dir = Path(r\"../CERT_DATA/ftp.sei.cmu.edu/pub/cert-data/r5.2\")\n",
    "\n",
    "main_answers_file = answers_dir / \"insiders.csv\""
   ]
  },
  {
   "cell_type": "markdown",
   "source": [
    "# Detail of malicious user"
   ],
   "metadata": {
    "collapsed": false,
    "pycharm": {
     "name": "#%% md\n"
    }
   }
  },
  {
   "cell_type": "code",
   "execution_count": 4,
   "outputs": [],
   "source": [
    "insider_files = list(answers_dir.glob('**/r5.2*.csv'))\n",
    "# insider_files"
   ],
   "metadata": {
    "collapsed": false,
    "pycharm": {
     "name": "#%%\n"
    }
   }
  },
  {
   "cell_type": "code",
   "execution_count": 8,
   "outputs": [
    {
     "data": {
      "text/plain": "          0                         1                    2        3        4   \\\n0      logon  {K3V4-Y4OK65SI-1583GEOQ}  10/23/2010 01:34:19  AAM0658  PC-9923   \n1     device  {H1L0-X7RH83FI-5967VUQY}  10/23/2010 06:18:48  AAM0658  PC-9923   \n2       http  {Y4Q9-U5VQ11UG-1279ZPTL}  10/23/2010 06:26:01  AAM0658  PC-9923   \n3     device  {W7C0-G1SW41KB-1991BUTL}  10/23/2010 06:26:48  AAM0658  PC-9923   \n4      logon  {C7T3-B4IY16JF-6945LOFC}  10/23/2010 06:28:17  AAM0658  PC-9923   \n5      logon  {S8Q1-Z1OG01ED-8756DWPR}  10/29/2010 00:06:47  AAM0658  PC-9923   \n6     device  {S1J0-Z2ZX87IX-2607ZUXY}  10/29/2010 01:30:10  AAM0658  PC-9923   \n7       http  {Z8E0-S5AG27DJ-3234IKCE}  10/29/2010 01:36:11  AAM0658  PC-9923   \n8     device  {V6D8-B3FZ26HT-3583PJAI}  10/29/2010 05:00:19  AAM0658  PC-9923   \n9      logon  {J6L0-W5OJ26KB-8630RYVJ}  10/29/2010 05:23:28  AAM0658  PC-9923   \n10     logon  {H5M9-E4GU47TS-2991DMNK}  09/21/2010 01:16:22  BLS0678  PC-6031   \n11    device  {S1T0-E5SZ35TF-5143KLFY}  09/21/2010 02:46:59  BLS0678  PC-6031   \n12      http  {N7J5-Z3BW40PP-9252FCEK}  09/21/2010 02:47:56  BLS0678  PC-6031   \n13    device  {R4T0-A0VP51YA-2744THEC}  09/21/2010 02:48:37  BLS0678  PC-6031   \n14     logon  {M3M4-C8YB70JN-4776PTQV}  09/21/2010 03:44:49  BLS0678  PC-6031   \n15     logon  {Y3V9-J3OX51PK-1617PXNW}  09/29/2010 17:36:12  BLS0678  PC-6031   \n16    device  {F0D4-X4BP77OM-1802ULCG}  09/29/2010 18:52:55  BLS0678  PC-6031   \n17      http  {X8W9-N2TW91WV-9895JKUB}  09/29/2010 19:01:18  BLS0678  PC-6031   \n18    device  {E3P0-I0CM71JW-7152TNLM}  09/29/2010 19:05:29  BLS0678  PC-6031   \n19     logon  {A4M8-E2JY79ZI-1744AMBM}  09/30/2010 04:48:19  BLS0678  PC-6031   \n20     logon  {K1B2-N6OZ19XO-7148MLSP}  07/13/2010 20:15:23  BIH0745  PC-2661   \n21    device  {Y3M2-Z6XM78GC-6283GEZU}  07/13/2010 21:06:06  BIH0745  PC-2661   \n22      http  {O4T8-D4QZ55FR-8512IAJW}  07/13/2010 21:06:44  BIH0745  PC-2661   \n23    device  {S7Z7-F8GG07WE-5470ZMDD}  07/13/2010 21:09:08  BIH0745  PC-2661   \n24     logon  {I4V0-J7OH43HZ-7956NEXE}  07/13/2010 21:20:44  BIH0745  PC-2661   \n25     logon  {L1A0-X3OD03QV-9450KGJI}  11/25/2010 06:35:11  FTM0406  PC-1786   \n26    device  {Y5K5-C6AF28XA-5238BVTN}  11/25/2010 06:45:46  FTM0406  PC-1786   \n27      http  {N5G9-W9SS50SL-9399ZFUG}  11/25/2010 06:45:57  FTM0406  PC-1786   \n28    device  {S0F7-W2LZ64WJ-4108ZIKN}  11/25/2010 06:46:03  FTM0406  PC-1786   \n29     logon  {M4Y1-P1MF23RY-1605UHAS}  11/25/2010 06:51:18  FTM0406  PC-1786   \n...      ...                       ...                  ...      ...      ...   \n7293  device  {F0P9-A1KZ99RF-7804VUPC}  10/20/2010 16:07:43  HXL0968  PC-0623   \n7294  device  {R0K0-W9PG22WU-1870RSXQ}  10/20/2010 16:13:49  HXL0968  PC-0623   \n7295  device  {E9P6-E0NH58EG-1521THQM}  10/20/2010 16:16:39  HXL0968  PC-0623   \n7296  device  {G6W2-L4KI05IK-5038CJVG}  10/20/2010 16:17:21  HXL0968  PC-0623   \n7297  device  {X4R2-M1YR64WR-4796PKRL}  10/25/2010 10:12:43  HXL0968  PC-0623   \n7298  device  {K8L3-D2PP50WX-6785HIVT}  10/25/2010 10:15:02  HXL0968  PC-0623   \n7299  device  {O0F8-S6NR58QE-5391JBFV}  10/25/2010 10:19:16  HXL0968  PC-0623   \n7300  device  {Z7F1-Y7RF75AP-5043RLTM}  10/25/2010 10:19:35  HXL0968  PC-0623   \n7301  device  {E6W7-X9ST43JK-5328WBSK}  10/25/2010 13:41:18  HXL0968  PC-0623   \n7302  device  {L0N9-K9AH69CU-8738ZKJW}  10/25/2010 13:42:39  HXL0968  PC-0623   \n7303  device  {C8W6-B3MN68SN-6557QMDD}  10/25/2010 13:43:19  HXL0968  PC-0623   \n7304  device  {D5X4-I3LJ23BP-6879CTEJ}  10/25/2010 13:44:09  HXL0968  PC-0623   \n7305  device  {Z3E4-T8XT30EY-5355UYBM}  10/25/2010 13:44:34  HXL0968  PC-0623   \n7306  device  {Y9F9-L8BV40TH-3284OKIN}  10/25/2010 13:54:51  HXL0968  PC-0623   \n7307  device  {I2V2-B5PI66GC-4209VEIH}  10/25/2010 14:35:50  HXL0968  PC-0623   \n7308  device  {C9N1-I0GX23LA-6310TRZI}  10/25/2010 14:38:25  HXL0968  PC-0623   \n7309  device  {U1L9-G0SI43HV-1554PPAJ}  10/28/2010 07:27:17  HXL0968  PC-0623   \n7310  device  {O1L9-A4IZ62UC-4403REJU}  10/28/2010 07:28:05  HXL0968  PC-0623   \n7311  device  {S8H8-I9XJ50OH-3982KKWJ}  10/28/2010 07:29:26  HXL0968  PC-0623   \n7312  device  {C7Q4-K1YV39RY-1935WXMB}  10/28/2010 08:06:52  HXL0968  PC-0623   \n7313  device  {Q4V1-E1FN69FB-9341VXJM}  10/28/2010 09:59:44  HXL0968  PC-0623   \n7314  device  {J3F1-V7WW25LN-1349JSBQ}  10/28/2010 10:00:26  HXL0968  PC-0623   \n7315  device  {P5C9-Z5KN55XS-3935QHVL}  10/28/2010 10:44:46  HXL0968  PC-0623   \n7316  device  {S7I9-H3YF68OL-0269KDVY}  10/28/2010 10:47:08  HXL0968  PC-0623   \n7317  device  {G3Q3-A0MF24NJ-0108CENH}  10/28/2010 11:37:13  HXL0968  PC-0623   \n7318  device  {Q5N8-K4EN95HK-2243EPIG}  10/28/2010 12:03:48  HXL0968  PC-0623   \n7319  device  {D7J4-N9MC42TZ-5629DURP}  10/28/2010 13:12:51  HXL0968  PC-0623   \n7320  device  {Z6G3-O9BC99TH-0510BHQS}  10/28/2010 13:28:30  HXL0968  PC-0623   \n7321  device  {Q1L7-B7RT17KS-5095WMYJ}  10/28/2010 15:56:48  HXL0968  PC-0623   \n7322  device  {E4P6-T4ZR03PD-6618BJEK}  10/28/2010 16:06:01  HXL0968  PC-0623   \n\n                                                     5   \\\n0                                                 Logon   \n1                                               Connect   \n2     http://wikileaks.org/Julian_Assange/assange/Th...   \n3                                            Disconnect   \n4                                                Logoff   \n5                                                 Logon   \n6                                               Connect   \n7     http://wikileaks.org/Julian_Assange/assange/Th...   \n8                                            Disconnect   \n9                                                Logoff   \n10                                                Logon   \n11                                              Connect   \n12    http://wikileaks.org/Julian_Assange/assange/Th...   \n13                                           Disconnect   \n14                                               Logoff   \n15                                                Logon   \n16                                              Connect   \n17    http://wikileaks.org/Julian_Assange/assange/Th...   \n18                                           Disconnect   \n19                                               Logoff   \n20                                                Logon   \n21                                              Connect   \n22    http://wikileaks.org/Julian_Assange/assange/Th...   \n23                                           Disconnect   \n24                                               Logoff   \n25                                                Logon   \n26                                              Connect   \n27    http://wikileaks.org/Julian_Assange/assange/Th...   \n28                                           Disconnect   \n29                                               Logoff   \n...                                                 ...   \n7293                                            Connect   \n7294                                         Disconnect   \n7295                                            Connect   \n7296                                         Disconnect   \n7297                                            Connect   \n7298                                         Disconnect   \n7299                                            Connect   \n7300                                         Disconnect   \n7301                                            Connect   \n7302                                         Disconnect   \n7303                                            Connect   \n7304                                         Disconnect   \n7305                                            Connect   \n7306                                         Disconnect   \n7307                                            Connect   \n7308                                         Disconnect   \n7309                                            Connect   \n7310                                         Disconnect   \n7311                                            Connect   \n7312                                         Disconnect   \n7313                                            Connect   \n7314                                         Disconnect   \n7315                                            Connect   \n7316                                         Disconnect   \n7317                                            Connect   \n7318                                         Disconnect   \n7319                                            Connect   \n7320                                         Disconnect   \n7321                                            Connect   \n7322                                         Disconnect   \n\n                                                     6    7    8   9   10  \\\n0                                                   NaN  NaN  NaN NaN NaN   \n1                                                   NaN  NaN  NaN NaN NaN   \n2     spy bait bait distort evade surveillance decei...  NaN  NaN NaN NaN   \n3                                                   NaN  NaN  NaN NaN NaN   \n4                                                   NaN  NaN  NaN NaN NaN   \n5                                                   NaN  NaN  NaN NaN NaN   \n6                                                   NaN  NaN  NaN NaN NaN   \n7     handler sabatoge currency distort subterfuge c...  NaN  NaN NaN NaN   \n8                                                   NaN  NaN  NaN NaN NaN   \n9                                                   NaN  NaN  NaN NaN NaN   \n10                                                  NaN  NaN  NaN NaN NaN   \n11                                                  NaN  NaN  NaN NaN NaN   \n12    handler sabatoge forgery middle-east middle-ea...  NaN  NaN NaN NaN   \n13                                                  NaN  NaN  NaN NaN NaN   \n14                                                  NaN  NaN  NaN NaN NaN   \n15                                                  NaN  NaN  NaN NaN NaN   \n16                                                  NaN  NaN  NaN NaN NaN   \n17    distort lie overthrow sabatoge deceit bait eur...  NaN  NaN NaN NaN   \n18                                                  NaN  NaN  NaN NaN NaN   \n19                                                  NaN  NaN  NaN NaN NaN   \n20                                                  NaN  NaN  NaN NaN NaN   \n21                                                  NaN  NaN  NaN NaN NaN   \n22    lie subterfuge china sabatoge top-secret russi...  NaN  NaN NaN NaN   \n23                                                  NaN  NaN  NaN NaN NaN   \n24                                                  NaN  NaN  NaN NaN NaN   \n25                                                  NaN  NaN  NaN NaN NaN   \n26                                                  NaN  NaN  NaN NaN NaN   \n27    surveillance middle-east currency china sabato...  NaN  NaN NaN NaN   \n28                                                  NaN  NaN  NaN NaN NaN   \n29                                                  NaN  NaN  NaN NaN NaN   \n...                                                 ...  ...  ...  ..  ..   \n7293                                                NaN  NaN  NaN NaN NaN   \n7294                                                NaN  NaN  NaN NaN NaN   \n7295                                                NaN  NaN  NaN NaN NaN   \n7296                                                NaN  NaN  NaN NaN NaN   \n7297                                                NaN  NaN  NaN NaN NaN   \n7298                                                NaN  NaN  NaN NaN NaN   \n7299                                                NaN  NaN  NaN NaN NaN   \n7300                                                NaN  NaN  NaN NaN NaN   \n7301                                                NaN  NaN  NaN NaN NaN   \n7302                                                NaN  NaN  NaN NaN NaN   \n7303                                                NaN  NaN  NaN NaN NaN   \n7304                                                NaN  NaN  NaN NaN NaN   \n7305                                                NaN  NaN  NaN NaN NaN   \n7306                                                NaN  NaN  NaN NaN NaN   \n7307                                                NaN  NaN  NaN NaN NaN   \n7308                                                NaN  NaN  NaN NaN NaN   \n7309                                                NaN  NaN  NaN NaN NaN   \n7310                                                NaN  NaN  NaN NaN NaN   \n7311                                                NaN  NaN  NaN NaN NaN   \n7312                                                NaN  NaN  NaN NaN NaN   \n7313                                                NaN  NaN  NaN NaN NaN   \n7314                                                NaN  NaN  NaN NaN NaN   \n7315                                                NaN  NaN  NaN NaN NaN   \n7316                                                NaN  NaN  NaN NaN NaN   \n7317                                                NaN  NaN  NaN NaN NaN   \n7318                                                NaN  NaN  NaN NaN NaN   \n7319                                                NaN  NaN  NaN NaN NaN   \n7320                                                NaN  NaN  NaN NaN NaN   \n7321                                                NaN  NaN  NaN NaN NaN   \n7322                                                NaN  NaN  NaN NaN NaN   \n\n       11  12  \n0     NaN NaN  \n1     NaN NaN  \n2     NaN NaN  \n3     NaN NaN  \n4     NaN NaN  \n5     NaN NaN  \n6     NaN NaN  \n7     NaN NaN  \n8     NaN NaN  \n9     NaN NaN  \n10    NaN NaN  \n11    NaN NaN  \n12    NaN NaN  \n13    NaN NaN  \n14    NaN NaN  \n15    NaN NaN  \n16    NaN NaN  \n17    NaN NaN  \n18    NaN NaN  \n19    NaN NaN  \n20    NaN NaN  \n21    NaN NaN  \n22    NaN NaN  \n23    NaN NaN  \n24    NaN NaN  \n25    NaN NaN  \n26    NaN NaN  \n27    NaN NaN  \n28    NaN NaN  \n29    NaN NaN  \n...   ...  ..  \n7293  NaN NaN  \n7294  NaN NaN  \n7295  NaN NaN  \n7296  NaN NaN  \n7297  NaN NaN  \n7298  NaN NaN  \n7299  NaN NaN  \n7300  NaN NaN  \n7301  NaN NaN  \n7302  NaN NaN  \n7303  NaN NaN  \n7304  NaN NaN  \n7305  NaN NaN  \n7306  NaN NaN  \n7307  NaN NaN  \n7308  NaN NaN  \n7309  NaN NaN  \n7310  NaN NaN  \n7311  NaN NaN  \n7312  NaN NaN  \n7313  NaN NaN  \n7314  NaN NaN  \n7315  NaN NaN  \n7316  NaN NaN  \n7317  NaN NaN  \n7318  NaN NaN  \n7319  NaN NaN  \n7320  NaN NaN  \n7321  NaN NaN  \n7322  NaN NaN  \n\n[7323 rows x 13 columns]",
      "text/html": "<div>\n<style scoped>\n    .dataframe tbody tr th:only-of-type {\n        vertical-align: middle;\n    }\n\n    .dataframe tbody tr th {\n        vertical-align: top;\n    }\n\n    .dataframe thead th {\n        text-align: right;\n    }\n</style>\n<table border=\"1\" class=\"dataframe\">\n  <thead>\n    <tr style=\"text-align: right;\">\n      <th></th>\n      <th>0</th>\n      <th>1</th>\n      <th>2</th>\n      <th>3</th>\n      <th>4</th>\n      <th>5</th>\n      <th>6</th>\n      <th>7</th>\n      <th>8</th>\n      <th>9</th>\n      <th>10</th>\n      <th>11</th>\n      <th>12</th>\n    </tr>\n  </thead>\n  <tbody>\n    <tr>\n      <th>0</th>\n      <td>logon</td>\n      <td>{K3V4-Y4OK65SI-1583GEOQ}</td>\n      <td>10/23/2010 01:34:19</td>\n      <td>AAM0658</td>\n      <td>PC-9923</td>\n      <td>Logon</td>\n      <td>NaN</td>\n      <td>NaN</td>\n      <td>NaN</td>\n      <td>NaN</td>\n      <td>NaN</td>\n      <td>NaN</td>\n      <td>NaN</td>\n    </tr>\n    <tr>\n      <th>1</th>\n      <td>device</td>\n      <td>{H1L0-X7RH83FI-5967VUQY}</td>\n      <td>10/23/2010 06:18:48</td>\n      <td>AAM0658</td>\n      <td>PC-9923</td>\n      <td>Connect</td>\n      <td>NaN</td>\n      <td>NaN</td>\n      <td>NaN</td>\n      <td>NaN</td>\n      <td>NaN</td>\n      <td>NaN</td>\n      <td>NaN</td>\n    </tr>\n    <tr>\n      <th>2</th>\n      <td>http</td>\n      <td>{Y4Q9-U5VQ11UG-1279ZPTL}</td>\n      <td>10/23/2010 06:26:01</td>\n      <td>AAM0658</td>\n      <td>PC-9923</td>\n      <td>http://wikileaks.org/Julian_Assange/assange/Th...</td>\n      <td>spy bait bait distort evade surveillance decei...</td>\n      <td>NaN</td>\n      <td>NaN</td>\n      <td>NaN</td>\n      <td>NaN</td>\n      <td>NaN</td>\n      <td>NaN</td>\n    </tr>\n    <tr>\n      <th>3</th>\n      <td>device</td>\n      <td>{W7C0-G1SW41KB-1991BUTL}</td>\n      <td>10/23/2010 06:26:48</td>\n      <td>AAM0658</td>\n      <td>PC-9923</td>\n      <td>Disconnect</td>\n      <td>NaN</td>\n      <td>NaN</td>\n      <td>NaN</td>\n      <td>NaN</td>\n      <td>NaN</td>\n      <td>NaN</td>\n      <td>NaN</td>\n    </tr>\n    <tr>\n      <th>4</th>\n      <td>logon</td>\n      <td>{C7T3-B4IY16JF-6945LOFC}</td>\n      <td>10/23/2010 06:28:17</td>\n      <td>AAM0658</td>\n      <td>PC-9923</td>\n      <td>Logoff</td>\n      <td>NaN</td>\n      <td>NaN</td>\n      <td>NaN</td>\n      <td>NaN</td>\n      <td>NaN</td>\n      <td>NaN</td>\n      <td>NaN</td>\n    </tr>\n    <tr>\n      <th>5</th>\n      <td>logon</td>\n      <td>{S8Q1-Z1OG01ED-8756DWPR}</td>\n      <td>10/29/2010 00:06:47</td>\n      <td>AAM0658</td>\n      <td>PC-9923</td>\n      <td>Logon</td>\n      <td>NaN</td>\n      <td>NaN</td>\n      <td>NaN</td>\n      <td>NaN</td>\n      <td>NaN</td>\n      <td>NaN</td>\n      <td>NaN</td>\n    </tr>\n    <tr>\n      <th>6</th>\n      <td>device</td>\n      <td>{S1J0-Z2ZX87IX-2607ZUXY}</td>\n      <td>10/29/2010 01:30:10</td>\n      <td>AAM0658</td>\n      <td>PC-9923</td>\n      <td>Connect</td>\n      <td>NaN</td>\n      <td>NaN</td>\n      <td>NaN</td>\n      <td>NaN</td>\n      <td>NaN</td>\n      <td>NaN</td>\n      <td>NaN</td>\n    </tr>\n    <tr>\n      <th>7</th>\n      <td>http</td>\n      <td>{Z8E0-S5AG27DJ-3234IKCE}</td>\n      <td>10/29/2010 01:36:11</td>\n      <td>AAM0658</td>\n      <td>PC-9923</td>\n      <td>http://wikileaks.org/Julian_Assange/assange/Th...</td>\n      <td>handler sabatoge currency distort subterfuge c...</td>\n      <td>NaN</td>\n      <td>NaN</td>\n      <td>NaN</td>\n      <td>NaN</td>\n      <td>NaN</td>\n      <td>NaN</td>\n    </tr>\n    <tr>\n      <th>8</th>\n      <td>device</td>\n      <td>{V6D8-B3FZ26HT-3583PJAI}</td>\n      <td>10/29/2010 05:00:19</td>\n      <td>AAM0658</td>\n      <td>PC-9923</td>\n      <td>Disconnect</td>\n      <td>NaN</td>\n      <td>NaN</td>\n      <td>NaN</td>\n      <td>NaN</td>\n      <td>NaN</td>\n      <td>NaN</td>\n      <td>NaN</td>\n    </tr>\n    <tr>\n      <th>9</th>\n      <td>logon</td>\n      <td>{J6L0-W5OJ26KB-8630RYVJ}</td>\n      <td>10/29/2010 05:23:28</td>\n      <td>AAM0658</td>\n      <td>PC-9923</td>\n      <td>Logoff</td>\n      <td>NaN</td>\n      <td>NaN</td>\n      <td>NaN</td>\n      <td>NaN</td>\n      <td>NaN</td>\n      <td>NaN</td>\n      <td>NaN</td>\n    </tr>\n    <tr>\n      <th>10</th>\n      <td>logon</td>\n      <td>{H5M9-E4GU47TS-2991DMNK}</td>\n      <td>09/21/2010 01:16:22</td>\n      <td>BLS0678</td>\n      <td>PC-6031</td>\n      <td>Logon</td>\n      <td>NaN</td>\n      <td>NaN</td>\n      <td>NaN</td>\n      <td>NaN</td>\n      <td>NaN</td>\n      <td>NaN</td>\n      <td>NaN</td>\n    </tr>\n    <tr>\n      <th>11</th>\n      <td>device</td>\n      <td>{S1T0-E5SZ35TF-5143KLFY}</td>\n      <td>09/21/2010 02:46:59</td>\n      <td>BLS0678</td>\n      <td>PC-6031</td>\n      <td>Connect</td>\n      <td>NaN</td>\n      <td>NaN</td>\n      <td>NaN</td>\n      <td>NaN</td>\n      <td>NaN</td>\n      <td>NaN</td>\n      <td>NaN</td>\n    </tr>\n    <tr>\n      <th>12</th>\n      <td>http</td>\n      <td>{N7J5-Z3BW40PP-9252FCEK}</td>\n      <td>09/21/2010 02:47:56</td>\n      <td>BLS0678</td>\n      <td>PC-6031</td>\n      <td>http://wikileaks.org/Julian_Assange/assange/Th...</td>\n      <td>handler sabatoge forgery middle-east middle-ea...</td>\n      <td>NaN</td>\n      <td>NaN</td>\n      <td>NaN</td>\n      <td>NaN</td>\n      <td>NaN</td>\n      <td>NaN</td>\n    </tr>\n    <tr>\n      <th>13</th>\n      <td>device</td>\n      <td>{R4T0-A0VP51YA-2744THEC}</td>\n      <td>09/21/2010 02:48:37</td>\n      <td>BLS0678</td>\n      <td>PC-6031</td>\n      <td>Disconnect</td>\n      <td>NaN</td>\n      <td>NaN</td>\n      <td>NaN</td>\n      <td>NaN</td>\n      <td>NaN</td>\n      <td>NaN</td>\n      <td>NaN</td>\n    </tr>\n    <tr>\n      <th>14</th>\n      <td>logon</td>\n      <td>{M3M4-C8YB70JN-4776PTQV}</td>\n      <td>09/21/2010 03:44:49</td>\n      <td>BLS0678</td>\n      <td>PC-6031</td>\n      <td>Logoff</td>\n      <td>NaN</td>\n      <td>NaN</td>\n      <td>NaN</td>\n      <td>NaN</td>\n      <td>NaN</td>\n      <td>NaN</td>\n      <td>NaN</td>\n    </tr>\n    <tr>\n      <th>15</th>\n      <td>logon</td>\n      <td>{Y3V9-J3OX51PK-1617PXNW}</td>\n      <td>09/29/2010 17:36:12</td>\n      <td>BLS0678</td>\n      <td>PC-6031</td>\n      <td>Logon</td>\n      <td>NaN</td>\n      <td>NaN</td>\n      <td>NaN</td>\n      <td>NaN</td>\n      <td>NaN</td>\n      <td>NaN</td>\n      <td>NaN</td>\n    </tr>\n    <tr>\n      <th>16</th>\n      <td>device</td>\n      <td>{F0D4-X4BP77OM-1802ULCG}</td>\n      <td>09/29/2010 18:52:55</td>\n      <td>BLS0678</td>\n      <td>PC-6031</td>\n      <td>Connect</td>\n      <td>NaN</td>\n      <td>NaN</td>\n      <td>NaN</td>\n      <td>NaN</td>\n      <td>NaN</td>\n      <td>NaN</td>\n      <td>NaN</td>\n    </tr>\n    <tr>\n      <th>17</th>\n      <td>http</td>\n      <td>{X8W9-N2TW91WV-9895JKUB}</td>\n      <td>09/29/2010 19:01:18</td>\n      <td>BLS0678</td>\n      <td>PC-6031</td>\n      <td>http://wikileaks.org/Julian_Assange/assange/Th...</td>\n      <td>distort lie overthrow sabatoge deceit bait eur...</td>\n      <td>NaN</td>\n      <td>NaN</td>\n      <td>NaN</td>\n      <td>NaN</td>\n      <td>NaN</td>\n      <td>NaN</td>\n    </tr>\n    <tr>\n      <th>18</th>\n      <td>device</td>\n      <td>{E3P0-I0CM71JW-7152TNLM}</td>\n      <td>09/29/2010 19:05:29</td>\n      <td>BLS0678</td>\n      <td>PC-6031</td>\n      <td>Disconnect</td>\n      <td>NaN</td>\n      <td>NaN</td>\n      <td>NaN</td>\n      <td>NaN</td>\n      <td>NaN</td>\n      <td>NaN</td>\n      <td>NaN</td>\n    </tr>\n    <tr>\n      <th>19</th>\n      <td>logon</td>\n      <td>{A4M8-E2JY79ZI-1744AMBM}</td>\n      <td>09/30/2010 04:48:19</td>\n      <td>BLS0678</td>\n      <td>PC-6031</td>\n      <td>Logoff</td>\n      <td>NaN</td>\n      <td>NaN</td>\n      <td>NaN</td>\n      <td>NaN</td>\n      <td>NaN</td>\n      <td>NaN</td>\n      <td>NaN</td>\n    </tr>\n    <tr>\n      <th>20</th>\n      <td>logon</td>\n      <td>{K1B2-N6OZ19XO-7148MLSP}</td>\n      <td>07/13/2010 20:15:23</td>\n      <td>BIH0745</td>\n      <td>PC-2661</td>\n      <td>Logon</td>\n      <td>NaN</td>\n      <td>NaN</td>\n      <td>NaN</td>\n      <td>NaN</td>\n      <td>NaN</td>\n      <td>NaN</td>\n      <td>NaN</td>\n    </tr>\n    <tr>\n      <th>21</th>\n      <td>device</td>\n      <td>{Y3M2-Z6XM78GC-6283GEZU}</td>\n      <td>07/13/2010 21:06:06</td>\n      <td>BIH0745</td>\n      <td>PC-2661</td>\n      <td>Connect</td>\n      <td>NaN</td>\n      <td>NaN</td>\n      <td>NaN</td>\n      <td>NaN</td>\n      <td>NaN</td>\n      <td>NaN</td>\n      <td>NaN</td>\n    </tr>\n    <tr>\n      <th>22</th>\n      <td>http</td>\n      <td>{O4T8-D4QZ55FR-8512IAJW}</td>\n      <td>07/13/2010 21:06:44</td>\n      <td>BIH0745</td>\n      <td>PC-2661</td>\n      <td>http://wikileaks.org/Julian_Assange/assange/Th...</td>\n      <td>lie subterfuge china sabatoge top-secret russi...</td>\n      <td>NaN</td>\n      <td>NaN</td>\n      <td>NaN</td>\n      <td>NaN</td>\n      <td>NaN</td>\n      <td>NaN</td>\n    </tr>\n    <tr>\n      <th>23</th>\n      <td>device</td>\n      <td>{S7Z7-F8GG07WE-5470ZMDD}</td>\n      <td>07/13/2010 21:09:08</td>\n      <td>BIH0745</td>\n      <td>PC-2661</td>\n      <td>Disconnect</td>\n      <td>NaN</td>\n      <td>NaN</td>\n      <td>NaN</td>\n      <td>NaN</td>\n      <td>NaN</td>\n      <td>NaN</td>\n      <td>NaN</td>\n    </tr>\n    <tr>\n      <th>24</th>\n      <td>logon</td>\n      <td>{I4V0-J7OH43HZ-7956NEXE}</td>\n      <td>07/13/2010 21:20:44</td>\n      <td>BIH0745</td>\n      <td>PC-2661</td>\n      <td>Logoff</td>\n      <td>NaN</td>\n      <td>NaN</td>\n      <td>NaN</td>\n      <td>NaN</td>\n      <td>NaN</td>\n      <td>NaN</td>\n      <td>NaN</td>\n    </tr>\n    <tr>\n      <th>25</th>\n      <td>logon</td>\n      <td>{L1A0-X3OD03QV-9450KGJI}</td>\n      <td>11/25/2010 06:35:11</td>\n      <td>FTM0406</td>\n      <td>PC-1786</td>\n      <td>Logon</td>\n      <td>NaN</td>\n      <td>NaN</td>\n      <td>NaN</td>\n      <td>NaN</td>\n      <td>NaN</td>\n      <td>NaN</td>\n      <td>NaN</td>\n    </tr>\n    <tr>\n      <th>26</th>\n      <td>device</td>\n      <td>{Y5K5-C6AF28XA-5238BVTN}</td>\n      <td>11/25/2010 06:45:46</td>\n      <td>FTM0406</td>\n      <td>PC-1786</td>\n      <td>Connect</td>\n      <td>NaN</td>\n      <td>NaN</td>\n      <td>NaN</td>\n      <td>NaN</td>\n      <td>NaN</td>\n      <td>NaN</td>\n      <td>NaN</td>\n    </tr>\n    <tr>\n      <th>27</th>\n      <td>http</td>\n      <td>{N5G9-W9SS50SL-9399ZFUG}</td>\n      <td>11/25/2010 06:45:57</td>\n      <td>FTM0406</td>\n      <td>PC-1786</td>\n      <td>http://wikileaks.org/Julian_Assange/assange/Th...</td>\n      <td>surveillance middle-east currency china sabato...</td>\n      <td>NaN</td>\n      <td>NaN</td>\n      <td>NaN</td>\n      <td>NaN</td>\n      <td>NaN</td>\n      <td>NaN</td>\n    </tr>\n    <tr>\n      <th>28</th>\n      <td>device</td>\n      <td>{S0F7-W2LZ64WJ-4108ZIKN}</td>\n      <td>11/25/2010 06:46:03</td>\n      <td>FTM0406</td>\n      <td>PC-1786</td>\n      <td>Disconnect</td>\n      <td>NaN</td>\n      <td>NaN</td>\n      <td>NaN</td>\n      <td>NaN</td>\n      <td>NaN</td>\n      <td>NaN</td>\n      <td>NaN</td>\n    </tr>\n    <tr>\n      <th>29</th>\n      <td>logon</td>\n      <td>{M4Y1-P1MF23RY-1605UHAS}</td>\n      <td>11/25/2010 06:51:18</td>\n      <td>FTM0406</td>\n      <td>PC-1786</td>\n      <td>Logoff</td>\n      <td>NaN</td>\n      <td>NaN</td>\n      <td>NaN</td>\n      <td>NaN</td>\n      <td>NaN</td>\n      <td>NaN</td>\n      <td>NaN</td>\n    </tr>\n    <tr>\n      <th>...</th>\n      <td>...</td>\n      <td>...</td>\n      <td>...</td>\n      <td>...</td>\n      <td>...</td>\n      <td>...</td>\n      <td>...</td>\n      <td>...</td>\n      <td>...</td>\n      <td>...</td>\n      <td>...</td>\n      <td>...</td>\n      <td>...</td>\n    </tr>\n    <tr>\n      <th>7293</th>\n      <td>device</td>\n      <td>{F0P9-A1KZ99RF-7804VUPC}</td>\n      <td>10/20/2010 16:07:43</td>\n      <td>HXL0968</td>\n      <td>PC-0623</td>\n      <td>Connect</td>\n      <td>NaN</td>\n      <td>NaN</td>\n      <td>NaN</td>\n      <td>NaN</td>\n      <td>NaN</td>\n      <td>NaN</td>\n      <td>NaN</td>\n    </tr>\n    <tr>\n      <th>7294</th>\n      <td>device</td>\n      <td>{R0K0-W9PG22WU-1870RSXQ}</td>\n      <td>10/20/2010 16:13:49</td>\n      <td>HXL0968</td>\n      <td>PC-0623</td>\n      <td>Disconnect</td>\n      <td>NaN</td>\n      <td>NaN</td>\n      <td>NaN</td>\n      <td>NaN</td>\n      <td>NaN</td>\n      <td>NaN</td>\n      <td>NaN</td>\n    </tr>\n    <tr>\n      <th>7295</th>\n      <td>device</td>\n      <td>{E9P6-E0NH58EG-1521THQM}</td>\n      <td>10/20/2010 16:16:39</td>\n      <td>HXL0968</td>\n      <td>PC-0623</td>\n      <td>Connect</td>\n      <td>NaN</td>\n      <td>NaN</td>\n      <td>NaN</td>\n      <td>NaN</td>\n      <td>NaN</td>\n      <td>NaN</td>\n      <td>NaN</td>\n    </tr>\n    <tr>\n      <th>7296</th>\n      <td>device</td>\n      <td>{G6W2-L4KI05IK-5038CJVG}</td>\n      <td>10/20/2010 16:17:21</td>\n      <td>HXL0968</td>\n      <td>PC-0623</td>\n      <td>Disconnect</td>\n      <td>NaN</td>\n      <td>NaN</td>\n      <td>NaN</td>\n      <td>NaN</td>\n      <td>NaN</td>\n      <td>NaN</td>\n      <td>NaN</td>\n    </tr>\n    <tr>\n      <th>7297</th>\n      <td>device</td>\n      <td>{X4R2-M1YR64WR-4796PKRL}</td>\n      <td>10/25/2010 10:12:43</td>\n      <td>HXL0968</td>\n      <td>PC-0623</td>\n      <td>Connect</td>\n      <td>NaN</td>\n      <td>NaN</td>\n      <td>NaN</td>\n      <td>NaN</td>\n      <td>NaN</td>\n      <td>NaN</td>\n      <td>NaN</td>\n    </tr>\n    <tr>\n      <th>7298</th>\n      <td>device</td>\n      <td>{K8L3-D2PP50WX-6785HIVT}</td>\n      <td>10/25/2010 10:15:02</td>\n      <td>HXL0968</td>\n      <td>PC-0623</td>\n      <td>Disconnect</td>\n      <td>NaN</td>\n      <td>NaN</td>\n      <td>NaN</td>\n      <td>NaN</td>\n      <td>NaN</td>\n      <td>NaN</td>\n      <td>NaN</td>\n    </tr>\n    <tr>\n      <th>7299</th>\n      <td>device</td>\n      <td>{O0F8-S6NR58QE-5391JBFV}</td>\n      <td>10/25/2010 10:19:16</td>\n      <td>HXL0968</td>\n      <td>PC-0623</td>\n      <td>Connect</td>\n      <td>NaN</td>\n      <td>NaN</td>\n      <td>NaN</td>\n      <td>NaN</td>\n      <td>NaN</td>\n      <td>NaN</td>\n      <td>NaN</td>\n    </tr>\n    <tr>\n      <th>7300</th>\n      <td>device</td>\n      <td>{Z7F1-Y7RF75AP-5043RLTM}</td>\n      <td>10/25/2010 10:19:35</td>\n      <td>HXL0968</td>\n      <td>PC-0623</td>\n      <td>Disconnect</td>\n      <td>NaN</td>\n      <td>NaN</td>\n      <td>NaN</td>\n      <td>NaN</td>\n      <td>NaN</td>\n      <td>NaN</td>\n      <td>NaN</td>\n    </tr>\n    <tr>\n      <th>7301</th>\n      <td>device</td>\n      <td>{E6W7-X9ST43JK-5328WBSK}</td>\n      <td>10/25/2010 13:41:18</td>\n      <td>HXL0968</td>\n      <td>PC-0623</td>\n      <td>Connect</td>\n      <td>NaN</td>\n      <td>NaN</td>\n      <td>NaN</td>\n      <td>NaN</td>\n      <td>NaN</td>\n      <td>NaN</td>\n      <td>NaN</td>\n    </tr>\n    <tr>\n      <th>7302</th>\n      <td>device</td>\n      <td>{L0N9-K9AH69CU-8738ZKJW}</td>\n      <td>10/25/2010 13:42:39</td>\n      <td>HXL0968</td>\n      <td>PC-0623</td>\n      <td>Disconnect</td>\n      <td>NaN</td>\n      <td>NaN</td>\n      <td>NaN</td>\n      <td>NaN</td>\n      <td>NaN</td>\n      <td>NaN</td>\n      <td>NaN</td>\n    </tr>\n    <tr>\n      <th>7303</th>\n      <td>device</td>\n      <td>{C8W6-B3MN68SN-6557QMDD}</td>\n      <td>10/25/2010 13:43:19</td>\n      <td>HXL0968</td>\n      <td>PC-0623</td>\n      <td>Connect</td>\n      <td>NaN</td>\n      <td>NaN</td>\n      <td>NaN</td>\n      <td>NaN</td>\n      <td>NaN</td>\n      <td>NaN</td>\n      <td>NaN</td>\n    </tr>\n    <tr>\n      <th>7304</th>\n      <td>device</td>\n      <td>{D5X4-I3LJ23BP-6879CTEJ}</td>\n      <td>10/25/2010 13:44:09</td>\n      <td>HXL0968</td>\n      <td>PC-0623</td>\n      <td>Disconnect</td>\n      <td>NaN</td>\n      <td>NaN</td>\n      <td>NaN</td>\n      <td>NaN</td>\n      <td>NaN</td>\n      <td>NaN</td>\n      <td>NaN</td>\n    </tr>\n    <tr>\n      <th>7305</th>\n      <td>device</td>\n      <td>{Z3E4-T8XT30EY-5355UYBM}</td>\n      <td>10/25/2010 13:44:34</td>\n      <td>HXL0968</td>\n      <td>PC-0623</td>\n      <td>Connect</td>\n      <td>NaN</td>\n      <td>NaN</td>\n      <td>NaN</td>\n      <td>NaN</td>\n      <td>NaN</td>\n      <td>NaN</td>\n      <td>NaN</td>\n    </tr>\n    <tr>\n      <th>7306</th>\n      <td>device</td>\n      <td>{Y9F9-L8BV40TH-3284OKIN}</td>\n      <td>10/25/2010 13:54:51</td>\n      <td>HXL0968</td>\n      <td>PC-0623</td>\n      <td>Disconnect</td>\n      <td>NaN</td>\n      <td>NaN</td>\n      <td>NaN</td>\n      <td>NaN</td>\n      <td>NaN</td>\n      <td>NaN</td>\n      <td>NaN</td>\n    </tr>\n    <tr>\n      <th>7307</th>\n      <td>device</td>\n      <td>{I2V2-B5PI66GC-4209VEIH}</td>\n      <td>10/25/2010 14:35:50</td>\n      <td>HXL0968</td>\n      <td>PC-0623</td>\n      <td>Connect</td>\n      <td>NaN</td>\n      <td>NaN</td>\n      <td>NaN</td>\n      <td>NaN</td>\n      <td>NaN</td>\n      <td>NaN</td>\n      <td>NaN</td>\n    </tr>\n    <tr>\n      <th>7308</th>\n      <td>device</td>\n      <td>{C9N1-I0GX23LA-6310TRZI}</td>\n      <td>10/25/2010 14:38:25</td>\n      <td>HXL0968</td>\n      <td>PC-0623</td>\n      <td>Disconnect</td>\n      <td>NaN</td>\n      <td>NaN</td>\n      <td>NaN</td>\n      <td>NaN</td>\n      <td>NaN</td>\n      <td>NaN</td>\n      <td>NaN</td>\n    </tr>\n    <tr>\n      <th>7309</th>\n      <td>device</td>\n      <td>{U1L9-G0SI43HV-1554PPAJ}</td>\n      <td>10/28/2010 07:27:17</td>\n      <td>HXL0968</td>\n      <td>PC-0623</td>\n      <td>Connect</td>\n      <td>NaN</td>\n      <td>NaN</td>\n      <td>NaN</td>\n      <td>NaN</td>\n      <td>NaN</td>\n      <td>NaN</td>\n      <td>NaN</td>\n    </tr>\n    <tr>\n      <th>7310</th>\n      <td>device</td>\n      <td>{O1L9-A4IZ62UC-4403REJU}</td>\n      <td>10/28/2010 07:28:05</td>\n      <td>HXL0968</td>\n      <td>PC-0623</td>\n      <td>Disconnect</td>\n      <td>NaN</td>\n      <td>NaN</td>\n      <td>NaN</td>\n      <td>NaN</td>\n      <td>NaN</td>\n      <td>NaN</td>\n      <td>NaN</td>\n    </tr>\n    <tr>\n      <th>7311</th>\n      <td>device</td>\n      <td>{S8H8-I9XJ50OH-3982KKWJ}</td>\n      <td>10/28/2010 07:29:26</td>\n      <td>HXL0968</td>\n      <td>PC-0623</td>\n      <td>Connect</td>\n      <td>NaN</td>\n      <td>NaN</td>\n      <td>NaN</td>\n      <td>NaN</td>\n      <td>NaN</td>\n      <td>NaN</td>\n      <td>NaN</td>\n    </tr>\n    <tr>\n      <th>7312</th>\n      <td>device</td>\n      <td>{C7Q4-K1YV39RY-1935WXMB}</td>\n      <td>10/28/2010 08:06:52</td>\n      <td>HXL0968</td>\n      <td>PC-0623</td>\n      <td>Disconnect</td>\n      <td>NaN</td>\n      <td>NaN</td>\n      <td>NaN</td>\n      <td>NaN</td>\n      <td>NaN</td>\n      <td>NaN</td>\n      <td>NaN</td>\n    </tr>\n    <tr>\n      <th>7313</th>\n      <td>device</td>\n      <td>{Q4V1-E1FN69FB-9341VXJM}</td>\n      <td>10/28/2010 09:59:44</td>\n      <td>HXL0968</td>\n      <td>PC-0623</td>\n      <td>Connect</td>\n      <td>NaN</td>\n      <td>NaN</td>\n      <td>NaN</td>\n      <td>NaN</td>\n      <td>NaN</td>\n      <td>NaN</td>\n      <td>NaN</td>\n    </tr>\n    <tr>\n      <th>7314</th>\n      <td>device</td>\n      <td>{J3F1-V7WW25LN-1349JSBQ}</td>\n      <td>10/28/2010 10:00:26</td>\n      <td>HXL0968</td>\n      <td>PC-0623</td>\n      <td>Disconnect</td>\n      <td>NaN</td>\n      <td>NaN</td>\n      <td>NaN</td>\n      <td>NaN</td>\n      <td>NaN</td>\n      <td>NaN</td>\n      <td>NaN</td>\n    </tr>\n    <tr>\n      <th>7315</th>\n      <td>device</td>\n      <td>{P5C9-Z5KN55XS-3935QHVL}</td>\n      <td>10/28/2010 10:44:46</td>\n      <td>HXL0968</td>\n      <td>PC-0623</td>\n      <td>Connect</td>\n      <td>NaN</td>\n      <td>NaN</td>\n      <td>NaN</td>\n      <td>NaN</td>\n      <td>NaN</td>\n      <td>NaN</td>\n      <td>NaN</td>\n    </tr>\n    <tr>\n      <th>7316</th>\n      <td>device</td>\n      <td>{S7I9-H3YF68OL-0269KDVY}</td>\n      <td>10/28/2010 10:47:08</td>\n      <td>HXL0968</td>\n      <td>PC-0623</td>\n      <td>Disconnect</td>\n      <td>NaN</td>\n      <td>NaN</td>\n      <td>NaN</td>\n      <td>NaN</td>\n      <td>NaN</td>\n      <td>NaN</td>\n      <td>NaN</td>\n    </tr>\n    <tr>\n      <th>7317</th>\n      <td>device</td>\n      <td>{G3Q3-A0MF24NJ-0108CENH}</td>\n      <td>10/28/2010 11:37:13</td>\n      <td>HXL0968</td>\n      <td>PC-0623</td>\n      <td>Connect</td>\n      <td>NaN</td>\n      <td>NaN</td>\n      <td>NaN</td>\n      <td>NaN</td>\n      <td>NaN</td>\n      <td>NaN</td>\n      <td>NaN</td>\n    </tr>\n    <tr>\n      <th>7318</th>\n      <td>device</td>\n      <td>{Q5N8-K4EN95HK-2243EPIG}</td>\n      <td>10/28/2010 12:03:48</td>\n      <td>HXL0968</td>\n      <td>PC-0623</td>\n      <td>Disconnect</td>\n      <td>NaN</td>\n      <td>NaN</td>\n      <td>NaN</td>\n      <td>NaN</td>\n      <td>NaN</td>\n      <td>NaN</td>\n      <td>NaN</td>\n    </tr>\n    <tr>\n      <th>7319</th>\n      <td>device</td>\n      <td>{D7J4-N9MC42TZ-5629DURP}</td>\n      <td>10/28/2010 13:12:51</td>\n      <td>HXL0968</td>\n      <td>PC-0623</td>\n      <td>Connect</td>\n      <td>NaN</td>\n      <td>NaN</td>\n      <td>NaN</td>\n      <td>NaN</td>\n      <td>NaN</td>\n      <td>NaN</td>\n      <td>NaN</td>\n    </tr>\n    <tr>\n      <th>7320</th>\n      <td>device</td>\n      <td>{Z6G3-O9BC99TH-0510BHQS}</td>\n      <td>10/28/2010 13:28:30</td>\n      <td>HXL0968</td>\n      <td>PC-0623</td>\n      <td>Disconnect</td>\n      <td>NaN</td>\n      <td>NaN</td>\n      <td>NaN</td>\n      <td>NaN</td>\n      <td>NaN</td>\n      <td>NaN</td>\n      <td>NaN</td>\n    </tr>\n    <tr>\n      <th>7321</th>\n      <td>device</td>\n      <td>{Q1L7-B7RT17KS-5095WMYJ}</td>\n      <td>10/28/2010 15:56:48</td>\n      <td>HXL0968</td>\n      <td>PC-0623</td>\n      <td>Connect</td>\n      <td>NaN</td>\n      <td>NaN</td>\n      <td>NaN</td>\n      <td>NaN</td>\n      <td>NaN</td>\n      <td>NaN</td>\n      <td>NaN</td>\n    </tr>\n    <tr>\n      <th>7322</th>\n      <td>device</td>\n      <td>{E4P6-T4ZR03PD-6618BJEK}</td>\n      <td>10/28/2010 16:06:01</td>\n      <td>HXL0968</td>\n      <td>PC-0623</td>\n      <td>Disconnect</td>\n      <td>NaN</td>\n      <td>NaN</td>\n      <td>NaN</td>\n      <td>NaN</td>\n      <td>NaN</td>\n      <td>NaN</td>\n      <td>NaN</td>\n    </tr>\n  </tbody>\n</table>\n<p>7323 rows × 13 columns</p>\n</div>"
     },
     "execution_count": 8,
     "metadata": {},
     "output_type": "execute_result"
    }
   ],
   "source": [
    "df_ls = []\n",
    "import pandas as pd\n",
    "for filename in insider_files:\n",
    "    df = pd.read_csv(filename, names=list(range(13)))\n",
    "    df_ls.append(df)\n",
    "\n",
    "df = pd.concat(df_ls, axis=0, ignore_index=True)\n",
    "df"
   ],
   "metadata": {
    "collapsed": false,
    "pycharm": {
     "name": "#%%\n"
    }
   }
  },
  {
   "cell_type": "code",
   "execution_count": 10,
   "outputs": [
    {
     "name": "stdout",
     "output_type": "stream",
     "text": [
      "total of  99  malicious users\n"
     ]
    },
    {
     "data": {
      "text/plain": "array(['ALT1465', 'ALW0764', 'AYG1697', 'DAS1320', 'DNJ0740', 'ELT1370',\n       'EPG1196', 'ETW0002', 'FZG0389', 'GFM1815', 'IHC0561', 'ISW0738',\n       'JKB0287', 'JUP1472', 'KBC1390', 'KEW0198', 'MIB0203', 'NIV1608',\n       'PBC0077', 'PTH0005', 'REF1924', 'SAF1942', 'SLL0193', 'TMC0934',\n       'VAH1292', 'WHB1247', 'WSK1857', 'WWW0701', 'ZKP0542', 'VCF1602',\n       'KSS1005', 'MCP0611', 'TNB1616', 'ZIE0741', 'HXP0976', 'HIS1394',\n       'JAL0811', 'ITA0159', 'CIF1430', 'RRS0056', 'MDS0680', 'TMT0851',\n       'OSS1463', 'HSN0675', 'WDT1634', 'OKM1092', 'CKP0630', 'ICB1354',\n       'TRC1838', 'NAH1366', 'BYO1846', 'GWG0497', 'MGB1235', 'CHP1711',\n       'SNK1280', 'LVF1626', 'HMS1658', 'DCC1119', 'SIS0042', 'ACA1126',\n       'CRD0272', 'CWW1120', 'ELM1123', 'GKW0043', 'KCM0466', 'LAH0463',\n       'MPF0690', 'VRP0267', 'ZEH0685', 'ACM1770', 'AMC1883', 'ASH0298',\n       'ASH0458', 'BDP0096', 'CBW1826', 'CGF1056', 'CPD1525', 'DIM0330',\n       'DKG0161', 'DQM0809', 'GCD0194', 'GMB0400', 'HBP1076', 'IRH1224',\n       'JCC0016', 'JIG1593', 'JMM0613', 'JNR1592', 'KDC0996', 'MJR0711',\n       'MTP1582', 'NKM1738', 'NKN1405', 'NZL1395', 'OFS0030', 'OHS0036',\n       'RCG0584', 'WCW1013', 'WOS1834'], dtype=object)"
     },
     "execution_count": 10,
     "metadata": {},
     "output_type": "execute_result"
    }
   ],
   "source": [
    "main_df = pd.read_csv(main_answers_file)\n",
    "main_df = main_df[main_df['dataset'] == 5.2]\n",
    "main_df"
   ],
   "metadata": {
    "collapsed": false,
    "pycharm": {
     "name": "#%%\n"
    }
   }
  },
  {
   "cell_type": "code",
   "execution_count": null,
   "outputs": [],
   "source": [
    "malicious_users = main_df.user.unique()\n",
    "print(\"total of \", len(malicious_users),\" malicious users\")\n",
    "# malicious_users"
   ],
   "metadata": {
    "collapsed": false,
    "pycharm": {
     "name": "#%%\n"
    }
   }
  },
  {
   "cell_type": "code",
   "execution_count": 23,
   "outputs": [
    {
     "name": "stdout",
     "output_type": "stream",
     "text": [
      "total of  4  malicious senerios\n",
      "senerios 1:  29\n",
      "senerios 2:  30\n",
      "senerios 3:  10\n",
      "senerios 4:  30\n"
     ]
    }
   ],
   "source": [
    "print(\"total of \", len(main_df.scenario.unique()),\" malicious senerios\")\n",
    "print(\"senerios 1: \", len(main_df[main_df['scenario'] == 1]))\n",
    "print(\"senerios 2: \", len(main_df[main_df['scenario'] == 2]))\n",
    "print(\"senerios 3: \", len(main_df[main_df['scenario'] == 3]))\n",
    "print(\"senerios 4: \", len(main_df[main_df['scenario'] == 4]))"
   ],
   "metadata": {
    "collapsed": false,
    "pycharm": {
     "name": "#%%\n"
    }
   }
  },
  {
   "cell_type": "code",
   "execution_count": 25,
   "outputs": [
    {
     "data": {
      "text/plain": "     dataset  scenario             details     user                start  \\\n82       5.2         1  r5.2-1-ALT1465.csv  ALT1465  08/13/2010 22:16:10   \n83       5.2         1  r5.2-1-ALW0764.csv  ALW0764  02/03/2011 07:09:09   \n84       5.2         1  r5.2-1-AYG1697.csv  AYG1697  10/25/2010 23:19:22   \n85       5.2         1  r5.2-1-DAS1320.csv  DAS1320  07/09/2010 01:14:15   \n86       5.2         1  r5.2-1-DNJ0740.csv  DNJ0740  10/04/2010 19:56:42   \n87       5.2         1  r5.2-1-ELT1370.csv  ELT1370  02/03/2011 18:23:53   \n88       5.2         1  r5.2-1-EPG1196.csv  EPG1196  07/15/2010 03:00:42   \n89       5.2         1  r5.2-1-ETW0002.csv  ETW0002  03/17/2011 00:59:27   \n90       5.2         1  r5.2-1-FZG0389.csv  FZG0389  12/10/2010 21:50:34   \n91       5.2         1  r5.2-1-GFM1815.csv  GFM1815  07/16/2010 22:00:57   \n92       5.2         1  r5.2-1-IHC0561.csv  IHC0561  09/02/2010 06:10:00   \n93       5.2         1  r5.2-1-ISW0738.csv  ISW0738  10/27/2010 21:38:38   \n94       5.2         1  r5.2-1-JKB0287.csv  JKB0287  09/09/2010 02:50:22   \n95       5.2         1  r5.2-1-JUP1472.csv  JUP1472  02/11/2011 22:17:37   \n96       5.2         1  r5.2-1-KBC1390.csv  KBC1390  07/16/2010 02:18:07   \n97       5.2         1  r5.2-1-KEW0198.csv  KEW0198  07/07/2010 18:50:50   \n98       5.2         1  r5.2-1-MIB0203.csv  MIB0203  10/13/2010 23:51:44   \n99       5.2         1  r5.2-1-NIV1608.csv  NIV1608  02/05/2011 01:22:24   \n100      5.2         1  r5.2-1-PBC0077.csv  PBC0077  07/22/2010 02:04:28   \n101      5.2         1  r5.2-1-PTH0005.csv  PTH0005  01/31/2011 22:25:29   \n102      5.2         1  r5.2-1-REF1924.csv  REF1924  10/14/2010 19:08:01   \n103      5.2         1  r5.2-1-SAF1942.csv  SAF1942  07/21/2010 00:37:49   \n104      5.2         1  r5.2-1-SLL0193.csv  SLL0193  08/27/2010 18:57:31   \n105      5.2         1  r5.2-1-TMC0934.csv  TMC0934  02/17/2011 06:53:38   \n106      5.2         1  r5.2-1-VAH1292.csv  VAH1292  04/29/2011 22:01:07   \n107      5.2         1  r5.2-1-WHB1247.csv  WHB1247  02/14/2011 21:50:42   \n108      5.2         1  r5.2-1-WSK1857.csv  WSK1857  03/04/2011 00:09:34   \n109      5.2         1  r5.2-1-WWW0701.csv  WWW0701  03/23/2011 06:54:24   \n110      5.2         1  r5.2-1-ZKP0542.csv  ZKP0542  01/12/2011 20:00:15   \n\n                     end  \n82   08/20/2010 04:01:32  \n83   02/05/2011 06:12:51  \n84   10/26/2010 00:06:28  \n85   07/15/2010 01:38:58  \n86   10/05/2010 01:01:37  \n87   02/10/2011 02:58:28  \n88   07/20/2010 00:19:48  \n89   03/17/2011 06:52:18  \n90   12/17/2010 06:53:00  \n91   07/16/2010 23:01:54  \n92   09/10/2010 08:28:40  \n93   11/03/2010 07:01:27  \n94   09/15/2010 02:29:40  \n95   02/19/2011 04:15:38  \n96   07/22/2010 00:50:53  \n97   07/14/2010 06:27:14  \n98   10/19/2010 02:45:24  \n99   02/12/2011 06:15:24  \n100  07/31/2010 02:28:03  \n101  02/04/2011 05:42:33  \n102  10/19/2010 22:24:04  \n103  07/23/2010 02:12:05  \n104  09/03/2010 00:24:08  \n105  02/22/2011 21:01:13  \n106  05/07/2011 04:04:19  \n107  02/19/2011 01:07:48  \n108  03/11/2011 06:52:02  \n109  03/30/2011 05:40:52  \n110  01/15/2011 04:17:00  ",
      "text/html": "<div>\n<style scoped>\n    .dataframe tbody tr th:only-of-type {\n        vertical-align: middle;\n    }\n\n    .dataframe tbody tr th {\n        vertical-align: top;\n    }\n\n    .dataframe thead th {\n        text-align: right;\n    }\n</style>\n<table border=\"1\" class=\"dataframe\">\n  <thead>\n    <tr style=\"text-align: right;\">\n      <th></th>\n      <th>dataset</th>\n      <th>scenario</th>\n      <th>details</th>\n      <th>user</th>\n      <th>start</th>\n      <th>end</th>\n    </tr>\n  </thead>\n  <tbody>\n    <tr>\n      <th>82</th>\n      <td>5.2</td>\n      <td>1</td>\n      <td>r5.2-1-ALT1465.csv</td>\n      <td>ALT1465</td>\n      <td>08/13/2010 22:16:10</td>\n      <td>08/20/2010 04:01:32</td>\n    </tr>\n    <tr>\n      <th>83</th>\n      <td>5.2</td>\n      <td>1</td>\n      <td>r5.2-1-ALW0764.csv</td>\n      <td>ALW0764</td>\n      <td>02/03/2011 07:09:09</td>\n      <td>02/05/2011 06:12:51</td>\n    </tr>\n    <tr>\n      <th>84</th>\n      <td>5.2</td>\n      <td>1</td>\n      <td>r5.2-1-AYG1697.csv</td>\n      <td>AYG1697</td>\n      <td>10/25/2010 23:19:22</td>\n      <td>10/26/2010 00:06:28</td>\n    </tr>\n    <tr>\n      <th>85</th>\n      <td>5.2</td>\n      <td>1</td>\n      <td>r5.2-1-DAS1320.csv</td>\n      <td>DAS1320</td>\n      <td>07/09/2010 01:14:15</td>\n      <td>07/15/2010 01:38:58</td>\n    </tr>\n    <tr>\n      <th>86</th>\n      <td>5.2</td>\n      <td>1</td>\n      <td>r5.2-1-DNJ0740.csv</td>\n      <td>DNJ0740</td>\n      <td>10/04/2010 19:56:42</td>\n      <td>10/05/2010 01:01:37</td>\n    </tr>\n    <tr>\n      <th>87</th>\n      <td>5.2</td>\n      <td>1</td>\n      <td>r5.2-1-ELT1370.csv</td>\n      <td>ELT1370</td>\n      <td>02/03/2011 18:23:53</td>\n      <td>02/10/2011 02:58:28</td>\n    </tr>\n    <tr>\n      <th>88</th>\n      <td>5.2</td>\n      <td>1</td>\n      <td>r5.2-1-EPG1196.csv</td>\n      <td>EPG1196</td>\n      <td>07/15/2010 03:00:42</td>\n      <td>07/20/2010 00:19:48</td>\n    </tr>\n    <tr>\n      <th>89</th>\n      <td>5.2</td>\n      <td>1</td>\n      <td>r5.2-1-ETW0002.csv</td>\n      <td>ETW0002</td>\n      <td>03/17/2011 00:59:27</td>\n      <td>03/17/2011 06:52:18</td>\n    </tr>\n    <tr>\n      <th>90</th>\n      <td>5.2</td>\n      <td>1</td>\n      <td>r5.2-1-FZG0389.csv</td>\n      <td>FZG0389</td>\n      <td>12/10/2010 21:50:34</td>\n      <td>12/17/2010 06:53:00</td>\n    </tr>\n    <tr>\n      <th>91</th>\n      <td>5.2</td>\n      <td>1</td>\n      <td>r5.2-1-GFM1815.csv</td>\n      <td>GFM1815</td>\n      <td>07/16/2010 22:00:57</td>\n      <td>07/16/2010 23:01:54</td>\n    </tr>\n    <tr>\n      <th>92</th>\n      <td>5.2</td>\n      <td>1</td>\n      <td>r5.2-1-IHC0561.csv</td>\n      <td>IHC0561</td>\n      <td>09/02/2010 06:10:00</td>\n      <td>09/10/2010 08:28:40</td>\n    </tr>\n    <tr>\n      <th>93</th>\n      <td>5.2</td>\n      <td>1</td>\n      <td>r5.2-1-ISW0738.csv</td>\n      <td>ISW0738</td>\n      <td>10/27/2010 21:38:38</td>\n      <td>11/03/2010 07:01:27</td>\n    </tr>\n    <tr>\n      <th>94</th>\n      <td>5.2</td>\n      <td>1</td>\n      <td>r5.2-1-JKB0287.csv</td>\n      <td>JKB0287</td>\n      <td>09/09/2010 02:50:22</td>\n      <td>09/15/2010 02:29:40</td>\n    </tr>\n    <tr>\n      <th>95</th>\n      <td>5.2</td>\n      <td>1</td>\n      <td>r5.2-1-JUP1472.csv</td>\n      <td>JUP1472</td>\n      <td>02/11/2011 22:17:37</td>\n      <td>02/19/2011 04:15:38</td>\n    </tr>\n    <tr>\n      <th>96</th>\n      <td>5.2</td>\n      <td>1</td>\n      <td>r5.2-1-KBC1390.csv</td>\n      <td>KBC1390</td>\n      <td>07/16/2010 02:18:07</td>\n      <td>07/22/2010 00:50:53</td>\n    </tr>\n    <tr>\n      <th>97</th>\n      <td>5.2</td>\n      <td>1</td>\n      <td>r5.2-1-KEW0198.csv</td>\n      <td>KEW0198</td>\n      <td>07/07/2010 18:50:50</td>\n      <td>07/14/2010 06:27:14</td>\n    </tr>\n    <tr>\n      <th>98</th>\n      <td>5.2</td>\n      <td>1</td>\n      <td>r5.2-1-MIB0203.csv</td>\n      <td>MIB0203</td>\n      <td>10/13/2010 23:51:44</td>\n      <td>10/19/2010 02:45:24</td>\n    </tr>\n    <tr>\n      <th>99</th>\n      <td>5.2</td>\n      <td>1</td>\n      <td>r5.2-1-NIV1608.csv</td>\n      <td>NIV1608</td>\n      <td>02/05/2011 01:22:24</td>\n      <td>02/12/2011 06:15:24</td>\n    </tr>\n    <tr>\n      <th>100</th>\n      <td>5.2</td>\n      <td>1</td>\n      <td>r5.2-1-PBC0077.csv</td>\n      <td>PBC0077</td>\n      <td>07/22/2010 02:04:28</td>\n      <td>07/31/2010 02:28:03</td>\n    </tr>\n    <tr>\n      <th>101</th>\n      <td>5.2</td>\n      <td>1</td>\n      <td>r5.2-1-PTH0005.csv</td>\n      <td>PTH0005</td>\n      <td>01/31/2011 22:25:29</td>\n      <td>02/04/2011 05:42:33</td>\n    </tr>\n    <tr>\n      <th>102</th>\n      <td>5.2</td>\n      <td>1</td>\n      <td>r5.2-1-REF1924.csv</td>\n      <td>REF1924</td>\n      <td>10/14/2010 19:08:01</td>\n      <td>10/19/2010 22:24:04</td>\n    </tr>\n    <tr>\n      <th>103</th>\n      <td>5.2</td>\n      <td>1</td>\n      <td>r5.2-1-SAF1942.csv</td>\n      <td>SAF1942</td>\n      <td>07/21/2010 00:37:49</td>\n      <td>07/23/2010 02:12:05</td>\n    </tr>\n    <tr>\n      <th>104</th>\n      <td>5.2</td>\n      <td>1</td>\n      <td>r5.2-1-SLL0193.csv</td>\n      <td>SLL0193</td>\n      <td>08/27/2010 18:57:31</td>\n      <td>09/03/2010 00:24:08</td>\n    </tr>\n    <tr>\n      <th>105</th>\n      <td>5.2</td>\n      <td>1</td>\n      <td>r5.2-1-TMC0934.csv</td>\n      <td>TMC0934</td>\n      <td>02/17/2011 06:53:38</td>\n      <td>02/22/2011 21:01:13</td>\n    </tr>\n    <tr>\n      <th>106</th>\n      <td>5.2</td>\n      <td>1</td>\n      <td>r5.2-1-VAH1292.csv</td>\n      <td>VAH1292</td>\n      <td>04/29/2011 22:01:07</td>\n      <td>05/07/2011 04:04:19</td>\n    </tr>\n    <tr>\n      <th>107</th>\n      <td>5.2</td>\n      <td>1</td>\n      <td>r5.2-1-WHB1247.csv</td>\n      <td>WHB1247</td>\n      <td>02/14/2011 21:50:42</td>\n      <td>02/19/2011 01:07:48</td>\n    </tr>\n    <tr>\n      <th>108</th>\n      <td>5.2</td>\n      <td>1</td>\n      <td>r5.2-1-WSK1857.csv</td>\n      <td>WSK1857</td>\n      <td>03/04/2011 00:09:34</td>\n      <td>03/11/2011 06:52:02</td>\n    </tr>\n    <tr>\n      <th>109</th>\n      <td>5.2</td>\n      <td>1</td>\n      <td>r5.2-1-WWW0701.csv</td>\n      <td>WWW0701</td>\n      <td>03/23/2011 06:54:24</td>\n      <td>03/30/2011 05:40:52</td>\n    </tr>\n    <tr>\n      <th>110</th>\n      <td>5.2</td>\n      <td>1</td>\n      <td>r5.2-1-ZKP0542.csv</td>\n      <td>ZKP0542</td>\n      <td>01/12/2011 20:00:15</td>\n      <td>01/15/2011 04:17:00</td>\n    </tr>\n  </tbody>\n</table>\n</div>"
     },
     "execution_count": 25,
     "metadata": {},
     "output_type": "execute_result"
    }
   ],
   "source": [
    "# main_df[main_df['scenario'] == 1]"
   ],
   "metadata": {
    "collapsed": false,
    "pycharm": {
     "name": "#%%\n"
    }
   }
  },
  {
   "cell_type": "markdown",
   "source": [
    "# Detail of Normal User"
   ],
   "metadata": {
    "collapsed": false
   }
  },
  {
   "cell_type": "code",
   "execution_count": 39,
   "outputs": [],
   "source": [
    "logon_df = pd.read_csv(dataset_dir / 'logon.csv')\n",
    "# logon_df"
   ],
   "metadata": {
    "collapsed": false,
    "pycharm": {
     "name": "#%%\n"
    }
   }
  },
  {
   "cell_type": "code",
   "execution_count": 29,
   "outputs": [
    {
     "name": "stdout",
     "output_type": "stream",
     "text": [
      "total of user: 2000\n",
      "total of Normal User:  1901\n"
     ]
    }
   ],
   "source": [
    "print(\"total of user:\", len(logon_df['user'].unique()))\n",
    "print(\"total of Normal User: \", len(logon_df['user'].unique()) - len(malicious_users))"
   ],
   "metadata": {
    "collapsed": false,
    "pycharm": {
     "name": "#%%\n"
    }
   }
  },
  {
   "cell_type": "markdown",
   "source": [
    "# Summary until now\n",
    "|  total user | senerio 1 | senerio 2 | senerio 3 | senerio 4| Normal user |\n",
    "| --- | --- | --- | -- | -- | -- |\n",
    "| 2000 | 29 | 30 | 10 | 30 | 1901 |"
   ],
   "metadata": {
    "collapsed": false
   }
  },
  {
   "cell_type": "markdown",
   "source": [
    "# Detail of log quantities"
   ],
   "metadata": {
    "collapsed": false,
    "pycharm": {
     "name": "#%% md\n"
    }
   }
  },
  {
   "cell_type": "code",
   "execution_count": 41,
   "outputs": [
    {
     "data": {
      "text/plain": "                               id                date     user       pc  \\\n0        {Q4D5-W4HH44UC-5188LWZK} 2010-01-02 02:24:51  JBI1134  PC-0168   \n1        {G7V0-S4TP95SA-9203AOGR} 2010-01-02 02:38:28  JBI1134  PC-0168   \n2        {B4U7-K4DB84LM-2657VBFY} 2010-01-02 04:55:52  JBI1134  PC-2320   \n3        {K2E1-W7VG04OA-3686THSV} 2010-01-02 05:02:28  JBI1134  PC-2320   \n4        {Z7B2-Z8AS75YE-4485NAFE} 2010-01-02 06:35:00  HMI1448  PC-9352   \n5        {H2N5-X1QK85TW-4800RFFG} 2010-01-02 06:36:55  JBI1134  PC-5439   \n6        {S4B7-R6UW34WW-9244WTVD} 2010-01-02 06:38:42  JBI1134  PC-5439   \n7        {K5P1-Y6HZ87QS-5849WSYS} 2010-01-02 06:46:00  KMC1934  PC-2683   \n8        {P6B3-G4RP59TS-5233ZZFI} 2010-01-02 06:50:00  JBI1134  PC-7235   \n9        {R7Y5-U1VO87KN-5237KNZT} 2010-01-02 06:55:00  HRE1950  PC-8025   \n10       {T1U7-I7JB26LP-7140HNMC} 2010-01-02 06:56:00  HBP0009  PC-8466   \n11       {U2A0-J3ZO81IH-6510VANL} 2010-01-02 06:58:00  OCW1127  PC-7239   \n12       {A3Q7-G9CV17YG-8280HQAG} 2010-01-02 06:59:00  PMB1928  PC-0026   \n13       {X4J4-O2DE04LN-6069UNXT} 2010-01-02 07:09:00  DCB0446  PC-7490   \n14       {L2L1-Y3CC03EE-4739DMKJ} 2010-01-02 07:13:59  JBI1134  PC-2226   \n15       {L8S9-Q2NS95NB-3167LHVG} 2010-01-02 07:15:00  OHR0583  PC-0804   \n16       {L0R0-D3NR92UX-9782DQLO} 2010-01-02 07:16:00  QGB0554  PC-2999   \n17       {B3I3-N7WL96RV-0190VIKR} 2010-01-02 07:16:08  JBI1134  PC-2226   \n18       {E9W5-L8HB85RJ-1921SJPX} 2010-01-02 07:17:00  HWR1573  PC-0766   \n19       {Y8X6-P7RZ78IB-5529OKIL} 2010-01-02 07:19:00  RDC0128  PC-2973   \n20       {O7D4-E1LN25FZ-3818EPVD} 2010-01-02 07:20:00  LAS0129  PC-1252   \n21       {W2Y8-O5TX23UE-5273HELU} 2010-01-02 07:21:00  LIJ1581  PC-6639   \n22       {H9L6-T5BK67RE-9499GXDI} 2010-01-02 07:22:00  BCC1597  PC-2558   \n23       {Y9Z7-X7DP20UN-1901FNFC} 2010-01-02 07:24:00  AKS0586  PC-5335   \n24       {P4C0-T4BM87QB-3449PLUA} 2010-01-02 07:24:00  HRT0984  PC-7416   \n25       {U0U5-J2AX64NN-7430KKNP} 2010-01-02 07:27:00  VRP0267  PC-5687   \n26       {I6W1-W3MG71AW-4776ITNU} 2010-01-02 07:28:00  AHN0681  PC-9843   \n27       {W0Y4-M0TE51CP-5841GYLV} 2010-01-02 07:28:00  EMR0269  PC-7899   \n28       {O2M9-M7AZ48CD-8197GBWM} 2010-01-02 07:29:00  DSB0530  PC-7866   \n29       {T6R9-O7HI22LC-5988COVZ} 2010-01-02 07:30:00  BWJ1539  PC-4624   \n...                           ...                 ...      ...      ...   \n1810040  {G5I1-R0XJ07AC-7487XRNX} 2011-06-01 23:24:40  HJS0909  PC-3195   \n1810041  {H7F4-U1EL57SI-9348VXDR} 2011-06-01 23:25:29  AAW0914  PC-2929   \n1810042  {T5Z7-Z2MJ77KU-0801KOCI} 2011-06-01 23:26:48  AAW0914  PC-2929   \n1810043  {W9P2-N7YB71XM-3787FVLI} 2011-06-01 23:26:56  RVJ0046  PC-3773   \n1810044  {L0A8-S8OH07UD-8677WLEE} 2011-06-01 23:27:51  GCH0470  PC-4875   \n1810045  {W3K4-P8SD30US-2480JFUC} 2011-06-01 23:28:45  HJS0909  PC-9775   \n1810046  {G9N5-R1DS53QJ-5347LALO} 2011-06-01 23:30:02  JWS0047  PC-1624   \n1810047  {H8M9-X4QA05YY-2616TSEI} 2011-06-01 23:30:25  GCH0470  PC-5439   \n1810048  {F2A8-D2ZT53SD-2921JLSZ} 2011-06-01 23:34:36  LSH0464  PC-3195   \n1810049  {G5K4-L4WZ39YO-9183MNAQ} 2011-06-01 23:38:10  GCH0470  PC-5439   \n1810050  {N9H6-K5YG57LX-1513IOEI} 2011-06-01 23:39:22  JUW1135  PC-3180   \n1810051  {O5Y9-R3CN80OK-0696LHSI} 2011-06-01 23:39:41  OQE0920  PC-2457   \n1810052  {S5V8-A8VO38YN-7195WFEW} 2011-06-01 23:42:35  JWS0047  PC-1624   \n1810053  {S5X8-G0ZU96EE-1140KTBE} 2011-06-01 23:43:13  JWS0047  PC-8360   \n1810054  {K0P3-P9US34DN-0290GQMY} 2011-06-01 23:45:33  CAP0471  PC-8654   \n1810055  {Z7U1-B9NW44DN-2720MNRB} 2011-06-01 23:46:27  JUW1135  PC-3180   \n1810056  {V9V5-P7HP10IC-5992FMDY} 2011-06-01 23:46:37  HJS0909  PC-9775   \n1810057  {S3Y7-O6UL72ST-2475WMWP} 2011-06-01 23:47:45  XAW0912  PC-1967   \n1810058  {R5K5-O0BS23CH-6212QABH} 2011-06-01 23:49:18  XAW0912  PC-1967   \n1810059  {O6U1-B3KX62DE-8699DEOZ} 2011-06-01 23:49:34  LSH0464  PC-3195   \n1810060  {E7E0-S8RT34IT-1800RDHG} 2011-06-01 23:50:10  CAP0471  PC-8654   \n1810061  {Q8Y6-Q9QC66JS-4091VMDE} 2011-06-01 23:56:46  JWS0047  PC-8360   \n1810062  {W9H1-X6MB65MI-6229BUNK} 2011-06-02 00:04:39  DDR1876  PC-4189   \n1810063  {U0S2-H9JL23SZ-7567EEHA} 2011-06-02 01:55:42  KRC0098  PC-4767   \n1810064  {U8X0-C0GG32RS-2895WPAK} 2011-06-02 04:29:26  KRC0098  PC-4767   \n1810065  {R0G6-T1VW07GZ-5783XLMI} 2011-06-02 04:47:17  MRW0625  PC-0695   \n1810066  {F6I3-C5FP74BS-9294FQRB} 2011-06-02 05:11:30  HMW0602  PC-7686   \n1810067  {K3A5-V5QA87WZ-2573MVHK} 2011-06-02 06:06:15  KJN0240  PC-7696   \n1810068  {B6K2-K0EA81BU-8187UXLI} 2011-06-02 06:32:42  MRW0625  PC-0695   \n1810069  {N4R7-N2SE68XN-8417KOLB} 2011-06-02 06:38:55  DDR1876  PC-4189   \n\n        activity        day  \n0          Logon 2010-01-02  \n1         Logoff 2010-01-02  \n2          Logon 2010-01-02  \n3         Logoff 2010-01-02  \n4          Logon 2010-01-02  \n5          Logon 2010-01-02  \n6         Logoff 2010-01-02  \n7          Logon 2010-01-02  \n8          Logon 2010-01-02  \n9          Logon 2010-01-02  \n10         Logon 2010-01-02  \n11         Logon 2010-01-02  \n12         Logon 2010-01-02  \n13         Logon 2010-01-02  \n14         Logon 2010-01-02  \n15         Logon 2010-01-02  \n16         Logon 2010-01-02  \n17        Logoff 2010-01-02  \n18         Logon 2010-01-02  \n19         Logon 2010-01-02  \n20         Logon 2010-01-02  \n21         Logon 2010-01-02  \n22         Logon 2010-01-02  \n23         Logon 2010-01-02  \n24         Logon 2010-01-02  \n25         Logon 2010-01-02  \n26         Logon 2010-01-02  \n27         Logon 2010-01-02  \n28         Logon 2010-01-02  \n29         Logon 2010-01-02  \n...          ...        ...  \n1810040   Logoff 2011-06-01  \n1810041    Logon 2011-06-01  \n1810042   Logoff 2011-06-01  \n1810043   Logoff 2011-06-01  \n1810044   Logoff 2011-06-01  \n1810045    Logon 2011-06-01  \n1810046    Logon 2011-06-01  \n1810047    Logon 2011-06-01  \n1810048    Logon 2011-06-01  \n1810049   Logoff 2011-06-01  \n1810050    Logon 2011-06-01  \n1810051   Logoff 2011-06-01  \n1810052   Logoff 2011-06-01  \n1810053    Logon 2011-06-01  \n1810054    Logon 2011-06-01  \n1810055   Logoff 2011-06-01  \n1810056   Logoff 2011-06-01  \n1810057    Logon 2011-06-01  \n1810058   Logoff 2011-06-01  \n1810059   Logoff 2011-06-01  \n1810060   Logoff 2011-06-01  \n1810061   Logoff 2011-06-01  \n1810062    Logon 2011-06-02  \n1810063    Logon 2011-06-02  \n1810064   Logoff 2011-06-02  \n1810065    Logon 2011-06-02  \n1810066   Logoff 2011-06-02  \n1810067   Logoff 2011-06-02  \n1810068   Logoff 2011-06-02  \n1810069   Logoff 2011-06-02  \n\n[1810070 rows x 6 columns]",
      "text/html": "<div>\n<style scoped>\n    .dataframe tbody tr th:only-of-type {\n        vertical-align: middle;\n    }\n\n    .dataframe tbody tr th {\n        vertical-align: top;\n    }\n\n    .dataframe thead th {\n        text-align: right;\n    }\n</style>\n<table border=\"1\" class=\"dataframe\">\n  <thead>\n    <tr style=\"text-align: right;\">\n      <th></th>\n      <th>id</th>\n      <th>date</th>\n      <th>user</th>\n      <th>pc</th>\n      <th>activity</th>\n      <th>day</th>\n    </tr>\n  </thead>\n  <tbody>\n    <tr>\n      <th>0</th>\n      <td>{Q4D5-W4HH44UC-5188LWZK}</td>\n      <td>2010-01-02 02:24:51</td>\n      <td>JBI1134</td>\n      <td>PC-0168</td>\n      <td>Logon</td>\n      <td>2010-01-02</td>\n    </tr>\n    <tr>\n      <th>1</th>\n      <td>{G7V0-S4TP95SA-9203AOGR}</td>\n      <td>2010-01-02 02:38:28</td>\n      <td>JBI1134</td>\n      <td>PC-0168</td>\n      <td>Logoff</td>\n      <td>2010-01-02</td>\n    </tr>\n    <tr>\n      <th>2</th>\n      <td>{B4U7-K4DB84LM-2657VBFY}</td>\n      <td>2010-01-02 04:55:52</td>\n      <td>JBI1134</td>\n      <td>PC-2320</td>\n      <td>Logon</td>\n      <td>2010-01-02</td>\n    </tr>\n    <tr>\n      <th>3</th>\n      <td>{K2E1-W7VG04OA-3686THSV}</td>\n      <td>2010-01-02 05:02:28</td>\n      <td>JBI1134</td>\n      <td>PC-2320</td>\n      <td>Logoff</td>\n      <td>2010-01-02</td>\n    </tr>\n    <tr>\n      <th>4</th>\n      <td>{Z7B2-Z8AS75YE-4485NAFE}</td>\n      <td>2010-01-02 06:35:00</td>\n      <td>HMI1448</td>\n      <td>PC-9352</td>\n      <td>Logon</td>\n      <td>2010-01-02</td>\n    </tr>\n    <tr>\n      <th>5</th>\n      <td>{H2N5-X1QK85TW-4800RFFG}</td>\n      <td>2010-01-02 06:36:55</td>\n      <td>JBI1134</td>\n      <td>PC-5439</td>\n      <td>Logon</td>\n      <td>2010-01-02</td>\n    </tr>\n    <tr>\n      <th>6</th>\n      <td>{S4B7-R6UW34WW-9244WTVD}</td>\n      <td>2010-01-02 06:38:42</td>\n      <td>JBI1134</td>\n      <td>PC-5439</td>\n      <td>Logoff</td>\n      <td>2010-01-02</td>\n    </tr>\n    <tr>\n      <th>7</th>\n      <td>{K5P1-Y6HZ87QS-5849WSYS}</td>\n      <td>2010-01-02 06:46:00</td>\n      <td>KMC1934</td>\n      <td>PC-2683</td>\n      <td>Logon</td>\n      <td>2010-01-02</td>\n    </tr>\n    <tr>\n      <th>8</th>\n      <td>{P6B3-G4RP59TS-5233ZZFI}</td>\n      <td>2010-01-02 06:50:00</td>\n      <td>JBI1134</td>\n      <td>PC-7235</td>\n      <td>Logon</td>\n      <td>2010-01-02</td>\n    </tr>\n    <tr>\n      <th>9</th>\n      <td>{R7Y5-U1VO87KN-5237KNZT}</td>\n      <td>2010-01-02 06:55:00</td>\n      <td>HRE1950</td>\n      <td>PC-8025</td>\n      <td>Logon</td>\n      <td>2010-01-02</td>\n    </tr>\n    <tr>\n      <th>10</th>\n      <td>{T1U7-I7JB26LP-7140HNMC}</td>\n      <td>2010-01-02 06:56:00</td>\n      <td>HBP0009</td>\n      <td>PC-8466</td>\n      <td>Logon</td>\n      <td>2010-01-02</td>\n    </tr>\n    <tr>\n      <th>11</th>\n      <td>{U2A0-J3ZO81IH-6510VANL}</td>\n      <td>2010-01-02 06:58:00</td>\n      <td>OCW1127</td>\n      <td>PC-7239</td>\n      <td>Logon</td>\n      <td>2010-01-02</td>\n    </tr>\n    <tr>\n      <th>12</th>\n      <td>{A3Q7-G9CV17YG-8280HQAG}</td>\n      <td>2010-01-02 06:59:00</td>\n      <td>PMB1928</td>\n      <td>PC-0026</td>\n      <td>Logon</td>\n      <td>2010-01-02</td>\n    </tr>\n    <tr>\n      <th>13</th>\n      <td>{X4J4-O2DE04LN-6069UNXT}</td>\n      <td>2010-01-02 07:09:00</td>\n      <td>DCB0446</td>\n      <td>PC-7490</td>\n      <td>Logon</td>\n      <td>2010-01-02</td>\n    </tr>\n    <tr>\n      <th>14</th>\n      <td>{L2L1-Y3CC03EE-4739DMKJ}</td>\n      <td>2010-01-02 07:13:59</td>\n      <td>JBI1134</td>\n      <td>PC-2226</td>\n      <td>Logon</td>\n      <td>2010-01-02</td>\n    </tr>\n    <tr>\n      <th>15</th>\n      <td>{L8S9-Q2NS95NB-3167LHVG}</td>\n      <td>2010-01-02 07:15:00</td>\n      <td>OHR0583</td>\n      <td>PC-0804</td>\n      <td>Logon</td>\n      <td>2010-01-02</td>\n    </tr>\n    <tr>\n      <th>16</th>\n      <td>{L0R0-D3NR92UX-9782DQLO}</td>\n      <td>2010-01-02 07:16:00</td>\n      <td>QGB0554</td>\n      <td>PC-2999</td>\n      <td>Logon</td>\n      <td>2010-01-02</td>\n    </tr>\n    <tr>\n      <th>17</th>\n      <td>{B3I3-N7WL96RV-0190VIKR}</td>\n      <td>2010-01-02 07:16:08</td>\n      <td>JBI1134</td>\n      <td>PC-2226</td>\n      <td>Logoff</td>\n      <td>2010-01-02</td>\n    </tr>\n    <tr>\n      <th>18</th>\n      <td>{E9W5-L8HB85RJ-1921SJPX}</td>\n      <td>2010-01-02 07:17:00</td>\n      <td>HWR1573</td>\n      <td>PC-0766</td>\n      <td>Logon</td>\n      <td>2010-01-02</td>\n    </tr>\n    <tr>\n      <th>19</th>\n      <td>{Y8X6-P7RZ78IB-5529OKIL}</td>\n      <td>2010-01-02 07:19:00</td>\n      <td>RDC0128</td>\n      <td>PC-2973</td>\n      <td>Logon</td>\n      <td>2010-01-02</td>\n    </tr>\n    <tr>\n      <th>20</th>\n      <td>{O7D4-E1LN25FZ-3818EPVD}</td>\n      <td>2010-01-02 07:20:00</td>\n      <td>LAS0129</td>\n      <td>PC-1252</td>\n      <td>Logon</td>\n      <td>2010-01-02</td>\n    </tr>\n    <tr>\n      <th>21</th>\n      <td>{W2Y8-O5TX23UE-5273HELU}</td>\n      <td>2010-01-02 07:21:00</td>\n      <td>LIJ1581</td>\n      <td>PC-6639</td>\n      <td>Logon</td>\n      <td>2010-01-02</td>\n    </tr>\n    <tr>\n      <th>22</th>\n      <td>{H9L6-T5BK67RE-9499GXDI}</td>\n      <td>2010-01-02 07:22:00</td>\n      <td>BCC1597</td>\n      <td>PC-2558</td>\n      <td>Logon</td>\n      <td>2010-01-02</td>\n    </tr>\n    <tr>\n      <th>23</th>\n      <td>{Y9Z7-X7DP20UN-1901FNFC}</td>\n      <td>2010-01-02 07:24:00</td>\n      <td>AKS0586</td>\n      <td>PC-5335</td>\n      <td>Logon</td>\n      <td>2010-01-02</td>\n    </tr>\n    <tr>\n      <th>24</th>\n      <td>{P4C0-T4BM87QB-3449PLUA}</td>\n      <td>2010-01-02 07:24:00</td>\n      <td>HRT0984</td>\n      <td>PC-7416</td>\n      <td>Logon</td>\n      <td>2010-01-02</td>\n    </tr>\n    <tr>\n      <th>25</th>\n      <td>{U0U5-J2AX64NN-7430KKNP}</td>\n      <td>2010-01-02 07:27:00</td>\n      <td>VRP0267</td>\n      <td>PC-5687</td>\n      <td>Logon</td>\n      <td>2010-01-02</td>\n    </tr>\n    <tr>\n      <th>26</th>\n      <td>{I6W1-W3MG71AW-4776ITNU}</td>\n      <td>2010-01-02 07:28:00</td>\n      <td>AHN0681</td>\n      <td>PC-9843</td>\n      <td>Logon</td>\n      <td>2010-01-02</td>\n    </tr>\n    <tr>\n      <th>27</th>\n      <td>{W0Y4-M0TE51CP-5841GYLV}</td>\n      <td>2010-01-02 07:28:00</td>\n      <td>EMR0269</td>\n      <td>PC-7899</td>\n      <td>Logon</td>\n      <td>2010-01-02</td>\n    </tr>\n    <tr>\n      <th>28</th>\n      <td>{O2M9-M7AZ48CD-8197GBWM}</td>\n      <td>2010-01-02 07:29:00</td>\n      <td>DSB0530</td>\n      <td>PC-7866</td>\n      <td>Logon</td>\n      <td>2010-01-02</td>\n    </tr>\n    <tr>\n      <th>29</th>\n      <td>{T6R9-O7HI22LC-5988COVZ}</td>\n      <td>2010-01-02 07:30:00</td>\n      <td>BWJ1539</td>\n      <td>PC-4624</td>\n      <td>Logon</td>\n      <td>2010-01-02</td>\n    </tr>\n    <tr>\n      <th>...</th>\n      <td>...</td>\n      <td>...</td>\n      <td>...</td>\n      <td>...</td>\n      <td>...</td>\n      <td>...</td>\n    </tr>\n    <tr>\n      <th>1810040</th>\n      <td>{G5I1-R0XJ07AC-7487XRNX}</td>\n      <td>2011-06-01 23:24:40</td>\n      <td>HJS0909</td>\n      <td>PC-3195</td>\n      <td>Logoff</td>\n      <td>2011-06-01</td>\n    </tr>\n    <tr>\n      <th>1810041</th>\n      <td>{H7F4-U1EL57SI-9348VXDR}</td>\n      <td>2011-06-01 23:25:29</td>\n      <td>AAW0914</td>\n      <td>PC-2929</td>\n      <td>Logon</td>\n      <td>2011-06-01</td>\n    </tr>\n    <tr>\n      <th>1810042</th>\n      <td>{T5Z7-Z2MJ77KU-0801KOCI}</td>\n      <td>2011-06-01 23:26:48</td>\n      <td>AAW0914</td>\n      <td>PC-2929</td>\n      <td>Logoff</td>\n      <td>2011-06-01</td>\n    </tr>\n    <tr>\n      <th>1810043</th>\n      <td>{W9P2-N7YB71XM-3787FVLI}</td>\n      <td>2011-06-01 23:26:56</td>\n      <td>RVJ0046</td>\n      <td>PC-3773</td>\n      <td>Logoff</td>\n      <td>2011-06-01</td>\n    </tr>\n    <tr>\n      <th>1810044</th>\n      <td>{L0A8-S8OH07UD-8677WLEE}</td>\n      <td>2011-06-01 23:27:51</td>\n      <td>GCH0470</td>\n      <td>PC-4875</td>\n      <td>Logoff</td>\n      <td>2011-06-01</td>\n    </tr>\n    <tr>\n      <th>1810045</th>\n      <td>{W3K4-P8SD30US-2480JFUC}</td>\n      <td>2011-06-01 23:28:45</td>\n      <td>HJS0909</td>\n      <td>PC-9775</td>\n      <td>Logon</td>\n      <td>2011-06-01</td>\n    </tr>\n    <tr>\n      <th>1810046</th>\n      <td>{G9N5-R1DS53QJ-5347LALO}</td>\n      <td>2011-06-01 23:30:02</td>\n      <td>JWS0047</td>\n      <td>PC-1624</td>\n      <td>Logon</td>\n      <td>2011-06-01</td>\n    </tr>\n    <tr>\n      <th>1810047</th>\n      <td>{H8M9-X4QA05YY-2616TSEI}</td>\n      <td>2011-06-01 23:30:25</td>\n      <td>GCH0470</td>\n      <td>PC-5439</td>\n      <td>Logon</td>\n      <td>2011-06-01</td>\n    </tr>\n    <tr>\n      <th>1810048</th>\n      <td>{F2A8-D2ZT53SD-2921JLSZ}</td>\n      <td>2011-06-01 23:34:36</td>\n      <td>LSH0464</td>\n      <td>PC-3195</td>\n      <td>Logon</td>\n      <td>2011-06-01</td>\n    </tr>\n    <tr>\n      <th>1810049</th>\n      <td>{G5K4-L4WZ39YO-9183MNAQ}</td>\n      <td>2011-06-01 23:38:10</td>\n      <td>GCH0470</td>\n      <td>PC-5439</td>\n      <td>Logoff</td>\n      <td>2011-06-01</td>\n    </tr>\n    <tr>\n      <th>1810050</th>\n      <td>{N9H6-K5YG57LX-1513IOEI}</td>\n      <td>2011-06-01 23:39:22</td>\n      <td>JUW1135</td>\n      <td>PC-3180</td>\n      <td>Logon</td>\n      <td>2011-06-01</td>\n    </tr>\n    <tr>\n      <th>1810051</th>\n      <td>{O5Y9-R3CN80OK-0696LHSI}</td>\n      <td>2011-06-01 23:39:41</td>\n      <td>OQE0920</td>\n      <td>PC-2457</td>\n      <td>Logoff</td>\n      <td>2011-06-01</td>\n    </tr>\n    <tr>\n      <th>1810052</th>\n      <td>{S5V8-A8VO38YN-7195WFEW}</td>\n      <td>2011-06-01 23:42:35</td>\n      <td>JWS0047</td>\n      <td>PC-1624</td>\n      <td>Logoff</td>\n      <td>2011-06-01</td>\n    </tr>\n    <tr>\n      <th>1810053</th>\n      <td>{S5X8-G0ZU96EE-1140KTBE}</td>\n      <td>2011-06-01 23:43:13</td>\n      <td>JWS0047</td>\n      <td>PC-8360</td>\n      <td>Logon</td>\n      <td>2011-06-01</td>\n    </tr>\n    <tr>\n      <th>1810054</th>\n      <td>{K0P3-P9US34DN-0290GQMY}</td>\n      <td>2011-06-01 23:45:33</td>\n      <td>CAP0471</td>\n      <td>PC-8654</td>\n      <td>Logon</td>\n      <td>2011-06-01</td>\n    </tr>\n    <tr>\n      <th>1810055</th>\n      <td>{Z7U1-B9NW44DN-2720MNRB}</td>\n      <td>2011-06-01 23:46:27</td>\n      <td>JUW1135</td>\n      <td>PC-3180</td>\n      <td>Logoff</td>\n      <td>2011-06-01</td>\n    </tr>\n    <tr>\n      <th>1810056</th>\n      <td>{V9V5-P7HP10IC-5992FMDY}</td>\n      <td>2011-06-01 23:46:37</td>\n      <td>HJS0909</td>\n      <td>PC-9775</td>\n      <td>Logoff</td>\n      <td>2011-06-01</td>\n    </tr>\n    <tr>\n      <th>1810057</th>\n      <td>{S3Y7-O6UL72ST-2475WMWP}</td>\n      <td>2011-06-01 23:47:45</td>\n      <td>XAW0912</td>\n      <td>PC-1967</td>\n      <td>Logon</td>\n      <td>2011-06-01</td>\n    </tr>\n    <tr>\n      <th>1810058</th>\n      <td>{R5K5-O0BS23CH-6212QABH}</td>\n      <td>2011-06-01 23:49:18</td>\n      <td>XAW0912</td>\n      <td>PC-1967</td>\n      <td>Logoff</td>\n      <td>2011-06-01</td>\n    </tr>\n    <tr>\n      <th>1810059</th>\n      <td>{O6U1-B3KX62DE-8699DEOZ}</td>\n      <td>2011-06-01 23:49:34</td>\n      <td>LSH0464</td>\n      <td>PC-3195</td>\n      <td>Logoff</td>\n      <td>2011-06-01</td>\n    </tr>\n    <tr>\n      <th>1810060</th>\n      <td>{E7E0-S8RT34IT-1800RDHG}</td>\n      <td>2011-06-01 23:50:10</td>\n      <td>CAP0471</td>\n      <td>PC-8654</td>\n      <td>Logoff</td>\n      <td>2011-06-01</td>\n    </tr>\n    <tr>\n      <th>1810061</th>\n      <td>{Q8Y6-Q9QC66JS-4091VMDE}</td>\n      <td>2011-06-01 23:56:46</td>\n      <td>JWS0047</td>\n      <td>PC-8360</td>\n      <td>Logoff</td>\n      <td>2011-06-01</td>\n    </tr>\n    <tr>\n      <th>1810062</th>\n      <td>{W9H1-X6MB65MI-6229BUNK}</td>\n      <td>2011-06-02 00:04:39</td>\n      <td>DDR1876</td>\n      <td>PC-4189</td>\n      <td>Logon</td>\n      <td>2011-06-02</td>\n    </tr>\n    <tr>\n      <th>1810063</th>\n      <td>{U0S2-H9JL23SZ-7567EEHA}</td>\n      <td>2011-06-02 01:55:42</td>\n      <td>KRC0098</td>\n      <td>PC-4767</td>\n      <td>Logon</td>\n      <td>2011-06-02</td>\n    </tr>\n    <tr>\n      <th>1810064</th>\n      <td>{U8X0-C0GG32RS-2895WPAK}</td>\n      <td>2011-06-02 04:29:26</td>\n      <td>KRC0098</td>\n      <td>PC-4767</td>\n      <td>Logoff</td>\n      <td>2011-06-02</td>\n    </tr>\n    <tr>\n      <th>1810065</th>\n      <td>{R0G6-T1VW07GZ-5783XLMI}</td>\n      <td>2011-06-02 04:47:17</td>\n      <td>MRW0625</td>\n      <td>PC-0695</td>\n      <td>Logon</td>\n      <td>2011-06-02</td>\n    </tr>\n    <tr>\n      <th>1810066</th>\n      <td>{F6I3-C5FP74BS-9294FQRB}</td>\n      <td>2011-06-02 05:11:30</td>\n      <td>HMW0602</td>\n      <td>PC-7686</td>\n      <td>Logoff</td>\n      <td>2011-06-02</td>\n    </tr>\n    <tr>\n      <th>1810067</th>\n      <td>{K3A5-V5QA87WZ-2573MVHK}</td>\n      <td>2011-06-02 06:06:15</td>\n      <td>KJN0240</td>\n      <td>PC-7696</td>\n      <td>Logoff</td>\n      <td>2011-06-02</td>\n    </tr>\n    <tr>\n      <th>1810068</th>\n      <td>{B6K2-K0EA81BU-8187UXLI}</td>\n      <td>2011-06-02 06:32:42</td>\n      <td>MRW0625</td>\n      <td>PC-0695</td>\n      <td>Logoff</td>\n      <td>2011-06-02</td>\n    </tr>\n    <tr>\n      <th>1810069</th>\n      <td>{N4R7-N2SE68XN-8417KOLB}</td>\n      <td>2011-06-02 06:38:55</td>\n      <td>DDR1876</td>\n      <td>PC-4189</td>\n      <td>Logoff</td>\n      <td>2011-06-02</td>\n    </tr>\n  </tbody>\n</table>\n<p>1810070 rows × 6 columns</p>\n</div>"
     },
     "execution_count": 41,
     "metadata": {},
     "output_type": "execute_result"
    }
   ],
   "source": [
    "logon_df['date'] = pd.to_datetime(logon_df.date, format='%m/%d/%Y %H:%M:%S')\n",
    "\n",
    "logon_df['day'] =logon_df['date'].dt.floor('D')\n",
    "logon_df"
   ],
   "metadata": {
    "collapsed": false,
    "pycharm": {
     "name": "#%%\n"
    }
   }
  },
  {
   "cell_type": "code",
   "execution_count": 47,
   "outputs": [],
   "source": [
    "def get_day(logon_df):\n",
    "    logon_df['date'] = pd.to_datetime(logon_df.date, format='%m/%d/%Y %H:%M:%S')\n",
    "    logon_df['day'] =logon_df['date'].dt.floor('D')"
   ],
   "metadata": {
    "collapsed": false,
    "pycharm": {
     "name": "#%%\n"
    }
   }
  },
  {
   "cell_type": "code",
   "execution_count": 50,
   "outputs": [
    {
     "name": "stdout",
     "output_type": "stream",
     "text": [
      "total log of  1810070 days\n"
     ]
    }
   ],
   "source": [
    "total_days = len(logon_df['day'])\n",
    "print(\"total log of \", total_days, \"days\")\n",
    "# len(logon_df[logon_df['day'] == \"2011-06-01\"])"
   ],
   "metadata": {
    "collapsed": false,
    "pycharm": {
     "name": "#%%\n"
    }
   }
  },
  {
   "cell_type": "code",
   "execution_count": 49,
   "outputs": [],
   "source": [
    "days = logon_df['day'].unique()\n",
    "file_df = pd.read_csv(dataset_dir/ 'file.csv')\n",
    "http_df = pd.read_csv(dataset_dir / 'http.csv')\n",
    "email_df = pd.read_csv(dataset_dir / 'email.csv')\n",
    "device_df = pd.read_csv(dataset_dir / 'device.csv')\n",
    "\n",
    "get_day(file_df)\n",
    "get_day(http_df)\n",
    "get_day(email_df)\n",
    "get_day(device_df)"
   ],
   "metadata": {
    "collapsed": false,
    "pycharm": {
     "name": "#%%\n"
    }
   }
  },
  {
   "cell_type": "markdown",
   "source": [
    "# Summary of all\n",
    "|  total user | senerio 1 | senerio 2 | senerio 3 | senerio 4| Normal user |\n",
    "| --- | --- | --- | -- | -- | -- |\n",
    "| 2000 | 29 | 30 | 10 | 30 | 1901 |\n",
    "\n",
    "| logs per * | senerio 1 | senerio 2 | senerio 3 | senerio 4| Normal user | total |\n",
    "| --- | --- | --- | -- | -- | -- | -- |\n",
    "|total logs | 486 | 6477 | 184 | 3181| 79846376 | 79856704\n",
    "\n",
    "| logs per * | senerio 1 | senerio 2 | senerio 3 | senerio 4| Normal user | total |\n",
    "| --- | --- | --- | -- | -- | -- | -- |\n",
    "|logs per user | 17 | 215 | 18 | 106| 42002 | 39928"
   ],
   "metadata": {
    "collapsed": false,
    "pycharm": {
     "name": "#%% md\n"
    }
   }
  }
 ],
 "metadata": {
  "kernelspec": {
   "display_name": "Python 3",
   "language": "python",
   "name": "python3"
  },
  "language_info": {
   "codemirror_mode": {
    "name": "ipython",
    "version": 2
   },
   "file_extension": ".py",
   "mimetype": "text/x-python",
   "name": "python",
   "nbconvert_exporter": "python",
   "pygments_lexer": "ipython2",
   "version": "2.7.6"
  }
 },
 "nbformat": 4,
 "nbformat_minor": 0
}