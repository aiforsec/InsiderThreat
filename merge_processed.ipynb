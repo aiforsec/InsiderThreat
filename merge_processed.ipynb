{
 "cells": [
  {
   "cell_type": "code",
   "execution_count": 1,
   "metadata": {
    "colab": {},
    "colab_type": "code",
    "id": "H6G0XFQSOatl"
   },
   "outputs": [],
   "source": [
    "import pandas as pd\n",
    "from pathlib import Path\n",
    "from sklearn.preprocessing import LabelEncoder\n",
    "import numpy as np\n",
    "import dask.dataframe as dd\n",
    "\n",
    "TOPIC_NUM = 100\n",
    "\n",
    "tmp_dir = Path('./')\n",
    "answers_dir = Path(r\"../CERT_DATA/ftp.sei.cmu.edu/pub/cert-data/answers\")\n",
    "answers_file = answers_dir/\"insiders.csv\"\n",
    "dataset_version = '5.2'\n",
    "assert(answers_file.is_file())"
   ]
  },
  {
   "cell_type": "code",
   "execution_count": 3,
   "metadata": {
    "colab": {},
    "colab_type": "code",
    "id": "RUxJfKpugLZx"
   },
   "outputs": [],
   "source": [
    "# https://stackoverflow.com/questions/57531388/how-can-i-reduce-the-memory-of-a-pandas-dataframe\n",
    "def reduce_mem_usage(df, ignore_cols = None ):\n",
    "    \"\"\" \n",
    "    iterate through all the columns of a dataframe and \n",
    "    modify the data type to reduce memory usage.        \n",
    "    \"\"\"\n",
    "    if ignore_cols is None:\n",
    "\t    ignore_cols = []\n",
    "    start_mem = df.memory_usage().sum() / 1024**2\n",
    "    \n",
    "    for col in df.columns:\n",
    "        col_type = df[col].dtype\n",
    "        print(col, col_type)\n",
    "\n",
    "        if col in ignore_cols:\n",
    "            continue\n",
    "        \n",
    "        if col_type != object:\n",
    "            c_min = df[col].min()\n",
    "            c_max = df[col].max()\n",
    "            if str(col_type)[:3] == 'int':\n",
    "                if c_min > np.iinfo(np.int8).min and c_max <\\\n",
    "                  np.iinfo(np.int8).max:\n",
    "                    df[col] = df[col].astype(np.int8)\n",
    "                elif c_min > np.iinfo(np.int16).min and c_max <\\\n",
    "                   np.iinfo(np.int16).max:\n",
    "                    df[col] = df[col].astype(np.int16)\n",
    "                elif c_min > np.iinfo(np.int32).min and c_max <\\\n",
    "                   np.iinfo(np.int32).max:\n",
    "                    df[col] = df[col].astype(np.int32)\n",
    "                elif c_min > np.iinfo(np.int64).min and c_max <\\\n",
    "                   np.iinfo(np.int64).max:\n",
    "                    df[col] = df[col].astype(np.int64)  \n",
    "            else:\n",
    "                if c_min > np.finfo(np.float16).min and c_max <\\\n",
    "                   np.finfo(np.float16).max:\n",
    "                    df[col] = df[col].astype(np.float16)\n",
    "                elif c_min > np.finfo(np.float32).min and c_max <\\\n",
    "                   np.finfo(np.float32).max:\n",
    "                    df[col] = df[col].astype(np.float32)\n",
    "                else:\n",
    "                    df[col] = df[col].astype(np.float64)\n",
    "        else:\n",
    "            df[col] = df[col].astype('category')\n",
    "        print(\"\\tNew dtype:  \", df[col].dtype)\n",
    "    end_mem = df.memory_usage().sum() / 1024**2\n",
    "    print(('Memory usage after optimization is: {:.2f}' \n",
    "                              'MB').format(end_mem))\n",
    "    print('Decreased by {:.1f}%'.format(100 * (start_mem - end_mem) \n",
    "                                             / start_mem))\n",
    "    \n",
    "    return df"
   ]
  },
  {
   "cell_type": "code",
   "execution_count": 4,
   "metadata": {
    "colab": {},
    "colab_type": "code",
    "id": "NWlizQAvpoXV"
   },
   "outputs": [],
   "source": [
    "preprocessed_dir = Path(f'./CERT_output/')\n",
    "assert(preprocessed_dir.is_dir())"
   ]
  },
  {
   "cell_type": "code",
   "execution_count": 9,
   "metadata": {
    "colab": {
     "base_uri": "https://localhost:8080/",
     "height": 136
    },
    "colab_type": "code",
    "id": "Mvz4GoOpPPJ3",
    "outputId": "743de3c9-f466-4c6b-bdd1-9683e83ee5fd"
   },
   "outputs": [
    {
     "name": "stdout",
     "output_type": "stream",
     "text": [
      "logon\n",
      "http\n",
      "device\n",
      "email\n",
      "file\n"
     ]
    }
   ],
   "source": [
    "processed_files = ['logon_preprocessed.csv', 'http_preprocessed.csv','device_preprocessed.csv',\n",
    "                   'email_preprocessed.csv','file_preprocessed.csv']\n",
    "columns = ['id', 'date', 'user', 'is_usual_pc', 'is_work_time', 'subtype']\n",
    "temp_df = []\n",
    "\n",
    "for file in processed_files:\n",
    "    temp_df.append(pd.read_csv(preprocessed_dir/file),\n",
    "                   usecols = columns)"
   ]
  },
  {
   "cell_type": "code",
   "execution_count": 10,
   "metadata": {
    "colab": {
     "base_uri": "https://localhost:8080/",
     "height": 153
    },
    "colab_type": "code",
    "id": "PW1RANh-POi_",
    "outputId": "20075e9e-6767-4210-e121-bac8f8cfe6ba"
   },
   "outputs": [
    {
     "data": {
      "text/plain": [
       "id              58960449\n",
       "date                   0\n",
       "user                   0\n",
       "is_usual_pc            0\n",
       "is_work_time           0\n",
       "subtype                0\n",
       "type                   0\n",
       "dtype: int64"
      ]
     },
     "execution_count": 10,
     "metadata": {},
     "output_type": "execute_result"
    }
   ],
   "source": [
    "df = pd.concat(temp_df, axis=0)\n",
    "df.isna().sum()"
   ]
  },
  {
   "cell_type": "code",
   "execution_count": 11,
   "metadata": {
    "colab": {},
    "colab_type": "code",
    "id": "7oY4x_uehl2Y"
   },
   "outputs": [],
   "source": [
    "for temp in temp_df:\n",
    "    del temp"
   ]
  },
  {
   "cell_type": "code",
   "execution_count": 12,
   "metadata": {
    "colab": {
     "base_uri": "https://localhost:8080/",
     "height": 272
    },
    "colab_type": "code",
    "id": "ZJK3IiDwfOi-",
    "outputId": "5231bf79-2a75-4553-cc05-df920b4b02a2"
   },
   "outputs": [
    {
     "name": "stdout",
     "output_type": "stream",
     "text": [
      "Memory usage of dataframe is 3807.86MB\n",
      "id object\n",
      "date object\n",
      "user object\n",
      "\tNew dtype:   category\n",
      "is_usual_pc bool\n",
      "\tNew dtype:   float16\n",
      "is_work_time bool\n",
      "\tNew dtype:   float16\n",
      "subtype object\n",
      "\tNew dtype:   category\n",
      "type object\n",
      "\tNew dtype:   category\n",
      "Memory usage after optimization is: 2437.13MB\n",
      "Decreased by 36.0%\n"
     ]
    }
   ],
   "source": [
    "df = reduce_mem_usage(df, ignore_cols=['id', 'date'])"
   ]
  },
  {
   "cell_type": "code",
   "execution_count": 13,
   "metadata": {
    "colab": {},
    "colab_type": "code",
    "id": "68wtTIAJ2srT"
   },
   "outputs": [],
   "source": [
    "subtype_encoder = LabelEncoder()\n",
    "type_encoder = LabelEncoder()\n",
    "df.subtype = df.subtype.map(str)\n",
    "df['subtype'] = subtype_encoder.fit_transform(df['subtype'])\n",
    "df['type'] = type_encoder.fit_transform(df['type'])\n",
    "\n",
    "df['action_id'] = df.is_usual_pc.astype(np.int8) * 100 + df.is_work_time.astype(np.int8) * 10 + df.subtype\n",
    "df['date'] = pd.to_datetime(df.date, format='%Y/%m/%d %H:%M:%S')\n",
    "\n",
    "df = df[['id', 'date', 'user', 'action_id']]\n",
    "\n",
    "df.to_pickle(str(tmp_dir / \"df.pkl\"))\n",
    "del df"
   ]
  },
  {
   "cell_type": "code",
   "execution_count": 14,
   "metadata": {
    "colab": {
     "base_uri": "https://localhost:8080/",
     "height": 68
    },
    "colab_type": "code",
    "id": "brbOyidsqLoC",
    "outputId": "d91ce992-737a-49a6-a190-e0f51048706e"
   },
   "outputs": [
    {
     "name": "stdout",
     "output_type": "stream",
     "text": [
      "email\n",
      "file\n",
      "http\n"
     ]
    }
   ],
   "source": [
    "content_dir = Path(f'./CERT_output/')\n",
    "content_file = ['email_lda.csv', 'file_lda.csv', 'http_lda.csv']\n",
    "content_cols = ['id', 'content']\n",
    "temp_df = []\n",
    "\n",
    "for file in content_file:\n",
    "    df = pd.read_csv(content_dir/ file, usecols = content_cols)\n",
    "    df = reduce_mem_usage(df, ignore_cols=content_cols)\n",
    "    temp_df.append(df)"
   ]
  },
  {
   "cell_type": "code",
   "execution_count": 16,
   "metadata": {
    "colab": {},
    "colab_type": "code",
    "id": "uh8K4iKirbgb"
   },
   "outputs": [],
   "source": [
    "content_df = pd.concat(temp_df, axis=0)"
   ]
  },
  {
   "cell_type": "code",
   "execution_count": 17,
   "metadata": {
    "colab": {},
    "colab_type": "code",
    "id": "P05Cfsfltk9Y"
   },
   "outputs": [],
   "source": [
    "for df in temp_df:\n",
    "    del df"
   ]
  },
  {
   "cell_type": "code",
   "execution_count": 18,
   "metadata": {
    "colab": {
     "base_uri": "https://localhost:8080/",
     "height": 136
    },
    "colab_type": "code",
    "id": "HwnWS14ruCQk",
    "outputId": "370ae897-f772-46ee-ed7b-2352f18f3329"
   },
   "outputs": [
    {
     "name": "stdout",
     "output_type": "stream",
     "text": [
      "Memory usage of dataframe is 7580.96MB\n",
      "id object\n",
      "content object\n",
      "type object\n",
      "\tNew dtype:   category\n",
      "Memory usage after optimization is: 5922.62MB\n",
      "Decreased by 21.9%\n"
     ]
    }
   ],
   "source": [
    "content_df = reduce_mem_usage(content_df, ignore_cols=['id', 'content'])\n",
    "content_df.to_csv(str(tmp_dir / 'content_df.csv'))"
   ]
  },
  {
   "cell_type": "code",
   "execution_count": 5,
   "metadata": {
    "colab": {
     "base_uri": "https://localhost:8080/",
     "height": 34
    },
    "colab_type": "code",
    "id": "e82c1YNZxrsU",
    "outputId": "74cd9b36-4826-4484-c733-6c21999a858f",
    "pycharm": {
     "is_executing": true
    }
   },
   "outputs": [
    {
     "name": "stdout",
     "output_type": "stream",
     "text": [
      "[########################################] | 100% Completed |  9min 42.3s\n"
     ]
    }
   ],
   "source": [
    "content_df = dd.read_csv(str(tmp_dir / 'content_df.csv'))\\\n",
    "    .set_index('id').drop('Unnamed: 0', axis=1)\n",
    "df = pd.read_pickle(str(tmp_dir / \"df.pkl\"))\n",
    "\n",
    "# Merge the csv files.\n",
    "df = dd.merge(content_df, df, how='inner', on=['id'])"
   ]
  },
  {
   "cell_type": "code",
   "execution_count": null,
   "metadata": {
    "colab": {
     "base_uri": "https://localhost:8080/",
     "height": 221
    },
    "colab_type": "code",
    "id": "eb-rBktKSFh8",
    "outputId": "468ce4ea-5a08-4ae9-f55b-b6036b0c494d",
    "pycharm": {
     "is_executing": true
    }
   },
   "outputs": [
    {
     "name": "stderr",
     "output_type": "stream",
     "text": [
      "/usr/local/lib/python3.7/site-packages/ipykernel_launcher.py:5: UserWarning: `meta` is not specified, inferred from partial data. Please provide `meta` if the result is unexpected.\n",
      "  Before: .apply(func)\n",
      "  After:  .apply(func, meta={'x': 'f8', 'y': 'f8'}) for dataframe result\n",
      "  or:     .apply(func, meta=('x', 'f8'))            for series result\n",
      "  \"\"\"\n",
      "/usr/local/lib/python3.7/site-packages/ipykernel_launcher.py:7: UserWarning: `meta` is not specified, inferred from partial data. Please provide `meta` if the result is unexpected.\n",
      "  Before: .apply(func)\n",
      "  After:  .apply(func, meta={'x': 'f8', 'y': 'f8'}) for dataframe result\n",
      "  or:     .apply(func, meta=('x', 'f8'))            for series result\n",
      "  import sys\n"
     ]
    },
    {
     "name": "stdout",
     "output_type": "stream",
     "text": [
      "[#########                               ] | 24% Completed |  1hr 24min  0.1s"
     ]
    }
   ],
   "source": [
    "df = df.reset_index().drop(['index', 'type'], axis=1)\n",
    "df['day'] = df.date.dt.floor('D')\n",
    "df.set_index('date')\n",
    "\n",
    "action_id_lists = df.groupby(['user', 'day'], sort=True)\\\n",
    "    ['action_id'].apply(list)\n",
    "\n",
    "content_lists = df.groupby(['user', 'day'], sort=True)\\\n",
    "    ['content'].apply(list)\n",
    "\n",
    "action_id_lists = action_id_lists.reset_index()\n",
    "content_lists = content_lists.reset_index()\n",
    "\n",
    "df_merged = dd.merge(action_id_lists, content_lists, how='inner', on=['user', 'day'])\n",
    "df_merged.to_csv(str(tmp_dir / \"merged_df.csv\"), index=False, single_file=True)"
   ]
  },
  {
   "cell_type": "code",
   "execution_count": null,
   "metadata": {
    "colab": {},
    "colab_type": "code",
    "id": "OiezHs8Mhu0H",
    "pycharm": {
     "is_executing": true
    }
   },
   "outputs": [],
   "source": [
    "main_df = pd.read_csv(answers_file)\n",
    "main_df = main_df[main_df['dataset'].astype(str) ==\n",
    "                  str(dataset_version)].drop(['dataset', 'details'], axis=1)"
   ]
  },
  {
   "cell_type": "code",
   "execution_count": null,
   "metadata": {
    "colab": {},
    "colab_type": "code",
    "id": "nTRw40BZluLu",
    "pycharm": {
     "is_executing": true
    }
   },
   "outputs": [],
   "source": [
    "df = pd.read_csv(str(tmp_dir / \"merged_df.csv\"))\n",
    "df = df.merge(main_df, left_on='user', right_on='user', how='left')\n",
    "df = df.drop(['start', 'end', 'day', 'user'], axis=1)\n",
    "df.to_csv(str(tmp_dir / 'merged_answers_df.csv'), index=False)"
   ]
  },
  {
   "cell_type": "code",
   "execution_count": null,
   "metadata": {
    "colab": {
     "base_uri": "https://localhost:8080/",
     "height": 170
    },
    "colab_type": "code",
    "id": "yqAzHpBVJJnh",
    "outputId": "0953a868-7544-4eda-d7c6-b397bebd8f44",
    "pycharm": {
     "is_executing": true
    }
   },
   "outputs": [],
   "source": [
    "df = pd.read_csv(str(tmp_dir / 'merged_answers_df.csv'),)\n",
    "df = reduce_mem_usage(df, ignore_cols=['action_id', 'content'])"
   ]
  },
  {
   "cell_type": "code",
   "execution_count": null,
   "outputs": [],
   "source": [
    "import ast\n",
    "from scipy.sparse import csc_matrix\n",
    "\n",
    "for idx, row in df.iterrows():\n",
    "    content = ast.literal_eval(row.content)\n",
    "    content = csc_matrix((len(content), TOPIC_NUM))\n",
    "\n",
    "    for action_id, action in enumerate(content):\n",
    "        for topic, probability in ast.literal_eval(action):\n",
    "            content[action_id, topic] = probability\n",
    "\n",
    "    action_id = ast.literal_eval(row.action_id)\n",
    "\n",
    "    df.at[idx,'action_id'] = action_id\n",
    "    df.at[idx,'content'] = content\n",
    "\n",
    "df.to_pickle('final.pkl')"
   ],
   "metadata": {
    "collapsed": false,
    "pycharm": {
     "name": "#%%\n"
    }
   }
  },
  {
   "cell_type": "code",
   "execution_count": null,
   "metadata": {
    "colab": {},
    "colab_type": "code",
    "id": "0x42nIiQ7Heq",
    "pycharm": {
     "is_executing": true,
     "name": "#%%\n"
    }
   },
   "outputs": [],
   "source": [
    "df = df.sort_values(['user', 'date'])\n",
    "df = df.reset_index().drop(['index', 'date'], axis=1)\n",
    "df = df.groupby(['user', 'day'], sort=False, as_index=True).agg(list)\n",
    "df.to_pickle(\"merged.pkl\")\n"
   ]
  }
 ],
 "metadata": {
  "colab": {
   "authorship_tag": "ABX9TyMWcP5Ks+JTRCmuQBzaE6NI",
   "collapsed_sections": [
    "5rWTDPYs_3HV"
   ],
   "name": "CERT-batching.ipynb",
   "provenance": [],
   "toc_visible": true
  },
  "kernelspec": {
   "display_name": "Python 3",
   "language": "python",
   "name": "python3"
  },
  "language_info": {
   "codemirror_mode": {
    "name": "ipython",
    "version": 3
   },
   "file_extension": ".py",
   "mimetype": "text/x-python",
   "name": "python",
   "nbconvert_exporter": "python",
   "pygments_lexer": "ipython3",
   "version": "3.7.6"
  }
 },
 "nbformat": 4,
 "nbformat_minor": 1
}