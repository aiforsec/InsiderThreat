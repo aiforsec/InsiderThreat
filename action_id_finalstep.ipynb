{
 "cells": [
  {
   "cell_type": "markdown",
   "metadata": {
    "collapsed": true,
    "pycharm": {
     "name": "#%% md\n"
    }
   },
   "source": [
    "# pre processing all current raw data for action id process (Step 4, 5,6)\n",
    "    steps:\n",
    "    1 - Organize all files by user (with related information)\n",
    "    2 - merge all related files per user\n",
    "    3 - sort by timestamp\n",
    "    4 - **decide the certain \"action key\"(exp. 1:login 2:longoff)**\n",
    "    5 - **break the log into action keys (origional using auto-generated non-repeat num ID with parsed log type)**\n",
    "    6 - **new line while \"logoff\" (origional using block_id which not exist here)**"
   ]
  },
  {
   "cell_type": "code",
   "execution_count": 21,
   "metadata": {
    "pycharm": {
     "name": "#%%\n"
    }
   },
   "outputs": [],
   "source": [
    "import numpy as np\n",
    "import pandas as pd\n",
    "import os\n",
    "from tqdm import tqdm\n",
    "\n",
    "LDAP_dir = \"./r5.2/LDAP\"\n",
    "Processed_dir = \"./pre_processed\"\n",
    "result_dir = \"./processed_log\"\n",
    "temp_test = \"./test_final_raw.csv\""
   ]
  },
  {
   "cell_type": "code",
   "execution_count": 22,
   "metadata": {
    "pycharm": {
     "name": "#%%\n"
    }
   },
   "outputs": [],
   "source": [
    "#\"action key\" the element of LogKey\n",
    "ACTION_DIR = {\"Logon\": \"1\",\n",
    "              \"Logoff\": \"2\",\n",
    "              \"Connect\": \"3\",\n",
    "              \"Disconnect\": \"4\",\n",
    "              \"http\": \"5\",\n",
    "              \"file\": \"6\",\n",
    "              \"email\": \"7\"}"
   ]
  },
  {
   "cell_type": "code",
   "execution_count": 23,
   "metadata": {
    "pycharm": {
     "name": "#%%\n"
    }
   },
   "outputs": [
    {
     "data": {
      "text/plain": "'7'"
     },
     "execution_count": 23,
     "metadata": {},
     "output_type": "execute_result"
    }
   ],
   "source": [
    "ACTION_DIR[\"email\"]"
   ]
  },
  {
   "cell_type": "markdown",
   "metadata": {
    "pycharm": {
     "name": "#%% md\n"
    }
   },
   "source": [
    "test with one user"
   ]
  },
  {
   "cell_type": "code",
   "execution_count": 24,
   "metadata": {
    "pycharm": {
     "name": "#%%\n"
    }
   },
   "outputs": [
    {
     "data": {
      "text/plain": "       Unnamed: 0                 date  action\n0               0  01/01/2010 08:04:00   Logon\n1               1  01/01/2010 20:03:00  Logoff\n2               2  01/02/2010 07:53:00   Logon\n3               3  01/02/2010 12:18:06   Logon\n4               4  01/02/2010 20:02:00  Logoff\n5               5  01/04/2010 08:04:00   Logon\n6               6  01/04/2010 20:08:00  Logoff\n7               7  01/05/2010 08:02:00   Logon\n8               8  01/05/2010 13:41:00   Logon\n9               9  01/05/2010 19:55:00  Logoff\n10             10  01/06/2010 08:01:00   Logon\n11             11  01/06/2010 11:58:15   Logon\n12             12  01/06/2010 19:56:00  Logoff\n13             13  01/07/2010 07:56:00   Logon\n14             14  01/07/2010 08:32:02   Logon\n15             15  01/07/2010 08:48:31  Logoff\n16             16  01/07/2010 11:27:00   Logon\n17             17  01/07/2010 20:13:00  Logoff\n18             18  01/08/2010 07:54:00   Logon\n19             19  01/08/2010 10:50:06   Logon\n20             20  01/08/2010 19:57:00  Logoff\n21             21  01/11/2010 08:03:00   Logon\n22             22  01/11/2010 11:30:57   Logon\n23             23  01/11/2010 20:03:00  Logoff\n24             24  01/12/2010 07:59:00   Logon\n25             25  01/12/2010 13:46:25   Logon\n26             26  01/12/2010 19:57:00  Logoff\n27             27  01/13/2010 08:01:00   Logon\n28             28  01/13/2010 11:34:56   Logon\n29             29  01/13/2010 19:57:00  Logoff\n...           ...                  ...     ...\n29513        4629  05/11/2011 09:22:33   email\n29514        4630  05/11/2011 09:28:00   email\n29515        4631  05/11/2011 09:40:52   email\n29516        4632  05/11/2011 09:48:38   email\n29517        4633  05/11/2011 10:01:39   email\n29518        4634  05/11/2011 10:48:57   email\n29519        4635  05/11/2011 10:58:12   email\n29520        4636  05/12/2011 11:26:43   email\n29521        4637  05/12/2011 11:54:51   email\n29522        4638  05/12/2011 13:02:32   email\n29523        4639  05/12/2011 13:10:24   email\n29524        4640  05/12/2011 13:51:21   email\n29525        4641  05/12/2011 14:13:53   email\n29526        4642  05/12/2011 14:41:25   email\n29527        4643  05/12/2011 14:44:13   email\n29528        4644  05/12/2011 15:31:50   email\n29529        4645  05/12/2011 16:53:09   email\n29530        4646  05/12/2011 18:59:53   email\n29531        4647  05/12/2011 19:06:53   email\n29532        4648  05/12/2011 19:42:02   email\n29533        4649  05/13/2011 08:45:38   email\n29534        4650  05/13/2011 13:27:01   email\n29535        4651  05/13/2011 14:57:00   email\n29536        4652  05/13/2011 16:05:14   email\n29537        4653  05/13/2011 17:26:49   email\n29538        4654  05/13/2011 17:42:33   email\n29539        4655  05/13/2011 17:48:05   email\n29540        4656  05/13/2011 18:37:57   email\n29541        4657  05/13/2011 18:49:19   email\n29542        4658  05/13/2011 19:58:34   email\n\n[29543 rows x 3 columns]",
      "text/html": "<div>\n<style scoped>\n    .dataframe tbody tr th:only-of-type {\n        vertical-align: middle;\n    }\n\n    .dataframe tbody tr th {\n        vertical-align: top;\n    }\n\n    .dataframe thead th {\n        text-align: right;\n    }\n</style>\n<table border=\"1\" class=\"dataframe\">\n  <thead>\n    <tr style=\"text-align: right;\">\n      <th></th>\n      <th>Unnamed: 0</th>\n      <th>date</th>\n      <th>action</th>\n    </tr>\n  </thead>\n  <tbody>\n    <tr>\n      <th>0</th>\n      <td>0</td>\n      <td>01/01/2010 08:04:00</td>\n      <td>Logon</td>\n    </tr>\n    <tr>\n      <th>1</th>\n      <td>1</td>\n      <td>01/01/2010 20:03:00</td>\n      <td>Logoff</td>\n    </tr>\n    <tr>\n      <th>2</th>\n      <td>2</td>\n      <td>01/02/2010 07:53:00</td>\n      <td>Logon</td>\n    </tr>\n    <tr>\n      <th>3</th>\n      <td>3</td>\n      <td>01/02/2010 12:18:06</td>\n      <td>Logon</td>\n    </tr>\n    <tr>\n      <th>4</th>\n      <td>4</td>\n      <td>01/02/2010 20:02:00</td>\n      <td>Logoff</td>\n    </tr>\n    <tr>\n      <th>5</th>\n      <td>5</td>\n      <td>01/04/2010 08:04:00</td>\n      <td>Logon</td>\n    </tr>\n    <tr>\n      <th>6</th>\n      <td>6</td>\n      <td>01/04/2010 20:08:00</td>\n      <td>Logoff</td>\n    </tr>\n    <tr>\n      <th>7</th>\n      <td>7</td>\n      <td>01/05/2010 08:02:00</td>\n      <td>Logon</td>\n    </tr>\n    <tr>\n      <th>8</th>\n      <td>8</td>\n      <td>01/05/2010 13:41:00</td>\n      <td>Logon</td>\n    </tr>\n    <tr>\n      <th>9</th>\n      <td>9</td>\n      <td>01/05/2010 19:55:00</td>\n      <td>Logoff</td>\n    </tr>\n    <tr>\n      <th>10</th>\n      <td>10</td>\n      <td>01/06/2010 08:01:00</td>\n      <td>Logon</td>\n    </tr>\n    <tr>\n      <th>11</th>\n      <td>11</td>\n      <td>01/06/2010 11:58:15</td>\n      <td>Logon</td>\n    </tr>\n    <tr>\n      <th>12</th>\n      <td>12</td>\n      <td>01/06/2010 19:56:00</td>\n      <td>Logoff</td>\n    </tr>\n    <tr>\n      <th>13</th>\n      <td>13</td>\n      <td>01/07/2010 07:56:00</td>\n      <td>Logon</td>\n    </tr>\n    <tr>\n      <th>14</th>\n      <td>14</td>\n      <td>01/07/2010 08:32:02</td>\n      <td>Logon</td>\n    </tr>\n    <tr>\n      <th>15</th>\n      <td>15</td>\n      <td>01/07/2010 08:48:31</td>\n      <td>Logoff</td>\n    </tr>\n    <tr>\n      <th>16</th>\n      <td>16</td>\n      <td>01/07/2010 11:27:00</td>\n      <td>Logon</td>\n    </tr>\n    <tr>\n      <th>17</th>\n      <td>17</td>\n      <td>01/07/2010 20:13:00</td>\n      <td>Logoff</td>\n    </tr>\n    <tr>\n      <th>18</th>\n      <td>18</td>\n      <td>01/08/2010 07:54:00</td>\n      <td>Logon</td>\n    </tr>\n    <tr>\n      <th>19</th>\n      <td>19</td>\n      <td>01/08/2010 10:50:06</td>\n      <td>Logon</td>\n    </tr>\n    <tr>\n      <th>20</th>\n      <td>20</td>\n      <td>01/08/2010 19:57:00</td>\n      <td>Logoff</td>\n    </tr>\n    <tr>\n      <th>21</th>\n      <td>21</td>\n      <td>01/11/2010 08:03:00</td>\n      <td>Logon</td>\n    </tr>\n    <tr>\n      <th>22</th>\n      <td>22</td>\n      <td>01/11/2010 11:30:57</td>\n      <td>Logon</td>\n    </tr>\n    <tr>\n      <th>23</th>\n      <td>23</td>\n      <td>01/11/2010 20:03:00</td>\n      <td>Logoff</td>\n    </tr>\n    <tr>\n      <th>24</th>\n      <td>24</td>\n      <td>01/12/2010 07:59:00</td>\n      <td>Logon</td>\n    </tr>\n    <tr>\n      <th>25</th>\n      <td>25</td>\n      <td>01/12/2010 13:46:25</td>\n      <td>Logon</td>\n    </tr>\n    <tr>\n      <th>26</th>\n      <td>26</td>\n      <td>01/12/2010 19:57:00</td>\n      <td>Logoff</td>\n    </tr>\n    <tr>\n      <th>27</th>\n      <td>27</td>\n      <td>01/13/2010 08:01:00</td>\n      <td>Logon</td>\n    </tr>\n    <tr>\n      <th>28</th>\n      <td>28</td>\n      <td>01/13/2010 11:34:56</td>\n      <td>Logon</td>\n    </tr>\n    <tr>\n      <th>29</th>\n      <td>29</td>\n      <td>01/13/2010 19:57:00</td>\n      <td>Logoff</td>\n    </tr>\n    <tr>\n      <th>...</th>\n      <td>...</td>\n      <td>...</td>\n      <td>...</td>\n    </tr>\n    <tr>\n      <th>29513</th>\n      <td>4629</td>\n      <td>05/11/2011 09:22:33</td>\n      <td>email</td>\n    </tr>\n    <tr>\n      <th>29514</th>\n      <td>4630</td>\n      <td>05/11/2011 09:28:00</td>\n      <td>email</td>\n    </tr>\n    <tr>\n      <th>29515</th>\n      <td>4631</td>\n      <td>05/11/2011 09:40:52</td>\n      <td>email</td>\n    </tr>\n    <tr>\n      <th>29516</th>\n      <td>4632</td>\n      <td>05/11/2011 09:48:38</td>\n      <td>email</td>\n    </tr>\n    <tr>\n      <th>29517</th>\n      <td>4633</td>\n      <td>05/11/2011 10:01:39</td>\n      <td>email</td>\n    </tr>\n    <tr>\n      <th>29518</th>\n      <td>4634</td>\n      <td>05/11/2011 10:48:57</td>\n      <td>email</td>\n    </tr>\n    <tr>\n      <th>29519</th>\n      <td>4635</td>\n      <td>05/11/2011 10:58:12</td>\n      <td>email</td>\n    </tr>\n    <tr>\n      <th>29520</th>\n      <td>4636</td>\n      <td>05/12/2011 11:26:43</td>\n      <td>email</td>\n    </tr>\n    <tr>\n      <th>29521</th>\n      <td>4637</td>\n      <td>05/12/2011 11:54:51</td>\n      <td>email</td>\n    </tr>\n    <tr>\n      <th>29522</th>\n      <td>4638</td>\n      <td>05/12/2011 13:02:32</td>\n      <td>email</td>\n    </tr>\n    <tr>\n      <th>29523</th>\n      <td>4639</td>\n      <td>05/12/2011 13:10:24</td>\n      <td>email</td>\n    </tr>\n    <tr>\n      <th>29524</th>\n      <td>4640</td>\n      <td>05/12/2011 13:51:21</td>\n      <td>email</td>\n    </tr>\n    <tr>\n      <th>29525</th>\n      <td>4641</td>\n      <td>05/12/2011 14:13:53</td>\n      <td>email</td>\n    </tr>\n    <tr>\n      <th>29526</th>\n      <td>4642</td>\n      <td>05/12/2011 14:41:25</td>\n      <td>email</td>\n    </tr>\n    <tr>\n      <th>29527</th>\n      <td>4643</td>\n      <td>05/12/2011 14:44:13</td>\n      <td>email</td>\n    </tr>\n    <tr>\n      <th>29528</th>\n      <td>4644</td>\n      <td>05/12/2011 15:31:50</td>\n      <td>email</td>\n    </tr>\n    <tr>\n      <th>29529</th>\n      <td>4645</td>\n      <td>05/12/2011 16:53:09</td>\n      <td>email</td>\n    </tr>\n    <tr>\n      <th>29530</th>\n      <td>4646</td>\n      <td>05/12/2011 18:59:53</td>\n      <td>email</td>\n    </tr>\n    <tr>\n      <th>29531</th>\n      <td>4647</td>\n      <td>05/12/2011 19:06:53</td>\n      <td>email</td>\n    </tr>\n    <tr>\n      <th>29532</th>\n      <td>4648</td>\n      <td>05/12/2011 19:42:02</td>\n      <td>email</td>\n    </tr>\n    <tr>\n      <th>29533</th>\n      <td>4649</td>\n      <td>05/13/2011 08:45:38</td>\n      <td>email</td>\n    </tr>\n    <tr>\n      <th>29534</th>\n      <td>4650</td>\n      <td>05/13/2011 13:27:01</td>\n      <td>email</td>\n    </tr>\n    <tr>\n      <th>29535</th>\n      <td>4651</td>\n      <td>05/13/2011 14:57:00</td>\n      <td>email</td>\n    </tr>\n    <tr>\n      <th>29536</th>\n      <td>4652</td>\n      <td>05/13/2011 16:05:14</td>\n      <td>email</td>\n    </tr>\n    <tr>\n      <th>29537</th>\n      <td>4653</td>\n      <td>05/13/2011 17:26:49</td>\n      <td>email</td>\n    </tr>\n    <tr>\n      <th>29538</th>\n      <td>4654</td>\n      <td>05/13/2011 17:42:33</td>\n      <td>email</td>\n    </tr>\n    <tr>\n      <th>29539</th>\n      <td>4655</td>\n      <td>05/13/2011 17:48:05</td>\n      <td>email</td>\n    </tr>\n    <tr>\n      <th>29540</th>\n      <td>4656</td>\n      <td>05/13/2011 18:37:57</td>\n      <td>email</td>\n    </tr>\n    <tr>\n      <th>29541</th>\n      <td>4657</td>\n      <td>05/13/2011 18:49:19</td>\n      <td>email</td>\n    </tr>\n    <tr>\n      <th>29542</th>\n      <td>4658</td>\n      <td>05/13/2011 19:58:34</td>\n      <td>email</td>\n    </tr>\n  </tbody>\n</table>\n<p>29543 rows × 3 columns</p>\n</div>"
     },
     "execution_count": 24,
     "metadata": {},
     "output_type": "execute_result"
    }
   ],
   "source": [
    "test_file = pd.read_csv(temp_test)\n",
    "test_file\n",
    "# test_file.shape()"
   ]
  },
  {
   "cell_type": "code",
   "execution_count": 25,
   "metadata": {
    "pycharm": {
     "name": "#%%\n"
    }
   },
   "outputs": [
    {
     "data": {
      "text/plain": "                      date  action\n0      01/01/2010 08:04:00   Logon\n1      01/01/2010 20:03:00  Logoff\n2      01/02/2010 07:53:00   Logon\n3      01/02/2010 12:18:06   Logon\n4      01/02/2010 20:02:00  Logoff\n5      01/04/2010 08:04:00   Logon\n6      01/04/2010 20:08:00  Logoff\n7      01/05/2010 08:02:00   Logon\n8      01/05/2010 13:41:00   Logon\n9      01/05/2010 19:55:00  Logoff\n10     01/06/2010 08:01:00   Logon\n11     01/06/2010 11:58:15   Logon\n12     01/06/2010 19:56:00  Logoff\n13     01/07/2010 07:56:00   Logon\n14     01/07/2010 08:32:02   Logon\n15     01/07/2010 08:48:31  Logoff\n16     01/07/2010 11:27:00   Logon\n17     01/07/2010 20:13:00  Logoff\n18     01/08/2010 07:54:00   Logon\n19     01/08/2010 10:50:06   Logon\n20     01/08/2010 19:57:00  Logoff\n21     01/11/2010 08:03:00   Logon\n22     01/11/2010 11:30:57   Logon\n23     01/11/2010 20:03:00  Logoff\n24     01/12/2010 07:59:00   Logon\n25     01/12/2010 13:46:25   Logon\n26     01/12/2010 19:57:00  Logoff\n27     01/13/2010 08:01:00   Logon\n28     01/13/2010 11:34:56   Logon\n29     01/13/2010 19:57:00  Logoff\n...                    ...     ...\n29513  05/11/2011 09:22:33   email\n29514  05/11/2011 09:28:00   email\n29515  05/11/2011 09:40:52   email\n29516  05/11/2011 09:48:38   email\n29517  05/11/2011 10:01:39   email\n29518  05/11/2011 10:48:57   email\n29519  05/11/2011 10:58:12   email\n29520  05/12/2011 11:26:43   email\n29521  05/12/2011 11:54:51   email\n29522  05/12/2011 13:02:32   email\n29523  05/12/2011 13:10:24   email\n29524  05/12/2011 13:51:21   email\n29525  05/12/2011 14:13:53   email\n29526  05/12/2011 14:41:25   email\n29527  05/12/2011 14:44:13   email\n29528  05/12/2011 15:31:50   email\n29529  05/12/2011 16:53:09   email\n29530  05/12/2011 18:59:53   email\n29531  05/12/2011 19:06:53   email\n29532  05/12/2011 19:42:02   email\n29533  05/13/2011 08:45:38   email\n29534  05/13/2011 13:27:01   email\n29535  05/13/2011 14:57:00   email\n29536  05/13/2011 16:05:14   email\n29537  05/13/2011 17:26:49   email\n29538  05/13/2011 17:42:33   email\n29539  05/13/2011 17:48:05   email\n29540  05/13/2011 18:37:57   email\n29541  05/13/2011 18:49:19   email\n29542  05/13/2011 19:58:34   email\n\n[29543 rows x 2 columns]",
      "text/html": "<div>\n<style scoped>\n    .dataframe tbody tr th:only-of-type {\n        vertical-align: middle;\n    }\n\n    .dataframe tbody tr th {\n        vertical-align: top;\n    }\n\n    .dataframe thead th {\n        text-align: right;\n    }\n</style>\n<table border=\"1\" class=\"dataframe\">\n  <thead>\n    <tr style=\"text-align: right;\">\n      <th></th>\n      <th>date</th>\n      <th>action</th>\n    </tr>\n  </thead>\n  <tbody>\n    <tr>\n      <th>0</th>\n      <td>01/01/2010 08:04:00</td>\n      <td>Logon</td>\n    </tr>\n    <tr>\n      <th>1</th>\n      <td>01/01/2010 20:03:00</td>\n      <td>Logoff</td>\n    </tr>\n    <tr>\n      <th>2</th>\n      <td>01/02/2010 07:53:00</td>\n      <td>Logon</td>\n    </tr>\n    <tr>\n      <th>3</th>\n      <td>01/02/2010 12:18:06</td>\n      <td>Logon</td>\n    </tr>\n    <tr>\n      <th>4</th>\n      <td>01/02/2010 20:02:00</td>\n      <td>Logoff</td>\n    </tr>\n    <tr>\n      <th>5</th>\n      <td>01/04/2010 08:04:00</td>\n      <td>Logon</td>\n    </tr>\n    <tr>\n      <th>6</th>\n      <td>01/04/2010 20:08:00</td>\n      <td>Logoff</td>\n    </tr>\n    <tr>\n      <th>7</th>\n      <td>01/05/2010 08:02:00</td>\n      <td>Logon</td>\n    </tr>\n    <tr>\n      <th>8</th>\n      <td>01/05/2010 13:41:00</td>\n      <td>Logon</td>\n    </tr>\n    <tr>\n      <th>9</th>\n      <td>01/05/2010 19:55:00</td>\n      <td>Logoff</td>\n    </tr>\n    <tr>\n      <th>10</th>\n      <td>01/06/2010 08:01:00</td>\n      <td>Logon</td>\n    </tr>\n    <tr>\n      <th>11</th>\n      <td>01/06/2010 11:58:15</td>\n      <td>Logon</td>\n    </tr>\n    <tr>\n      <th>12</th>\n      <td>01/06/2010 19:56:00</td>\n      <td>Logoff</td>\n    </tr>\n    <tr>\n      <th>13</th>\n      <td>01/07/2010 07:56:00</td>\n      <td>Logon</td>\n    </tr>\n    <tr>\n      <th>14</th>\n      <td>01/07/2010 08:32:02</td>\n      <td>Logon</td>\n    </tr>\n    <tr>\n      <th>15</th>\n      <td>01/07/2010 08:48:31</td>\n      <td>Logoff</td>\n    </tr>\n    <tr>\n      <th>16</th>\n      <td>01/07/2010 11:27:00</td>\n      <td>Logon</td>\n    </tr>\n    <tr>\n      <th>17</th>\n      <td>01/07/2010 20:13:00</td>\n      <td>Logoff</td>\n    </tr>\n    <tr>\n      <th>18</th>\n      <td>01/08/2010 07:54:00</td>\n      <td>Logon</td>\n    </tr>\n    <tr>\n      <th>19</th>\n      <td>01/08/2010 10:50:06</td>\n      <td>Logon</td>\n    </tr>\n    <tr>\n      <th>20</th>\n      <td>01/08/2010 19:57:00</td>\n      <td>Logoff</td>\n    </tr>\n    <tr>\n      <th>21</th>\n      <td>01/11/2010 08:03:00</td>\n      <td>Logon</td>\n    </tr>\n    <tr>\n      <th>22</th>\n      <td>01/11/2010 11:30:57</td>\n      <td>Logon</td>\n    </tr>\n    <tr>\n      <th>23</th>\n      <td>01/11/2010 20:03:00</td>\n      <td>Logoff</td>\n    </tr>\n    <tr>\n      <th>24</th>\n      <td>01/12/2010 07:59:00</td>\n      <td>Logon</td>\n    </tr>\n    <tr>\n      <th>25</th>\n      <td>01/12/2010 13:46:25</td>\n      <td>Logon</td>\n    </tr>\n    <tr>\n      <th>26</th>\n      <td>01/12/2010 19:57:00</td>\n      <td>Logoff</td>\n    </tr>\n    <tr>\n      <th>27</th>\n      <td>01/13/2010 08:01:00</td>\n      <td>Logon</td>\n    </tr>\n    <tr>\n      <th>28</th>\n      <td>01/13/2010 11:34:56</td>\n      <td>Logon</td>\n    </tr>\n    <tr>\n      <th>29</th>\n      <td>01/13/2010 19:57:00</td>\n      <td>Logoff</td>\n    </tr>\n    <tr>\n      <th>...</th>\n      <td>...</td>\n      <td>...</td>\n    </tr>\n    <tr>\n      <th>29513</th>\n      <td>05/11/2011 09:22:33</td>\n      <td>email</td>\n    </tr>\n    <tr>\n      <th>29514</th>\n      <td>05/11/2011 09:28:00</td>\n      <td>email</td>\n    </tr>\n    <tr>\n      <th>29515</th>\n      <td>05/11/2011 09:40:52</td>\n      <td>email</td>\n    </tr>\n    <tr>\n      <th>29516</th>\n      <td>05/11/2011 09:48:38</td>\n      <td>email</td>\n    </tr>\n    <tr>\n      <th>29517</th>\n      <td>05/11/2011 10:01:39</td>\n      <td>email</td>\n    </tr>\n    <tr>\n      <th>29518</th>\n      <td>05/11/2011 10:48:57</td>\n      <td>email</td>\n    </tr>\n    <tr>\n      <th>29519</th>\n      <td>05/11/2011 10:58:12</td>\n      <td>email</td>\n    </tr>\n    <tr>\n      <th>29520</th>\n      <td>05/12/2011 11:26:43</td>\n      <td>email</td>\n    </tr>\n    <tr>\n      <th>29521</th>\n      <td>05/12/2011 11:54:51</td>\n      <td>email</td>\n    </tr>\n    <tr>\n      <th>29522</th>\n      <td>05/12/2011 13:02:32</td>\n      <td>email</td>\n    </tr>\n    <tr>\n      <th>29523</th>\n      <td>05/12/2011 13:10:24</td>\n      <td>email</td>\n    </tr>\n    <tr>\n      <th>29524</th>\n      <td>05/12/2011 13:51:21</td>\n      <td>email</td>\n    </tr>\n    <tr>\n      <th>29525</th>\n      <td>05/12/2011 14:13:53</td>\n      <td>email</td>\n    </tr>\n    <tr>\n      <th>29526</th>\n      <td>05/12/2011 14:41:25</td>\n      <td>email</td>\n    </tr>\n    <tr>\n      <th>29527</th>\n      <td>05/12/2011 14:44:13</td>\n      <td>email</td>\n    </tr>\n    <tr>\n      <th>29528</th>\n      <td>05/12/2011 15:31:50</td>\n      <td>email</td>\n    </tr>\n    <tr>\n      <th>29529</th>\n      <td>05/12/2011 16:53:09</td>\n      <td>email</td>\n    </tr>\n    <tr>\n      <th>29530</th>\n      <td>05/12/2011 18:59:53</td>\n      <td>email</td>\n    </tr>\n    <tr>\n      <th>29531</th>\n      <td>05/12/2011 19:06:53</td>\n      <td>email</td>\n    </tr>\n    <tr>\n      <th>29532</th>\n      <td>05/12/2011 19:42:02</td>\n      <td>email</td>\n    </tr>\n    <tr>\n      <th>29533</th>\n      <td>05/13/2011 08:45:38</td>\n      <td>email</td>\n    </tr>\n    <tr>\n      <th>29534</th>\n      <td>05/13/2011 13:27:01</td>\n      <td>email</td>\n    </tr>\n    <tr>\n      <th>29535</th>\n      <td>05/13/2011 14:57:00</td>\n      <td>email</td>\n    </tr>\n    <tr>\n      <th>29536</th>\n      <td>05/13/2011 16:05:14</td>\n      <td>email</td>\n    </tr>\n    <tr>\n      <th>29537</th>\n      <td>05/13/2011 17:26:49</td>\n      <td>email</td>\n    </tr>\n    <tr>\n      <th>29538</th>\n      <td>05/13/2011 17:42:33</td>\n      <td>email</td>\n    </tr>\n    <tr>\n      <th>29539</th>\n      <td>05/13/2011 17:48:05</td>\n      <td>email</td>\n    </tr>\n    <tr>\n      <th>29540</th>\n      <td>05/13/2011 18:37:57</td>\n      <td>email</td>\n    </tr>\n    <tr>\n      <th>29541</th>\n      <td>05/13/2011 18:49:19</td>\n      <td>email</td>\n    </tr>\n    <tr>\n      <th>29542</th>\n      <td>05/13/2011 19:58:34</td>\n      <td>email</td>\n    </tr>\n  </tbody>\n</table>\n<p>29543 rows × 2 columns</p>\n</div>"
     },
     "execution_count": 25,
     "metadata": {},
     "output_type": "execute_result"
    }
   ],
   "source": [
    "test_file = test_file.drop(columns=[\"Unnamed: 0\"])\n",
    "test_file"
   ]
  },
  {
   "cell_type": "code",
   "execution_count": 26,
   "metadata": {
    "pycharm": {
     "name": "#%%\n"
    }
   },
   "outputs": [],
   "source": [
    "test_file = test_file.sort_values(by=['date'])"
   ]
  },
  {
   "cell_type": "code",
   "execution_count": 27,
   "metadata": {
    "pycharm": {
     "name": "#%%\n"
    }
   },
   "outputs": [
    {
     "name": "stderr",
     "output_type": "stream",
     "text": [
      "29543it [00:02, 14200.26it/s]\n"
     ]
    }
   ],
   "source": [
    "with open(\"./test_logKey.txt\",\"w\") as out_file:\n",
    "    for _, row in tqdm(test_file.iterrows()):\n",
    "        out_file.writelines(ACTION_DIR[row.action]+' ')\n",
    "        if row.action == \"Logoff\":\n",
    "            out_file.writelines('\\n')"
   ]
  },
  {
   "cell_type": "code",
   "execution_count": 27,
   "metadata": {
    "pycharm": {
     "name": "#%%\n"
    }
   },
   "outputs": [],
   "source": [
    "\n"
   ]
  }
 ],
 "metadata": {
  "kernelspec": {
   "display_name": "Python 3",
   "language": "python",
   "name": "python3"
  },
  "language_info": {
   "codemirror_mode": {
    "name": "ipython",
    "version": 3
   },
   "file_extension": ".py",
   "mimetype": "text/x-python",
   "name": "python",
   "nbconvert_exporter": "python",
   "pygments_lexer": "ipython3",
   "version": "3.7.6"
  }
 },
 "nbformat": 4,
 "nbformat_minor": 1
}
