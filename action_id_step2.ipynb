{
 "cells": [
  {
   "cell_type": "markdown",
   "metadata": {
    "collapsed": true,
    "pycharm": {
     "name": "#%% md\n"
    }
   },
   "source": [
    "# pre processing all current raw data for action id process\n",
    "    steps:\n",
    "    1 - devide all files by user (with related information)\n",
    "    2 - **merge each user's all related files**\n",
    "    3 - **sort by timestamp**\n",
    "    4 - decide the certain \"action key\"(exp. 1:login 2:longoff)\n",
    "    5 - break the log into action keys (origional using auto-generated non-repeat num ID with parsed log type)\n",
    "    6 - new line while \"logoff\" (origional using block_id which not exist here)"
   ]
  },
  {
   "cell_type": "code",
   "execution_count": 1,
   "metadata": {
    "pycharm": {
     "name": "#%%\n"
    }
   },
   "outputs": [],
   "source": [
    "import numpy as np\n",
    "import pandas as pd\n",
    "import os\n",
    "from tqdm import tqdm\n",
    "\n",
    "LDAP_dir = \"./r5.2/LDAP\"\n",
    "Processed_dir = \"./pre_processed\"\n",
    "result_dir = \"./processed_log\""
   ]
  },
  {
   "cell_type": "code",
   "execution_count": 2,
   "metadata": {
    "pycharm": {
     "name": "#%%\n"
    }
   },
   "outputs": [
    {
     "name": "stdout",
     "output_type": "stream",
     "text": [
      "(1000, 9)\n",
      "            employee_name  user_id                            email  \\\n",
      "0      Sara Indigo Berger  SIB0825      Sara.Indigo.Berger@dtaa.com   \n",
      "1       Nerea Ingrid Good  NIG0433       Nerea.Ingrid.Good@dtaa.com   \n",
      "2     Maggy Maryam Newman  MMN0579     Maggy.Maryam.Newman@dtaa.com   \n",
      "3      Asher Lucas Daniel  ALD0521      Asher.Lucas.Daniel@dtaa.com   \n",
      "4  Jael Phyllis Contreras  JPC0464  Jael.Phyllis.Contreras@dtaa.com   \n",
      "\n",
      "                   role  business_unit             functional_unit  \\\n",
      "0              Salesman              1       5 - SalesAndMarketing   \n",
      "1  ProductionLineWorker              1           3 - Manufacturing   \n",
      "2              Salesman              1       5 - SalesAndMarketing   \n",
      "3         Mathematician              1  2 - ResearchAndEngineering   \n",
      "4              Salesman              1       5 - SalesAndMarketing   \n",
      "\n",
      "     department               team                supervisor  \n",
      "0     2 - Sales  5 - RegionalSales       Regan Kirestin Frye  \n",
      "1  3 - Assembly   2 - AssemblyDept           Hilel Colt Rush  \n",
      "2     2 - Sales  3 - RegionalSales       Dorian Dominic Burt  \n",
      "3  1 - Research            3 - Lab   Elizabeth Josephine Gay  \n",
      "4     2 - Sales  2 - RegionalSales  Brandon Vladimir Vaughan  \n",
      "(1000, 9)\n"
     ]
    }
   ],
   "source": [
    "# get LDAP name list for matching user and email\n",
    "\n",
    "LDAP_files = []\n",
    "for _, _, file in os.walk(LDAP_dir):\n",
    "    LDAP_files.append(file)\n",
    "LDAP_files = np.array(LDAP_files)\n",
    "LDAP_files = np.squeeze(LDAP_files)\n",
    "\n",
    "user_file = pd.read_csv(os.path.join(LDAP_dir, LDAP_files[0]))\n",
    "print(user_file.shape)\n",
    "print(user_file.head(5))\n",
    "\n",
    "for file in LDAP_files:\n",
    "    temp = pd.read_csv(os.path.join(LDAP_dir, file))\n",
    "    temp = temp[~temp.user_id.isin(user_file.user_id)]\n",
    "    user_file = user_file.append(temp)\n",
    "print(user_file.shape)"
   ]
  },
  {
   "cell_type": "code",
   "execution_count": 8,
   "metadata": {
    "pycharm": {
     "name": "#%%\n"
    }
   },
   "outputs": [],
   "source": [
    "def show(file):\n",
    "    print(\"shape is \",file.shape)\n",
    "\n",
    "    print(\"\\nindex and top 5 rows\")\n",
    "    print(file.head(5))"
   ]
  },
  {
   "cell_type": "code",
   "execution_count": 9,
   "metadata": {
    "pycharm": {
     "name": "#%%\n"
    }
   },
   "outputs": [
    {
     "name": "stdout",
     "output_type": "stream",
     "text": [
      "shape is  (1000, 2)\n",
      "\n",
      "index and top 5 rows\n",
      "   user_id                            email\n",
      "0  SIB0825      Sara.Indigo.Berger@dtaa.com\n",
      "1  NIG0433       Nerea.Ingrid.Good@dtaa.com\n",
      "2  MMN0579     Maggy.Maryam.Newman@dtaa.com\n",
      "3  ALD0521      Asher.Lucas.Daniel@dtaa.com\n",
      "4  JPC0464  Jael.Phyllis.Contreras@dtaa.com\n"
     ]
    }
   ],
   "source": [
    "user_file = user_file.drop(columns=[\"employee_name\",\"role\",\"business_unit\",\"functional_unit\",\"department\",\"team\",\"supervisor\"])\n",
    "show(user_file)"
   ]
  },
  {
   "cell_type": "code",
   "execution_count": 38,
   "metadata": {
    "pycharm": {
     "name": "#%%\n"
    }
   },
   "outputs": [],
   "source": [
    "def get_email_by_id(df, id):\n",
    "    return df[(df['user_id'] == id)].email.to_string().split()[1]\n"
   ]
  },
  {
   "cell_type": "code",
   "execution_count": 39,
   "metadata": {
    "pycharm": {
     "name": "#%%\n"
    }
   },
   "outputs": [
    {
     "data": {
      "text/plain": [
       "'Sara.Indigo.Berger@dtaa.com'"
      ]
     },
     "execution_count": 39,
     "metadata": {},
     "output_type": "execute_result"
    }
   ],
   "source": [
    "# then test we can use the id to query email address\n",
    "get_email_by_id(user_file, \"SIB0825\")"
   ]
  },
  {
   "cell_type": "markdown",
   "metadata": {
    "pycharm": {
     "name": "#%% md\n"
    }
   },
   "source": [
    "test for one user"
   ]
  },
  {
   "cell_type": "code",
   "execution_count": 42,
   "metadata": {
    "pycharm": {
     "name": "#%%\n"
    }
   },
   "outputs": [
    {
     "data": {
      "text/plain": [
       "[['logon_file.csv', 'http_file.csv', 'file_file.csv', 'device_file.csv']]"
      ]
     },
     "execution_count": 42,
     "metadata": {},
     "output_type": "execute_result"
    }
   ],
   "source": [
    "test_user_id  = \"TDG0203\"\n",
    "file_list = []\n",
    "for _, _, file in os.walk(Processed_dir+'/'+test_user_id):\n",
    "    file_list.append(file)\n",
    "file_list"
   ]
  },
  {
   "cell_type": "code",
   "execution_count": null,
   "metadata": {
    "pycharm": {
     "name": "#%%\n"
    }
   },
   "outputs": [],
   "source": [
    "test_email = get_email_by_id(user_file, test_user_id)\n",
    "test_email"
   ]
  },
  {
   "cell_type": "code",
   "execution_count": 48,
   "metadata": {
    "pycharm": {
     "name": "#%%\n"
    }
   },
   "outputs": [
    {
     "name": "stdout",
     "output_type": "stream",
     "text": [
      "shape is  (4659, 2)\n",
      "\n",
      "index and top 5 rows\n",
      "                  date                          from\n",
      "0  01/01/2010 11:18:17  Thomas.Dale.Gilbert@dtaa.com\n",
      "1  01/01/2010 12:12:10  Thomas.Dale.Gilbert@dtaa.com\n",
      "2  01/01/2010 13:30:56  Thomas.Dale.Gilbert@dtaa.com\n",
      "3  01/01/2010 13:41:15  Thomas.Dale.Gilbert@dtaa.com\n",
      "4  01/01/2010 13:55:07  Thomas.Dale.Gilbert@dtaa.com\n"
     ]
    }
   ],
   "source": [
    "test_email_file = Processed_dir+'/'+test_email+\"/email_file.csv\"\n",
    "email_file = pd.read_csv(test_email_file)\n",
    "show(email_file)"
   ]
  },
  {
   "cell_type": "code",
   "execution_count": 54,
   "metadata": {
    "pycharm": {
     "name": "#%%\n"
    }
   },
   "outputs": [],
   "source": [
    "email_file = email_file.drop(columns=[\"from\"])"
   ]
  },
  {
   "cell_type": "code",
   "execution_count": 55,
   "metadata": {
    "pycharm": {
     "name": "#%%\n"
    }
   },
   "outputs": [],
   "source": [
    "email_file['action'] = \"email\""
   ]
  },
  {
   "cell_type": "code",
   "execution_count": 56,
   "metadata": {
    "pycharm": {
     "name": "#%%\n"
    }
   },
   "outputs": [
    {
     "name": "stdout",
     "output_type": "stream",
     "text": [
      "shape is  (4659, 2)\n",
      "\n",
      "index and top 5 rows\n",
      "                  date action\n",
      "0  01/01/2010 11:18:17  email\n",
      "1  01/01/2010 12:12:10  email\n",
      "2  01/01/2010 13:30:56  email\n",
      "3  01/01/2010 13:41:15  email\n",
      "4  01/01/2010 13:55:07  email\n"
     ]
    }
   ],
   "source": [
    "show(email_file)\n",
    "\n"
   ]
  },
  {
   "cell_type": "code",
   "execution_count": 64,
   "metadata": {
    "pycharm": {
     "name": "#%%\n"
    }
   },
   "outputs": [],
   "source": [
    "logon_file = pd.read_csv(Processed_dir+'/'+test_user_id+'/'+file_list[0][0])\n",
    "http_file = pd.read_csv(Processed_dir+'/'+test_user_id+'/'+file_list[0][1])\n",
    "file_file = pd.read_csv(Processed_dir+'/'+test_user_id+'/'+file_list[0][2])\n",
    "device_file = pd.read_csv(Processed_dir+'/'+test_user_id+'/'+file_list[0][3])"
   ]
  },
  {
   "cell_type": "code",
   "execution_count": 65,
   "metadata": {
    "pycharm": {
     "name": "#%%\n"
    }
   },
   "outputs": [
    {
     "name": "stdout",
     "output_type": "stream",
     "text": [
      "shape is  (1156, 3)\n",
      "\n",
      "index and top 5 rows\n",
      "                  date     user activity\n",
      "0  01/01/2010 08:04:00  TDG0203    Logon\n",
      "1  01/01/2010 20:03:00  TDG0203   Logoff\n",
      "2  01/02/2010 07:53:00  TDG0203    Logon\n",
      "3  01/02/2010 12:18:06  TDG0203    Logon\n",
      "4  01/02/2010 20:02:00  TDG0203   Logoff\n"
     ]
    }
   ],
   "source": [
    "show(logon_file)"
   ]
  },
  {
   "cell_type": "code",
   "execution_count": 67,
   "metadata": {
    "pycharm": {
     "name": "#%%\n"
    }
   },
   "outputs": [
    {
     "name": "stdout",
     "output_type": "stream",
     "text": [
      "shape is  (1156, 2)\n",
      "\n",
      "index and top 5 rows\n",
      "                  date activity\n",
      "0  01/01/2010 08:04:00    Logon\n",
      "1  01/01/2010 20:03:00   Logoff\n",
      "2  01/02/2010 07:53:00    Logon\n",
      "3  01/02/2010 12:18:06    Logon\n",
      "4  01/02/2010 20:02:00   Logoff\n"
     ]
    }
   ],
   "source": [
    "logon_file = logon_file.drop(columns='user')\n",
    "show(logon_file)"
   ]
  },
  {
   "cell_type": "code",
   "execution_count": 70,
   "metadata": {
    "pycharm": {
     "name": "#%%\n"
    }
   },
   "outputs": [
    {
     "name": "stdout",
     "output_type": "stream",
     "text": [
      "shape is  (1156, 2)\n",
      "\n",
      "index and top 5 rows\n",
      "                  date  action\n",
      "0  01/01/2010 08:04:00   Logon\n",
      "1  01/01/2010 20:03:00  Logoff\n",
      "2  01/02/2010 07:53:00   Logon\n",
      "3  01/02/2010 12:18:06   Logon\n",
      "4  01/02/2010 20:02:00  Logoff\n"
     ]
    }
   ],
   "source": [
    "logon_file = logon_file.rename(columns={'activity': 'action'})\n",
    "show(logon_file)"
   ]
  },
  {
   "cell_type": "code",
   "execution_count": 71,
   "metadata": {
    "pycharm": {
     "name": "#%%\n"
    }
   },
   "outputs": [
    {
     "name": "stdout",
     "output_type": "stream",
     "text": [
      "shape is  (21422, 2)\n",
      "\n",
      "index and top 5 rows\n",
      "                  date action\n",
      "0  01/01/2010 08:31:04   http\n",
      "1  01/01/2010 08:37:25   http\n",
      "2  01/01/2010 08:43:17   http\n",
      "3  01/01/2010 09:42:31   http\n",
      "4  01/01/2010 09:51:00   http\n"
     ]
    }
   ],
   "source": [
    "http_file = http_file.drop(columns='user')\n",
    "show(http_file)"
   ]
  },
  {
   "cell_type": "code",
   "execution_count": 72,
   "metadata": {
    "pycharm": {
     "name": "#%%\n"
    }
   },
   "outputs": [
    {
     "name": "stdout",
     "output_type": "stream",
     "text": [
      "shape is  (1488, 2)\n",
      "\n",
      "index and top 5 rows\n",
      "                  date action\n",
      "0  01/02/2010 16:18:15   file\n",
      "1  01/02/2010 16:40:19   file\n",
      "2  01/02/2010 17:14:00   file\n",
      "3  01/04/2010 09:19:32   file\n",
      "4  01/04/2010 09:51:23   file\n"
     ]
    }
   ],
   "source": [
    "file_file = file_file.drop(columns='user')\n",
    "show(file_file)"
   ]
  },
  {
   "cell_type": "code",
   "execution_count": 73,
   "metadata": {
    "pycharm": {
     "name": "#%%\n"
    }
   },
   "outputs": [
    {
     "name": "stdout",
     "output_type": "stream",
     "text": [
      "shape is  (818, 2)\n",
      "\n",
      "index and top 5 rows\n",
      "                  date    activity\n",
      "0  01/02/2010 15:44:35     Connect\n",
      "1  01/02/2010 17:53:47  Disconnect\n",
      "2  01/04/2010 09:18:20     Connect\n",
      "3  01/04/2010 12:35:28  Disconnect\n",
      "4  01/05/2010 17:25:52     Connect\n"
     ]
    }
   ],
   "source": [
    "device_file = device_file.drop(columns='user')\n",
    "show(device_file)"
   ]
  },
  {
   "cell_type": "code",
   "execution_count": 74,
   "metadata": {
    "pycharm": {
     "name": "#%%\n"
    }
   },
   "outputs": [
    {
     "name": "stdout",
     "output_type": "stream",
     "text": [
      "shape is  (818, 2)\n",
      "\n",
      "index and top 5 rows\n",
      "                  date      action\n",
      "0  01/02/2010 15:44:35     Connect\n",
      "1  01/02/2010 17:53:47  Disconnect\n",
      "2  01/04/2010 09:18:20     Connect\n",
      "3  01/04/2010 12:35:28  Disconnect\n",
      "4  01/05/2010 17:25:52     Connect\n"
     ]
    }
   ],
   "source": [
    "device_file = device_file.rename(columns={'activity': 'action'})\n",
    "show(device_file)"
   ]
  },
  {
   "cell_type": "code",
   "execution_count": 77,
   "metadata": {
    "pycharm": {
     "name": "#%%\n"
    }
   },
   "outputs": [
    {
     "name": "stdout",
     "output_type": "stream",
     "text": [
      "shape is  (29543, 2)\n",
      "\n",
      "index and top 5 rows\n",
      "                  date  action\n",
      "0  01/01/2010 08:04:00   Logon\n",
      "1  01/01/2010 20:03:00  Logoff\n",
      "2  01/02/2010 07:53:00   Logon\n",
      "3  01/02/2010 12:18:06   Logon\n",
      "4  01/02/2010 20:02:00  Logoff\n"
     ]
    }
   ],
   "source": [
    "final_df = logon_file.append(http_file).append(file_file).append(device_file).append(email_file)\n",
    "show(final_df)"
   ]
  },
  {
   "cell_type": "code",
   "execution_count": 78,
   "metadata": {
    "pycharm": {
     "name": "#%%\n"
    }
   },
   "outputs": [],
   "source": [
    "final_df.to_csv(\"./test_final_raw.csv\")\n"
   ]
  },
  {
   "cell_type": "code",
   "execution_count": null,
   "metadata": {
    "pycharm": {
     "name": "#%%\n"
    }
   },
   "outputs": [],
   "source": [
    "\n"
   ]
  }
 ],
 "metadata": {
  "kernelspec": {
   "display_name": "Python 3",
   "language": "python",
   "name": "python3"
  },
  "language_info": {
   "codemirror_mode": {
    "name": "ipython",
    "version": 3
   },
   "file_extension": ".py",
   "mimetype": "text/x-python",
   "name": "python",
   "nbconvert_exporter": "python",
   "pygments_lexer": "ipython3",
   "version": "3.7.6"
  }
 },
 "nbformat": 4,
 "nbformat_minor": 1
}