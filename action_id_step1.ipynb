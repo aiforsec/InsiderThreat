{
 "cells": [
  {
   "cell_type": "markdown",
   "metadata": {
    "pycharm": {
     "name": "#%% md\n"
    }
   },
   "source": [
    "# pre processing all current raw data for action id process\n",
    "    steps:\n",
    "    1 - **devide all files by user (with related information)**\n",
    "    2 - merge each user's all related files\n",
    "    3 - sort by timestamp\n",
    "    4 - decide the certain \"action key\"(exp. 1:login 2:longoff)\n",
    "    5 - break the log into action keys (origional using auto-generated non-repeat num ID with parsed log type)\n",
    "    6 - new line while \"logoff\" (origional using block_id which not exist here)"
   ]
  },
  {
   "cell_type": "code",
   "execution_count": 1,
   "metadata": {
    "pycharm": {
     "name": "#%%\n"
    }
   },
   "outputs": [],
   "source": [
    "import numpy as np\n",
    "import pandas as pd\n",
    "import os\n",
    "from tqdm import tqdm\n",
    "\n",
    "file_dir =\"./r5.2\" #5.2 clip smaller for test, while using 6.2 instead for\n",
    "LDAP_dir = \"./r5.2/LDAP\"\n",
    "Processed_dir = \"./pre_processed\"\n",
    "\n",
    "FILE_device = os.path.join(file_dir,\"device.csv\")\n",
    "FILE_file = os.path.join(file_dir,\"file.csv\")\n",
    "FILE_email = os.path.join(file_dir,\"email.csv\")\n",
    "FILE_http = os.path.join(file_dir,\"http.csv\")\n",
    "FILE_logon = os.path.join(file_dir,\"logon.csv\")\n",
    "FILE_psychometric = os.path.join(file_dir,\"psychometric.csv\")"
   ]
  },
  {
   "cell_type": "code",
   "execution_count": 2,
   "metadata": {
    "pycharm": {
     "name": "#%%\n"
    }
   },
   "outputs": [
    {
     "name": "stdout",
     "output_type": "stream",
     "text": [
      "(1000, 9)\n",
      "            employee_name  user_id                            email  \\\n",
      "0      Sara Indigo Berger  SIB0825      Sara.Indigo.Berger@dtaa.com   \n",
      "1       Nerea Ingrid Good  NIG0433       Nerea.Ingrid.Good@dtaa.com   \n",
      "2     Maggy Maryam Newman  MMN0579     Maggy.Maryam.Newman@dtaa.com   \n",
      "3      Asher Lucas Daniel  ALD0521      Asher.Lucas.Daniel@dtaa.com   \n",
      "4  Jael Phyllis Contreras  JPC0464  Jael.Phyllis.Contreras@dtaa.com   \n",
      "\n",
      "                   role  business_unit             functional_unit  \\\n",
      "0              Salesman              1       5 - SalesAndMarketing   \n",
      "1  ProductionLineWorker              1           3 - Manufacturing   \n",
      "2              Salesman              1       5 - SalesAndMarketing   \n",
      "3         Mathematician              1  2 - ResearchAndEngineering   \n",
      "4              Salesman              1       5 - SalesAndMarketing   \n",
      "\n",
      "     department               team                supervisor  \n",
      "0     2 - Sales  5 - RegionalSales       Regan Kirestin Frye  \n",
      "1  3 - Assembly   2 - AssemblyDept           Hilel Colt Rush  \n",
      "2     2 - Sales  3 - RegionalSales       Dorian Dominic Burt  \n",
      "3  1 - Research            3 - Lab   Elizabeth Josephine Gay  \n",
      "4     2 - Sales  2 - RegionalSales  Brandon Vladimir Vaughan  \n"
     ]
    }
   ],
   "source": [
    "#load and deal with LDAP files\n",
    "LDAP_files = []\n",
    "for _, _, file in os.walk(LDAP_dir):\n",
    "    LDAP_files.append(file)\n",
    "LDAP_files = np.array(LDAP_files)\n",
    "LDAP_files = np.squeeze(LDAP_files)\n",
    "\n",
    "user_file = pd.read_csv(os.path.join(LDAP_dir, LDAP_files[0]))\n",
    "print(user_file.shape)\n",
    "print(user_file.head(5))"
   ]
  },
  {
   "cell_type": "code",
   "execution_count": 3,
   "metadata": {
    "pycharm": {
     "name": "#%%\n"
    }
   },
   "outputs": [
    {
     "name": "stdout",
     "output_type": "stream",
     "text": [
      "(1000, 9)\n"
     ]
    }
   ],
   "source": [
    "#get all the non-repeate users in this dataset\n",
    "for file in LDAP_files:\n",
    "    temp = pd.read_csv(os.path.join(LDAP_dir, file))\n",
    "    temp = temp[~temp.user_id.isin(user_file.user_id)]\n",
    "    user_file = user_file.append(temp)\n",
    "print(user_file.shape)\n"
   ]
  },
  {
   "cell_type": "code",
   "execution_count": 4,
   "metadata": {
    "pycharm": {
     "name": "#%%\n"
    }
   },
   "outputs": [],
   "source": [
    "def show(file):\n",
    "    print(\"shape is \",file.shape)\n",
    "\n",
    "    print(\"\\nindex and top 5 rows\")\n",
    "    print(file.head(5))\n"
   ]
  },
  {
   "cell_type": "markdown",
   "metadata": {
    "pycharm": {
     "name": "#%% md\n"
    }
   },
   "source": [
    " step 1: split all files with their user id or other related information"
   ]
  },
  {
   "cell_type": "code",
   "execution_count": 2,
   "metadata": {
    "pycharm": {
     "name": "#%%\n"
    }
   },
   "outputs": [],
   "source": [
    "# split by userid and email and save under different folder.\n",
    "def split_and_save_by_column(df, column_name,suffix):\n",
    "    value_list = set(df[column_name].tolist())\n",
    "    # print(len(value_list))\n",
    "    # name = value_list.pop()\n",
    "    for name in tqdm(value_list):\n",
    "        temp_df = df[(df[column_name] == name)]\n",
    "        temp_out = Processed_dir+'/'+name\n",
    "        if not os.path.exists(temp_out):\n",
    "            os.mkdir(temp_out)\n",
    "        temp_path = Processed_dir+'/'+name+'/'+suffix+\".csv\"\n",
    "        temp_df.to_csv(temp_path, index=False)\n",
    "    print(\"file \"+suffix+\" split and saved\")\n",
    "        # show(temp_df)"
   ]
  },
  {
   "cell_type": "code",
   "execution_count": 12,
   "metadata": {
    "pycharm": {
     "name": "#%%\n"
    }
   },
   "outputs": [
    {
     "name": "stdout",
     "output_type": "stream",
     "text": [
      "shape is  (845351, 5)\n",
      "\n",
      "index and top 5 rows\n",
      "                         id                 date     user       pc activity\n",
      "0  {Q9R3-U1PE27LQ-2164BJLT}  01/01/2010 06:20:00  SLW0616  PC-0110    Logon\n",
      "1  {R1B6-S0LQ34EP-3361QPTV}  01/01/2010 06:28:00  RPM0600  PC-9164    Logon\n",
      "2  {Y3R9-H0JY37RA-5902HXNX}  01/01/2010 07:04:00  DAM0170  PC-1525    Logon\n",
      "3  {D5B1-I6BP26NF-3845HZNZ}  01/01/2010 07:23:00  WXW0044  PC-9422    Logon\n",
      "4  {I0N6-I9PB69SZ-5272SLAT}  01/01/2010 07:31:00  RLD0349  PC-1290    Logon\n"
     ]
    }
   ],
   "source": [
    "logon_file = pd.read_csv(FILE_logon)\n",
    "\n",
    "show(logon_file)"
   ]
  },
  {
   "cell_type": "code",
   "execution_count": 16,
   "metadata": {
    "pycharm": {
     "name": "#%%\n"
    }
   },
   "outputs": [
    {
     "name": "stdout",
     "output_type": "stream",
     "text": [
      "shape is  (845351, 3)\n",
      "\n",
      "index and top 5 rows\n",
      "                  date     user activity\n",
      "0  01/01/2010 06:20:00  SLW0616    Logon\n",
      "1  01/01/2010 06:28:00  RPM0600    Logon\n",
      "2  01/01/2010 07:04:00  DAM0170    Logon\n",
      "3  01/01/2010 07:23:00  WXW0044    Logon\n",
      "4  01/01/2010 07:31:00  RLD0349    Logon\n"
     ]
    }
   ],
   "source": [
    "logon_file = logon_file.drop(columns=[\"id\", \"pc\"])\n",
    "show(logon_file)"
   ]
  },
  {
   "cell_type": "code",
   "execution_count": 17,
   "metadata": {
    "pycharm": {
     "name": "#%%\n"
    }
   },
   "outputs": [],
   "source": [
    "split_and_save_by_column(logon_file, \"user\",\"logon_file\")"
   ]
  },
  {
   "cell_type": "code",
   "execution_count": 18,
   "metadata": {
    "pycharm": {
     "name": "#%%\n"
    }
   },
   "outputs": [],
   "source": [
    "del logon_file"
   ]
  },
  {
   "cell_type": "code",
   "execution_count": 42,
   "metadata": {
    "pycharm": {
     "name": "#%%\n"
    }
   },
   "outputs": [
    {
     "name": "stdout",
     "output_type": "stream",
     "text": [
      "shape is  (407908, 5)\n",
      "\n",
      "index and top 5 rows\n",
      "                         id                 date     user       pc    activity\n",
      "0  {R8N4-R8YE70QN-3287FCGL}  01/01/2010 06:46:40  RPM0600  PC-9164     Connect\n",
      "1  {S2M7-P6FL85EG-7721KZFG}  01/01/2010 07:33:10  RPM0600  PC-9164  Disconnect\n",
      "2  {T6E3-Z4ZI24WS-2427MCYM}  01/01/2010 07:59:59  RPM0600  PC-9164     Connect\n",
      "3  {U7O7-D2ZJ25RP-9120NPLP}  01/01/2010 08:02:14  WXW0044  PC-9422     Connect\n",
      "4  {F4W5-B9ID71RL-3407HBRZ}  01/01/2010 08:05:12  CSD0242  PC-8696     Connect\n"
     ]
    }
   ],
   "source": [
    "device_file = pd.read_csv(FILE_device)\n",
    "show(device_file)"
   ]
  },
  {
   "cell_type": "code",
   "execution_count": 43,
   "metadata": {
    "pycharm": {
     "name": "#%%\n"
    }
   },
   "outputs": [
    {
     "name": "stdout",
     "output_type": "stream",
     "text": [
      "shape is  (407908, 3)\n",
      "\n",
      "index and top 5 rows\n",
      "                  date     user    activity\n",
      "0  01/01/2010 06:46:40  RPM0600     Connect\n",
      "1  01/01/2010 07:33:10  RPM0600  Disconnect\n",
      "2  01/01/2010 07:59:59  RPM0600     Connect\n",
      "3  01/01/2010 08:02:14  WXW0044     Connect\n",
      "4  01/01/2010 08:05:12  CSD0242     Connect\n"
     ]
    }
   ],
   "source": [
    "device_file = device_file.drop(columns=[\"id\", \"pc\"])\n",
    "show(device_file)"
   ]
  },
  {
   "cell_type": "code",
   "execution_count": 44,
   "metadata": {
    "pycharm": {
     "name": "#%%\n"
    }
   },
   "outputs": [],
   "source": [
    "split_and_save_by_column(device_file,\"user\", \"device_file\")"
   ]
  },
  {
   "cell_type": "code",
   "execution_count": 45,
   "metadata": {
    "pycharm": {
     "name": "#%%\n"
    }
   },
   "outputs": [],
   "source": [
    "del device_file"
   ]
  },
  {
   "cell_type": "code",
   "execution_count": 39,
   "metadata": {
    "pycharm": {
     "name": "#%%\n"
    }
   },
   "outputs": [
    {
     "name": "stdout",
     "output_type": "stream",
     "text": [
      "shape is  (1975101, 7)\n",
      "\n",
      "index and top 5 rows\n",
      "                         id                 date  \\\n",
      "0  {D3T6-O8NM96KK-4228FZKP}  01/01/2010 07:27:08   \n",
      "1  {R8H5-R2ZW22KL-0377UBLJ}  01/01/2010 07:38:27   \n",
      "2  {N5A2-W5LE24AD-3983CXQJ}  01/01/2010 07:51:52   \n",
      "3  {Q6U5-T5YU54VK-2335CAKA}  01/01/2010 08:03:06   \n",
      "4  {D7N3-R3FO94ZV-8686YZYX}  01/01/2010 08:06:00   \n",
      "\n",
      "                                                  to  \\\n",
      "0  Quinn.Kaden.Rojas@dtaa.com;Kendall.Petra.Burne...   \n",
      "1  Ulysses.Marvin.Alvarado@dtaa.com;Adrian.Quenti...   \n",
      "2                      Adena.Guinevere.Diaz@dtaa.com   \n",
      "3  Sonia.Veda.Mclean@dtaa.com;Branden.Kirk.Aceved...   \n",
      "4                      Katell.Fiona.Swanson@dtaa.com   \n",
      "\n",
      "                             from   size  attachments  \\\n",
      "0    Dominic.Alvin.Moody@dtaa.com  22069            1   \n",
      "1   William.Xerxes.Wiley@dtaa.com  23398            0   \n",
      "2    Robert.Abdul.Weaver@dtaa.com  30045            0   \n",
      "3  Doris.Wynne.Cervantes@dtaa.com  42409            0   \n",
      "4    Courtney.Jena.Garza@dtaa.com  42409            5   \n",
      "\n",
      "                                             content  \n",
      "0  millman hulce schlamme jolla zucker scardino g...  \n",
      "1  precentor chantor relationship quadripartitus ...  \n",
      "2  illuminated mhr bingle bingle prudence smouts ...  \n",
      "3  paramore charcoal labruyere hypereides ctesicl...  \n",
      "4  touchdowns adimchinobe warley arrington echema...  \n"
     ]
    }
   ],
   "source": [
    "email_file = pd.read_csv(FILE_email)\n",
    "show(email_file)"
   ]
  },
  {
   "cell_type": "code",
   "execution_count": 40,
   "metadata": {
    "pycharm": {
     "name": "#%%\n"
    }
   },
   "outputs": [
    {
     "name": "stdout",
     "output_type": "stream",
     "text": [
      "shape is  (1975101, 2)\n",
      "\n",
      "index and top 5 rows\n",
      "                  date                            from\n",
      "0  01/01/2010 07:27:08    Dominic.Alvin.Moody@dtaa.com\n",
      "1  01/01/2010 07:38:27   William.Xerxes.Wiley@dtaa.com\n",
      "2  01/01/2010 07:51:52    Robert.Abdul.Weaver@dtaa.com\n",
      "3  01/01/2010 08:03:06  Doris.Wynne.Cervantes@dtaa.com\n",
      "4  01/01/2010 08:06:00    Courtney.Jena.Garza@dtaa.com\n"
     ]
    }
   ],
   "source": [
    "email_file = email_file.drop(columns=[\"id\",\"to\",\"size\",\"attachments\",\"content\"])\n",
    "show(email_file)"
   ]
  },
  {
   "cell_type": "code",
   "execution_count": 41,
   "metadata": {
    "pycharm": {
     "name": "#%%\n"
    }
   },
   "outputs": [],
   "source": [
    "split_and_save_by_column(email_file, \"from\", \"email_file\")\n",
    "del email_file"
   ]
  },
  {
   "cell_type": "code",
   "execution_count": null,
   "metadata": {
    "pycharm": {
     "name": "#%%\n"
    }
   },
   "outputs": [],
   "source": [
    "http_file = pd.read_csv(FILE_http)"
   ]
  },
  {
   "cell_type": "code",
   "execution_count": 4,
   "metadata": {
    "pycharm": {
     "name": "#%%\n"
    }
   },
   "outputs": [
    {
     "name": "stdout",
     "output_type": "stream",
     "text": [
      "shape is  (23845079, 6)\n",
      "\n",
      "index and top 5 rows\n",
      "                         id                 date     user       pc  \\\n",
      "0  {2N3E-0D01II40-FFMF3150}  01/01/2010 06:28:41  RPM0600  PC-9164   \n",
      "1  {6X2O-3U17ZL34-QLGR5009}  01/01/2010 06:30:19  SLW0616  PC-0110   \n",
      "2  {9W5R-9N45VM21-ABBK9764}  01/01/2010 06:31:31  RPM0600  PC-9164   \n",
      "3  {1H2R-5K40OD01-ESTK4218}  01/01/2010 06:34:58  RPM0600  PC-9164   \n",
      "4  {7L8R-1M62XA85-QSOO5286}  01/01/2010 06:45:27  RPM0600  PC-9164   \n",
      "\n",
      "                                                 url  \\\n",
      "0           http://facebook.com/Conatus/buridan.html   \n",
      "1  http://target.com/1952_Winter_Olympics/holmenk...   \n",
      "2   http://youtube.com/2004_World_Series/suppan.html   \n",
      "3  http://youtube.com/2004_World_Series/varitek.html   \n",
      "4    http://blogspot.com/Cyclura_nubila/cyclura.html   \n",
      "\n",
      "                                             content  \n",
      "0  paschal envying 1096 anselm sorcerer maternus ...  \n",
      "1  meulan anna chantor 1096 psalter casabiancas g...  \n",
      "2  meulan meulan anselm primi 1108 thurgot 1107 g...  \n",
      "3  dxxiv thurgot vacant quadripartitus rufus anse...  \n",
      "4  albano cathedral 1164 warelwast meulan sunitin...  \n"
     ]
    }
   ],
   "source": [
    "show(http_file)"
   ]
  },
  {
   "cell_type": "code",
   "execution_count": 5,
   "metadata": {
    "pycharm": {
     "name": "#%%\n"
    }
   },
   "outputs": [],
   "source": [
    "http_file = http_file.drop(columns=[\"id\",\"pc\",\"url\",\"content\"])"
   ]
  },
  {
   "cell_type": "code",
   "execution_count": 6,
   "metadata": {
    "pycharm": {
     "name": "#%%\n"
    }
   },
   "outputs": [
    {
     "name": "stdout",
     "output_type": "stream",
     "text": [
      "shape is  (23845079, 3)\n",
      "\n",
      "index and top 5 rows\n",
      "                  date     user action\n",
      "0  01/01/2010 06:28:41  RPM0600   http\n",
      "1  01/01/2010 06:30:19  SLW0616   http\n",
      "2  01/01/2010 06:31:31  RPM0600   http\n",
      "3  01/01/2010 06:34:58  RPM0600   http\n",
      "4  01/01/2010 06:45:27  RPM0600   http\n"
     ]
    }
   ],
   "source": [
    "http_file['action'] = \"http\"\n",
    "show(http_file)"
   ]
  },
  {
   "cell_type": "code",
   "execution_count": 7,
   "metadata": {
    "pycharm": {
     "name": "#%%\n"
    }
   },
   "outputs": [
    {
     "ename": "NameError",
     "evalue": "name 'split_and_save_by_column' is not defined",
     "output_type": "error",
     "traceback": [
      "\u001B[0;31m---------------------------------------------------------------------------\u001B[0m",
      "\u001B[0;31mNameError\u001B[0m                                 Traceback (most recent call last)",
      "\u001B[0;32m<ipython-input-7-902057d58963>\u001B[0m in \u001B[0;36m<module>\u001B[0;34m()\u001B[0m\n\u001B[1;32m      1\u001B[0m \u001B[0;34m\u001B[0m\u001B[0m\n\u001B[0;32m----> 2\u001B[0;31m \u001B[0msplit_and_save_by_column\u001B[0m\u001B[0;34m(\u001B[0m\u001B[0mhttp_file\u001B[0m\u001B[0;34m,\u001B[0m \u001B[0;34m\"user\"\u001B[0m\u001B[0;34m,\u001B[0m \u001B[0;34m\"http_file\"\u001B[0m\u001B[0;34m)\u001B[0m\u001B[0;34m\u001B[0m\u001B[0;34m\u001B[0m\u001B[0m\n\u001B[0m",
      "\u001B[0;31mNameError\u001B[0m: name 'split_and_save_by_column' is not defined"
     ]
    }
   ],
   "source": [
    "split_and_save_by_column(http_file, \"user\", \"http_file\")"
   ]
  },
  {
   "cell_type": "code",
   "execution_count": 11,
   "metadata": {
    "pycharm": {
     "name": "#%%\n"
    }
   },
   "outputs": [
    {
     "name": "stdout",
     "output_type": "stream",
     "text": [
      "shape is  (434769, 6)\n",
      "\n",
      "index and top 5 rows\n",
      "                         id                 date     user       pc  \\\n",
      "0  {M8R9-I5RI11PG-5467DBVR}  01/01/2010 06:51:00  RPM0600  PC-9164   \n",
      "1  {K7D4-F3MJ16HT-2340NUGJ}  01/01/2010 08:09:28  CSD0242  PC-8696   \n",
      "2  {B1G0-C3CC52KM-8002OOIA}  01/01/2010 08:17:52  CSD0242  PC-8696   \n",
      "3  {D7F8-W4CG21DB-5694PJWH}  01/01/2010 08:18:33  WXW0044  PC-9422   \n",
      "4  {B7Y6-R0HX46WQ-8863CNGR}  01/01/2010 08:20:17  CSD0242  PC-8696   \n",
      "\n",
      "       filename                                            content  \n",
      "0  5B9VCBIU.doc  D0-CF-11-E0-A1-B1-1A-E1 m45 adss arxiv 1128955...  \n",
      "1  1I1WA4EL.txt  58-38-59-4B barbiger detmoldii labillardire 97...  \n",
      "2  GSQEMB1R.doc  D0-CF-11-E0-A1-B1-1A-E1 rearers broody fattene...  \n",
      "3  RDAOYBUK.txt  4B-4E-43-54 alboin salona turisindus audoin el...  \n",
      "4  D92Z9FA8.pdf  25-50-44-46-2D wreckhouse till31122007 59 nia ...  \n"
     ]
    }
   ],
   "source": [
    "file_file = pd.read_csv(FILE_file)\n",
    "show(file_file)"
   ]
  },
  {
   "cell_type": "code",
   "execution_count": 12,
   "metadata": {
    "pycharm": {
     "name": "#%%\n"
    }
   },
   "outputs": [],
   "source": [
    "file_file = file_file.drop(columns=[\"id\",\"pc\", \"filename\",\"content\"])"
   ]
  },
  {
   "cell_type": "code",
   "execution_count": 14,
   "metadata": {
    "pycharm": {
     "name": "#%%\n"
    }
   },
   "outputs": [
    {
     "name": "stdout",
     "output_type": "stream",
     "text": [
      "shape is  (434769, 3)\n",
      "\n",
      "index and top 5 rows\n",
      "                  date     user action\n",
      "0  01/01/2010 06:51:00  RPM0600   file\n",
      "1  01/01/2010 08:09:28  CSD0242   file\n",
      "2  01/01/2010 08:17:52  CSD0242   file\n",
      "3  01/01/2010 08:18:33  WXW0044   file\n",
      "4  01/01/2010 08:20:17  CSD0242   file\n"
     ]
    }
   ],
   "source": [
    "file_file['action'] = \"file\"\n",
    "show(file_file)"
   ]
  },
  {
   "cell_type": "code",
   "execution_count": 15,
   "metadata": {
    "pycharm": {
     "name": "#%%\n"
    }
   },
   "outputs": [
    {
     "name": "stderr",
     "output_type": "stream",
     "text": [
      "100%|██████████| 219/219 [00:06<00:00, 32.27it/s]\n"
     ]
    },
    {
     "name": "stdout",
     "output_type": "stream",
     "text": [
      "file file_file split and saved\n"
     ]
    }
   ],
   "source": [
    "split_and_save_by_column(file_file,\"user\", \"file_file\")"
   ]
  },
  {
   "cell_type": "markdown",
   "metadata": {
    "pycharm": {
     "name": "#%% md\n"
    }
   },
   "source": [
    "step 1 done\n"
   ]
  }
 ],
 "metadata": {
  "kernelspec": {
   "display_name": "Python 3",
   "language": "python",
   "name": "python3"
  },
  "language_info": {
   "codemirror_mode": {
    "name": "ipython",
    "version": 3
   },
   "file_extension": ".py",
   "mimetype": "text/x-python",
   "name": "python",
   "nbconvert_exporter": "python",
   "pygments_lexer": "ipython3",
   "version": "3.7.6"
  }
 },
 "nbformat": 4,
 "nbformat_minor": 1
}